{
 "cells": [
  {
   "cell_type": "code",
   "execution_count": null,
   "id": "6bce4231-27bf-4880-92d0-0537f621fb65",
   "metadata": {},
   "outputs": [],
   "source": [
    "import pandas as pd"
   ]
  },
  {
   "cell_type": "code",
   "execution_count": null,
   "id": "f03b35d4-3b4d-426e-89a0-9f3c1c465333",
   "metadata": {},
   "outputs": [],
   "source": [
    "peaks = pd.read_csv(\"~/Hsf1/ChIP-Seq/macs2/ChIP_1M_peaks.narrowPeak\", \n",
    "                    delimiter='\\t',\n",
    "                   header=None)"
   ]
  },
  {
   "cell_type": "code",
   "execution_count": null,
   "id": "99d1a7d8-4836-4a61-a713-f649b7eada1b",
   "metadata": {},
   "outputs": [],
   "source": [
    "peaks"
   ]
  },
  {
   "cell_type": "code",
   "execution_count": null,
   "id": "e9d97cd7-fa8b-41a6-8e51-1363b97e22bd",
   "metadata": {},
   "outputs": [],
   "source": [
    "peaks = pd.read_csv(\"~/Hsf1/ChIP-Seq/macs2/ChIP_1M_peaks.xls\",\n",
    "                    delimiter='\\t',\n",
    "                    comment='#')"
   ]
  },
  {
   "cell_type": "code",
   "execution_count": null,
   "id": "d951f38e-ee73-4111-bc9a-6b828bbbb644",
   "metadata": {},
   "outputs": [],
   "source": [
    "peaks"
   ]
  },
  {
   "cell_type": "code",
   "execution_count": null,
   "id": "9fedb80e-6265-40c1-b99a-3aab63cb9d49",
   "metadata": {},
   "outputs": [],
   "source": [
    "peaks.sort_values(by=\"-log10(qvalue)\")"
   ]
  },
  {
   "cell_type": "code",
   "execution_count": null,
   "id": "e9bf023e-e87d-48b3-ae6e-93016bc9f929",
   "metadata": {},
   "outputs": [],
   "source": [
    "peaks.sort_values(by=\"fold_enrichment\")"
   ]
  },
  {
   "cell_type": "code",
   "execution_count": null,
   "id": "b1ce7ef5-14fe-4997-a60a-6d4c339a6c86",
   "metadata": {},
   "outputs": [],
   "source": []
  }
 ],
 "metadata": {
  "kernelspec": {
   "display_name": "Python 3 (ipykernel)",
   "language": "python",
   "name": "python3"
  },
  "language_info": {
   "codemirror_mode": {
    "name": "ipython",
    "version": 3
   },
   "file_extension": ".py",
   "mimetype": "text/x-python",
   "name": "python",
   "nbconvert_exporter": "python",
   "pygments_lexer": "ipython3",
   "version": "3.9.9"
  }
 },
 "nbformat": 4,
 "nbformat_minor": 5
}
