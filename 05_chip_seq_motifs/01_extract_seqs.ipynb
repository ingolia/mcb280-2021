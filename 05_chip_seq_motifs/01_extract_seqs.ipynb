{
 "cells": [
  {
   "cell_type": "markdown",
   "id": "ce839f5f-2f3a-4ded-8ae8-f801d0aec937",
   "metadata": {},
   "source": [
    "## Hsf1 binding motif\n",
    "\n",
    "We have a table of Hsf1 ChIP-Seq peaks, including the name of the chromosome and the position of the \"summit\" within the peak.\n",
    "\n",
    "In earlier classes, we learned how to read in the yeast genome sequence.\n",
    "\n",
    "Today, we'll look up the genome sequence around each ChIP-Seq summit and write our own Fasta-format file that we can use as input to MEME, the motif search tool."
   ]
  },
  {
   "cell_type": "markdown",
   "id": "a9f2fa86-2097-403f-ac7f-de93a08a9bba",
   "metadata": {},
   "source": [
    "We'll use pandas quite a bit here."
   ]
  },
  {
   "cell_type": "code",
   "execution_count": 2,
   "id": "66100c1b-641a-44e0-b2b3-10965086459c",
   "metadata": {},
   "outputs": [],
   "source": [
    "import pandas as pd"
   ]
  },
  {
   "cell_type": "markdown",
   "id": "d676768f-1a70-4e59-9ffb-1850a9a50ecb",
   "metadata": {},
   "source": [
    "We saw last time that the \"peaks\" file from MACS contained all the information we wanted, with nicely named columns.\n",
    "\n",
    "We'll read in the peaks file `ChIP_1M_peaks.xls` as a pandas `DataFrame` and store it in the `peaks` variable"
   ]
  },
  {
   "cell_type": "code",
   "execution_count": 3,
   "id": "392f5ada-5210-408a-9a8d-0c7ad95a9342",
   "metadata": {},
   "outputs": [],
   "source": [
    "peaks = pd.read_csv(\"macs2/ChIP_1M_peaks.xls\", comment='#', delimiter='\\t')"
   ]
  },
  {
   "cell_type": "markdown",
   "id": "e173528e-137b-47ea-9c26-bedfc9745df1",
   "metadata": {},
   "source": [
    "Use `sort_values()` to sort peaks according to their significance. Start with the most significant peak first, using the `ascending` parameter."
   ]
  },
  {
   "cell_type": "code",
   "execution_count": 4,
   "id": "6fdbc312-2784-48a5-8aed-cf04602f96f4",
   "metadata": {},
   "outputs": [],
   "source": [
    "peaks = peaks.sort_values(\"-log10(qvalue)\", ascending=False)"
   ]
  },
  {
   "cell_type": "markdown",
   "id": "0cf9a598-3ccb-4282-b88c-100de1e08652",
   "metadata": {},
   "source": [
    "We can use the `head` function to take only the \"best\" peaks. We'll test our code on the best 5 peaks from the mini ChIP-Seq data set here in class today."
   ]
  },
  {
   "cell_type": "code",
   "execution_count": 5,
   "id": "be2ff4c2-ddaa-4808-af81-50263568c9cf",
   "metadata": {},
   "outputs": [
    {
     "data": {
      "text/html": [
       "<div>\n",
       "<style scoped>\n",
       "    .dataframe tbody tr th:only-of-type {\n",
       "        vertical-align: middle;\n",
       "    }\n",
       "\n",
       "    .dataframe tbody tr th {\n",
       "        vertical-align: top;\n",
       "    }\n",
       "\n",
       "    .dataframe thead th {\n",
       "        text-align: right;\n",
       "    }\n",
       "</style>\n",
       "<table border=\"1\" class=\"dataframe\">\n",
       "  <thead>\n",
       "    <tr style=\"text-align: right;\">\n",
       "      <th></th>\n",
       "      <th>chr</th>\n",
       "      <th>start</th>\n",
       "      <th>end</th>\n",
       "      <th>length</th>\n",
       "      <th>abs_summit</th>\n",
       "      <th>pileup</th>\n",
       "      <th>-log10(pvalue)</th>\n",
       "      <th>fold_enrichment</th>\n",
       "      <th>-log10(qvalue)</th>\n",
       "      <th>name</th>\n",
       "    </tr>\n",
       "  </thead>\n",
       "  <tbody>\n",
       "    <tr>\n",
       "      <th>1</th>\n",
       "      <td>chrI</td>\n",
       "      <td>141519</td>\n",
       "      <td>141990</td>\n",
       "      <td>472</td>\n",
       "      <td>141773</td>\n",
       "      <td>105</td>\n",
       "      <td>88.3149</td>\n",
       "      <td>14.6006</td>\n",
       "      <td>81.2301</td>\n",
       "      <td>ChIP_1M_peak_2</td>\n",
       "    </tr>\n",
       "    <tr>\n",
       "      <th>82</th>\n",
       "      <td>chrXII</td>\n",
       "      <td>489785</td>\n",
       "      <td>490557</td>\n",
       "      <td>773</td>\n",
       "      <td>490213</td>\n",
       "      <td>86</td>\n",
       "      <td>69.5089</td>\n",
       "      <td>13.1420</td>\n",
       "      <td>64.4996</td>\n",
       "      <td>ChIP_1M_peak_83</td>\n",
       "    </tr>\n",
       "    <tr>\n",
       "      <th>47</th>\n",
       "      <td>chrVII</td>\n",
       "      <td>914828</td>\n",
       "      <td>915214</td>\n",
       "      <td>387</td>\n",
       "      <td>915020</td>\n",
       "      <td>59</td>\n",
       "      <td>54.4093</td>\n",
       "      <td>14.9254</td>\n",
       "      <td>49.9879</td>\n",
       "      <td>ChIP_1M_peak_48</td>\n",
       "    </tr>\n",
       "    <tr>\n",
       "      <th>36</th>\n",
       "      <td>chrVI</td>\n",
       "      <td>210186</td>\n",
       "      <td>210570</td>\n",
       "      <td>385</td>\n",
       "      <td>210372</td>\n",
       "      <td>53</td>\n",
       "      <td>50.5849</td>\n",
       "      <td>15.2542</td>\n",
       "      <td>46.2428</td>\n",
       "      <td>ChIP_1M_peak_37</td>\n",
       "    </tr>\n",
       "    <tr>\n",
       "      <th>44</th>\n",
       "      <td>chrVII</td>\n",
       "      <td>771903</td>\n",
       "      <td>772374</td>\n",
       "      <td>472</td>\n",
       "      <td>772134</td>\n",
       "      <td>48</td>\n",
       "      <td>38.9013</td>\n",
       "      <td>11.4486</td>\n",
       "      <td>34.7470</td>\n",
       "      <td>ChIP_1M_peak_45</td>\n",
       "    </tr>\n",
       "  </tbody>\n",
       "</table>\n",
       "</div>"
      ],
      "text/plain": [
       "       chr   start     end  length  abs_summit  pileup  -log10(pvalue)  \\\n",
       "1     chrI  141519  141990     472      141773     105         88.3149   \n",
       "82  chrXII  489785  490557     773      490213      86         69.5089   \n",
       "47  chrVII  914828  915214     387      915020      59         54.4093   \n",
       "36   chrVI  210186  210570     385      210372      53         50.5849   \n",
       "44  chrVII  771903  772374     472      772134      48         38.9013   \n",
       "\n",
       "    fold_enrichment  -log10(qvalue)             name  \n",
       "1           14.6006         81.2301   ChIP_1M_peak_2  \n",
       "82          13.1420         64.4996  ChIP_1M_peak_83  \n",
       "47          14.9254         49.9879  ChIP_1M_peak_48  \n",
       "36          15.2542         46.2428  ChIP_1M_peak_37  \n",
       "44          11.4486         34.7470  ChIP_1M_peak_45  "
      ]
     },
     "execution_count": 5,
     "metadata": {},
     "output_type": "execute_result"
    }
   ],
   "source": [
    "peaks.head(5)"
   ]
  },
  {
   "cell_type": "markdown",
   "id": "b11015db-56ad-4a56-be79-8362dbec6e10",
   "metadata": {},
   "source": [
    "We will extract the DNA sequence in a somewhat arbitrary window of ~100 base pairs, 50 on each side of the actual summit.\n",
    "\n",
    "To do this, define two new columns in the `peaks` data frame, one containing the start of the motif search region and the other containing the end of the region. We'll call these `motif_start` and `motif_end`"
   ]
  },
  {
   "cell_type": "code",
   "execution_count": 6,
   "id": "eb17e8b7-2fd7-482d-b3ab-7f218955f037",
   "metadata": {},
   "outputs": [
    {
     "data": {
      "text/html": [
       "<div>\n",
       "<style scoped>\n",
       "    .dataframe tbody tr th:only-of-type {\n",
       "        vertical-align: middle;\n",
       "    }\n",
       "\n",
       "    .dataframe tbody tr th {\n",
       "        vertical-align: top;\n",
       "    }\n",
       "\n",
       "    .dataframe thead th {\n",
       "        text-align: right;\n",
       "    }\n",
       "</style>\n",
       "<table border=\"1\" class=\"dataframe\">\n",
       "  <thead>\n",
       "    <tr style=\"text-align: right;\">\n",
       "      <th></th>\n",
       "      <th>chr</th>\n",
       "      <th>start</th>\n",
       "      <th>end</th>\n",
       "      <th>length</th>\n",
       "      <th>abs_summit</th>\n",
       "      <th>pileup</th>\n",
       "      <th>-log10(pvalue)</th>\n",
       "      <th>fold_enrichment</th>\n",
       "      <th>-log10(qvalue)</th>\n",
       "      <th>name</th>\n",
       "      <th>motif_start</th>\n",
       "      <th>motif_end</th>\n",
       "    </tr>\n",
       "  </thead>\n",
       "  <tbody>\n",
       "    <tr>\n",
       "      <th>1</th>\n",
       "      <td>chrI</td>\n",
       "      <td>141519</td>\n",
       "      <td>141990</td>\n",
       "      <td>472</td>\n",
       "      <td>141773</td>\n",
       "      <td>105</td>\n",
       "      <td>88.3149</td>\n",
       "      <td>14.6006</td>\n",
       "      <td>81.2301</td>\n",
       "      <td>ChIP_1M_peak_2</td>\n",
       "      <td>141723</td>\n",
       "      <td>141823</td>\n",
       "    </tr>\n",
       "    <tr>\n",
       "      <th>82</th>\n",
       "      <td>chrXII</td>\n",
       "      <td>489785</td>\n",
       "      <td>490557</td>\n",
       "      <td>773</td>\n",
       "      <td>490213</td>\n",
       "      <td>86</td>\n",
       "      <td>69.5089</td>\n",
       "      <td>13.1420</td>\n",
       "      <td>64.4996</td>\n",
       "      <td>ChIP_1M_peak_83</td>\n",
       "      <td>490163</td>\n",
       "      <td>490263</td>\n",
       "    </tr>\n",
       "    <tr>\n",
       "      <th>47</th>\n",
       "      <td>chrVII</td>\n",
       "      <td>914828</td>\n",
       "      <td>915214</td>\n",
       "      <td>387</td>\n",
       "      <td>915020</td>\n",
       "      <td>59</td>\n",
       "      <td>54.4093</td>\n",
       "      <td>14.9254</td>\n",
       "      <td>49.9879</td>\n",
       "      <td>ChIP_1M_peak_48</td>\n",
       "      <td>914970</td>\n",
       "      <td>915070</td>\n",
       "    </tr>\n",
       "    <tr>\n",
       "      <th>36</th>\n",
       "      <td>chrVI</td>\n",
       "      <td>210186</td>\n",
       "      <td>210570</td>\n",
       "      <td>385</td>\n",
       "      <td>210372</td>\n",
       "      <td>53</td>\n",
       "      <td>50.5849</td>\n",
       "      <td>15.2542</td>\n",
       "      <td>46.2428</td>\n",
       "      <td>ChIP_1M_peak_37</td>\n",
       "      <td>210322</td>\n",
       "      <td>210422</td>\n",
       "    </tr>\n",
       "    <tr>\n",
       "      <th>44</th>\n",
       "      <td>chrVII</td>\n",
       "      <td>771903</td>\n",
       "      <td>772374</td>\n",
       "      <td>472</td>\n",
       "      <td>772134</td>\n",
       "      <td>48</td>\n",
       "      <td>38.9013</td>\n",
       "      <td>11.4486</td>\n",
       "      <td>34.7470</td>\n",
       "      <td>ChIP_1M_peak_45</td>\n",
       "      <td>772084</td>\n",
       "      <td>772184</td>\n",
       "    </tr>\n",
       "  </tbody>\n",
       "</table>\n",
       "</div>"
      ],
      "text/plain": [
       "       chr   start     end  length  abs_summit  pileup  -log10(pvalue)  \\\n",
       "1     chrI  141519  141990     472      141773     105         88.3149   \n",
       "82  chrXII  489785  490557     773      490213      86         69.5089   \n",
       "47  chrVII  914828  915214     387      915020      59         54.4093   \n",
       "36   chrVI  210186  210570     385      210372      53         50.5849   \n",
       "44  chrVII  771903  772374     472      772134      48         38.9013   \n",
       "\n",
       "    fold_enrichment  -log10(qvalue)             name  motif_start  motif_end  \n",
       "1           14.6006         81.2301   ChIP_1M_peak_2       141723     141823  \n",
       "82          13.1420         64.4996  ChIP_1M_peak_83       490163     490263  \n",
       "47          14.9254         49.9879  ChIP_1M_peak_48       914970     915070  \n",
       "36          15.2542         46.2428  ChIP_1M_peak_37       210322     210422  \n",
       "44          11.4486         34.7470  ChIP_1M_peak_45       772084     772184  "
      ]
     },
     "execution_count": 6,
     "metadata": {},
     "output_type": "execute_result"
    }
   ],
   "source": [
    "peaks[\"motif_start\"] = peaks[\"abs_summit\"] - 50\n",
    "peaks[\"motif_end\"] = peaks[\"abs_summit\"] + 50\n",
    "peaks.head()"
   ]
  },
  {
   "cell_type": "markdown",
   "id": "b21af680-9480-4c2c-8506-a8a77ac4504a",
   "metadata": {},
   "source": [
    "We want to _loop_ over each row of the `DataFrame`.\n",
    "\n",
    "The `itertuples()` method gives us an iterator over the rows. Each row is a `namedtuple` with named fields taken from the column names in the DataFrame.\n",
    "\n",
    "To illustrate this, loop over each peak and print the name and the location (chromosome and start to end coordinates)."
   ]
  },
  {
   "cell_type": "code",
   "execution_count": 8,
   "id": "4408df82-d450-4f04-a120-790c2db89592",
   "metadata": {},
   "outputs": [
    {
     "name": "stdout",
     "output_type": "stream",
     "text": [
      "Peak ChIP_1M_peak_2 on chrom chrI starting at 141723 and ending at 141823\n",
      "Peak ChIP_1M_peak_83 on chrom chrXII starting at 490163 and ending at 490263\n",
      "Peak ChIP_1M_peak_48 on chrom chrVII starting at 914970 and ending at 915070\n",
      "Peak ChIP_1M_peak_37 on chrom chrVI starting at 210322 and ending at 210422\n",
      "Peak ChIP_1M_peak_45 on chrom chrVII starting at 772084 and ending at 772184\n"
     ]
    }
   ],
   "source": [
    "for peak in peaks.head().itertuples():\n",
    "    print('Peak {} on chrom {} starting at {} and ending at {}'\n",
    "          .format(peak.name, peak.chr, peak.motif_start, peak.motif_end))"
   ]
  },
  {
   "cell_type": "markdown",
   "id": "afd0e001-6600-4a89-a51f-20a44d2d6701",
   "metadata": {},
   "source": [
    "To extract the sequences from these regions of the genome, we need to refer back to the yeast genome sequence.\n",
    "\n",
    "Below, we import `SeqIO` from the `Bio` package.\n",
    "\n",
    "I've also provided the name of the fasta file of chromosome sequences.\n",
    "```\n",
    "chrom_file = '/home/jovyan/shared/MCB280A_data/S288C_R64-3-1/S288C_reference_sequence_R64-3-1_20210421.fsa'\n",
    "```"
   ]
  },
  {
   "cell_type": "code",
   "execution_count": 9,
   "id": "66a5beca-7afd-4b75-911e-53c1d1b98516",
   "metadata": {},
   "outputs": [],
   "source": [
    "from Bio import SeqIO\n",
    "\n",
    "chrom_file = '/home/jovyan/shared/MCB280A_data/S288C_R64-3-1/S288C_reference_sequence_R64-3-1_20210421.fsa'"
   ]
  },
  {
   "cell_type": "markdown",
   "id": "fb269835-0b9b-4827-a66a-f7140c8b3657",
   "metadata": {},
   "source": [
    "As a starting point, we'll extract the sequence for one _manually defined_ genomic region.\n",
    "```\n",
    "motif_chr = 'chrI'\n",
    "motif_start = 141723\n",
    "motif_end = 141823\n",
    "```\n",
    "\n",
    "We'll loop through each chromosome, test whether its name (the `.name` field) matches our chromosome of interest, and then slice out the desired region from the sequence (in the `.seq` field)."
   ]
  },
  {
   "cell_type": "code",
   "execution_count": 10,
   "id": "79a1acd4-d9fd-40cc-b96a-94e6a8378ca3",
   "metadata": {},
   "outputs": [
    {
     "name": "stdout",
     "output_type": "stream",
     "text": [
      "AAAATCTGGAGAAAAAACGCAAATGACAGCTTCTAAACGTTCCGTGTGCTTTCTTTCTAGAATGTTCTGGAAAGTTTACAACAATCCACAAGAACGAAAA\n"
     ]
    }
   ],
   "source": [
    "motif_chr = 'chrI'\n",
    "motif_start = 141723\n",
    "motif_end = 141823\n",
    "\n",
    "chroms = SeqIO.parse(chrom_file, 'fasta')\n",
    "for chrom in chroms:\n",
    "    if chrom.name == motif_chr:\n",
    "        site = chrom.seq[motif_start:motif_end]\n",
    "        print(str(site))"
   ]
  },
  {
   "cell_type": "markdown",
   "id": "116e18a6-806e-4fed-88fa-7f20a7cec868",
   "metadata": {},
   "source": [
    "Next, instead of manually defining the region, we'll loop over the rows in `peaks` and use the values in the table for each sequence."
   ]
  },
  {
   "cell_type": "code",
   "execution_count": 11,
   "id": "73df56c3-5943-4136-8024-d7e2e1b0597a",
   "metadata": {},
   "outputs": [
    {
     "name": "stdout",
     "output_type": "stream",
     "text": [
      "ChIP_1M_peak_2\tAAAATCTGGAGAAAAAACGCAAATGACAGCTTCTAAACGTTCCGTGTGCTTTCTTTCTAGAATGTTCTGGAAAGTTTACAACAATCCACAAGAACGAAAA\n",
      "ChIP_1M_peak_83\tAGGGTAAAACTAACCTGTCTCACGACGGTCTAAACCCAGCTCACGTTCCCTATTAGTGGGTGAACAATCCAACGCTTACCGAATTCTGCTTCGGTATGAT\n",
      "ChIP_1M_peak_48\tAAAAGCCCTTACTAACCCTACAATAAATTGTGCCGAAACCCTCTGGAGTTTTCTAGAATATTCTAGCCCCATCAGGGCTAGAATATCCTAAAAGTTTATA\n",
      "ChIP_1M_peak_37\tTCACGTTATCAGGCTCATAGCTTGTGTGTGTGTGTGTGTGTGTGTGTGTGTGTGTGTGTGTGTGTGTGTGTGTGTGTGTGTGTGATTGTTGTTCTAGTCG\n",
      "ChIP_1M_peak_45\tGTTGTAAAGTTACTGACACTTTTTTTTCTAGAAAGTTCCGGAAAATTGCGACACTCGGTGGAGCTCGAGAGTTGTATCCAGTTTTCTTGTTCGGCGATAT\n"
     ]
    }
   ],
   "source": [
    "for peak in peaks.head().itertuples():\n",
    "    chroms = SeqIO.parse(chrom_file, 'fasta')\n",
    "    for chrom in chroms:\n",
    "        if chrom.name == peak.chr:\n",
    "            site = chrom.seq[peak.motif_start:peak.motif_end]\n",
    "            print('{}\\t{}'.format(peak.name, site))"
   ]
  },
  {
   "cell_type": "markdown",
   "id": "ebeb4d1d-c211-4950-9ffe-007396293e33",
   "metadata": {},
   "source": [
    "This works okay, but it's inefficient because we read the genome file once for each peak. Instead, we can read the genome just once and store the sequence in a `dict`. We'll use the chromosome names as the _key_ and the sequence as the _value_.\n",
    "\n",
    "Build this dictionary in a variable named `genome`."
   ]
  },
  {
   "cell_type": "code",
   "execution_count": 14,
   "id": "bc4cc232-3def-4f9d-aff2-6131ada0bb2e",
   "metadata": {},
   "outputs": [],
   "source": [
    "genome = {}\n",
    "chroms = SeqIO.parse(chrom_file, 'fasta')\n",
    "for chrom in chroms:\n",
    "    genome[chrom.name] = chrom.seq"
   ]
  },
  {
   "cell_type": "markdown",
   "id": "2e26ba3c-931f-450d-a609-543bdd53f2b1",
   "metadata": {},
   "source": [
    "Now, we can use the `.get()` method on the `genome` dictionary to look up any chromosome sequence we want, very quickly.\n",
    "\n",
    "Adapt the loop above for this more efficient "
   ]
  },
  {
   "cell_type": "code",
   "execution_count": 16,
   "id": "43c95d96-9ae3-4f6c-84ba-67a9bb9295a0",
   "metadata": {},
   "outputs": [
    {
     "name": "stdout",
     "output_type": "stream",
     "text": [
      "ChIP_1M_peak_2\tAAAATCTGGAGAAAAAACGCAAATGACAGCTTCTAAACGTTCCGTGTGCTTTCTTTCTAGAATGTTCTGGAAAGTTTACAACAATCCACAAGAACGAAAA\n",
      "ChIP_1M_peak_83\tAGGGTAAAACTAACCTGTCTCACGACGGTCTAAACCCAGCTCACGTTCCCTATTAGTGGGTGAACAATCCAACGCTTACCGAATTCTGCTTCGGTATGAT\n",
      "ChIP_1M_peak_48\tAAAAGCCCTTACTAACCCTACAATAAATTGTGCCGAAACCCTCTGGAGTTTTCTAGAATATTCTAGCCCCATCAGGGCTAGAATATCCTAAAAGTTTATA\n",
      "ChIP_1M_peak_37\tTCACGTTATCAGGCTCATAGCTTGTGTGTGTGTGTGTGTGTGTGTGTGTGTGTGTGTGTGTGTGTGTGTGTGTGTGTGTGTGTGATTGTTGTTCTAGTCG\n",
      "ChIP_1M_peak_45\tGTTGTAAAGTTACTGACACTTTTTTTTCTAGAAAGTTCCGGAAAATTGCGACACTCGGTGGAGCTCGAGAGTTGTATCCAGTTTTCTTGTTCGGCGATAT\n"
     ]
    }
   ],
   "source": [
    "for peak in peaks.head().itertuples():\n",
    "    chrom_seq = genome.get(peak.chr)\n",
    "    site = chrom_seq[peak.motif_start:peak.motif_end]\n",
    "    print('{}\\t{}'.format(peak.name, site))"
   ]
  },
  {
   "cell_type": "markdown",
   "id": "ac357161-a6d5-4f28-8cdb-597db918a0ba",
   "metadata": {},
   "source": [
    "Now, let's write these sequences into our own Fasta file.\n",
    "\n",
    "We'll need to create our own `Seq` and `SeqRecord` objects. To do this, we'll need to import some more parts of biopython:\n",
    "```\n",
    "from Bio.Seq import Seq\n",
    "from Bio.SeqRecord import SeqRecord\n",
    "```"
   ]
  },
  {
   "cell_type": "code",
   "execution_count": 17,
   "id": "b4331a59-9fb5-4e09-8b3a-5a96bfe8b34c",
   "metadata": {},
   "outputs": [],
   "source": [
    "from Bio.Seq import Seq\n",
    "from Bio.SeqRecord import SeqRecord"
   ]
  },
  {
   "cell_type": "markdown",
   "id": "038d8b6e-bc0a-4934-881d-89a1432ee83c",
   "metadata": {},
   "source": [
    "After doing this, we can create our own sequence object by writing `Seq(...)`"
   ]
  },
  {
   "cell_type": "code",
   "execution_count": 18,
   "id": "7e6fde50-e760-43b0-8028-909086a08103",
   "metadata": {},
   "outputs": [
    {
     "data": {
      "text/plain": [
       "Seq('ACGTACGT')"
      ]
     },
     "execution_count": 18,
     "metadata": {},
     "output_type": "execute_result"
    }
   ],
   "source": [
    "Seq(\"ACGTACGT\")"
   ]
  },
  {
   "cell_type": "markdown",
   "id": "563069b8-2596-4f51-8d1a-93c770a01cd0",
   "metadata": {},
   "source": [
    "We can create our own sequence record—a sequence object, plus a _name_ in the `id` field, as well."
   ]
  },
  {
   "cell_type": "code",
   "execution_count": 23,
   "id": "88143fc5-5b41-4b2d-9f52-0847554f679e",
   "metadata": {},
   "outputs": [
    {
     "data": {
      "text/plain": [
       "SeqRecord(seq=Seq('ACGTACGT'), id='MySeq', name='<unknown name>', description='', dbxrefs=[])"
      ]
     },
     "execution_count": 23,
     "metadata": {},
     "output_type": "execute_result"
    }
   ],
   "source": [
    "SeqRecord(Seq(\"ACGTACGT\"), id=\"MySeq\", description='')"
   ]
  },
  {
   "cell_type": "markdown",
   "id": "6cc1a487-2aad-4a9b-8962-b2bd724bdde2",
   "metadata": {},
   "source": [
    "Finally, we can use the `SeqIO.write()` function to write a list of `SeqRecord`s into a file. This function has three parameters:\n",
    "```\n",
    "SeqIO.write(list-of-sequences, filename, format)\n",
    "```"
   ]
  },
  {
   "cell_type": "code",
   "execution_count": 24,
   "id": "401f1867-6466-42ad-9cc6-53b252d0edd9",
   "metadata": {},
   "outputs": [
    {
     "data": {
      "text/plain": [
       "2"
      ]
     },
     "execution_count": 24,
     "metadata": {},
     "output_type": "execute_result"
    }
   ],
   "source": [
    "rec1 = SeqRecord(Seq(\"ACGTACGT\"), id=\"MySeq\", description='')\n",
    "rec2 = SeqRecord(Seq(\"GCATGCAT\"), id=\"AnotherSeq\", description='')\n",
    "SeqIO.write([rec1, rec2], \"test.fa\", \"fasta\")"
   ]
  },
  {
   "cell_type": "markdown",
   "id": "4e70d9f4-8365-48b3-91bc-335bfbcb093b",
   "metadata": {},
   "source": [
    "Now, we will construct a list called `sites` containing a `SeqRecord` for each ChIP-Seq peak. Then, we'll write the list into a file called `\"Hsf1_sites.fa\"`. "
   ]
  },
  {
   "cell_type": "code",
   "execution_count": 26,
   "id": "0d65d5e3-af20-439c-a271-c2f48c3cf310",
   "metadata": {},
   "outputs": [
    {
     "data": {
      "text/plain": [
       "5"
      ]
     },
     "execution_count": 26,
     "metadata": {},
     "output_type": "execute_result"
    }
   ],
   "source": [
    "sites = []\n",
    "\n",
    "for peak in peaks.head().itertuples():\n",
    "    chrom_seq = genome.get(peak.chr)\n",
    "    site = chrom_seq[peak.motif_start:peak.motif_end]\n",
    "    rec = SeqRecord(site, id=peak.name, description='{}:{}-{}'.format(peak.chr, peak.motif_start, peak.motif_end))\n",
    "    sites.append(rec)\n",
    "    \n",
    "SeqIO.write(sites, \"Hsf1_sites.fa\", \"fasta\")"
   ]
  }
 ],
 "metadata": {
  "kernelspec": {
   "display_name": "Python 3 (ipykernel)",
   "language": "python",
   "name": "python3"
  },
  "language_info": {
   "codemirror_mode": {
    "name": "ipython",
    "version": 3
   },
   "file_extension": ".py",
   "mimetype": "text/x-python",
   "name": "python",
   "nbconvert_exporter": "python",
   "pygments_lexer": "ipython3",
   "version": "3.9.9"
  }
 },
 "nbformat": 4,
 "nbformat_minor": 5
}
