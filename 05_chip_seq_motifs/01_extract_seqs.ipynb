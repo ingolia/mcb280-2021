{
 "cells": [
  {
   "cell_type": "markdown",
   "id": "ce839f5f-2f3a-4ded-8ae8-f801d0aec937",
   "metadata": {},
   "source": [
    "## Hsf1 binding motif\n",
    "\n",
    "We have a table of Hsf1 ChIP-Seq peaks, including the name of the chromosome and the position of the \"summit\" within the peak.\n",
    "\n",
    "In earlier classes, we learned how to read in the yeast genome sequence.\n",
    "\n",
    "Today, we'll look up the genome sequence around each ChIP-Seq summit and write our own Fasta-format file that we can use as input to MEME, the motif search tool."
   ]
  },
  {
   "cell_type": "markdown",
   "id": "a9f2fa86-2097-403f-ac7f-de93a08a9bba",
   "metadata": {},
   "source": [
    "We'll use pandas quite a bit here."
   ]
  },
  {
   "cell_type": "code",
   "execution_count": null,
   "id": "66100c1b-641a-44e0-b2b3-10965086459c",
   "metadata": {},
   "outputs": [],
   "source": []
  },
  {
   "cell_type": "markdown",
   "id": "d676768f-1a70-4e59-9ffb-1850a9a50ecb",
   "metadata": {},
   "source": [
    "We saw last time that the \"peaks\" file from MACS contained all the information we wanted, with nicely named columns.\n",
    "\n",
    "We'll read in the peaks file `ChIP_1M_peaks.xls` as a pandas `DataFrame` and store it in the `peaks` variable"
   ]
  },
  {
   "cell_type": "code",
   "execution_count": null,
   "id": "392f5ada-5210-408a-9a8d-0c7ad95a9342",
   "metadata": {},
   "outputs": [],
   "source": []
  },
  {
   "cell_type": "markdown",
   "id": "e173528e-137b-47ea-9c26-bedfc9745df1",
   "metadata": {},
   "source": [
    "Use `sort_values()` to sort peaks according to their significance. Start with the most significant peak first, using the `ascending` parameter."
   ]
  },
  {
   "cell_type": "code",
   "execution_count": null,
   "id": "6fdbc312-2784-48a5-8aed-cf04602f96f4",
   "metadata": {},
   "outputs": [],
   "source": []
  },
  {
   "cell_type": "markdown",
   "id": "0cf9a598-3ccb-4282-b88c-100de1e08652",
   "metadata": {},
   "source": [
    "We can use the `head` function to take only the \"best\" peaks. We'll test our code on the best 5 peaks from the mini ChIP-Seq data set here in class today."
   ]
  },
  {
   "cell_type": "code",
   "execution_count": null,
   "id": "be2ff4c2-ddaa-4808-af81-50263568c9cf",
   "metadata": {},
   "outputs": [],
   "source": []
  },
  {
   "cell_type": "markdown",
   "id": "b11015db-56ad-4a56-be79-8362dbec6e10",
   "metadata": {},
   "source": [
    "We will extract the DNA sequence in a somewhat arbitrary window of ~100 base pairs, 50 on each side of the actual summit.\n",
    "\n",
    "To do this, define two new columns in the `peaks` data frame, one containing the start of the motif search region and the other containing the end of the region. We'll call these `motif_start` and `motif_end`"
   ]
  },
  {
   "cell_type": "code",
   "execution_count": null,
   "id": "eb17e8b7-2fd7-482d-b3ab-7f218955f037",
   "metadata": {},
   "outputs": [],
   "source": []
  },
  {
   "cell_type": "markdown",
   "id": "b21af680-9480-4c2c-8506-a8a77ac4504a",
   "metadata": {},
   "source": [
    "We want to _loop_ over each row of the `DataFrame`.\n",
    "\n",
    "The `itertuples()` method gives us an iterator over the rows. Each row is a `namedtuple` with named fields taken from the column names in the DataFrame.\n",
    "\n",
    "To illustrate this, loop over each peak and print the name and the location (chromosome and start to end coordinates)."
   ]
  },
  {
   "cell_type": "code",
   "execution_count": null,
   "id": "4408df82-d450-4f04-a120-790c2db89592",
   "metadata": {},
   "outputs": [],
   "source": []
  },
  {
   "cell_type": "markdown",
   "id": "afd0e001-6600-4a89-a51f-20a44d2d6701",
   "metadata": {},
   "source": [
    "To extract the sequences from these regions of the genome, we need to refer back to the yeast genome sequence.\n",
    "\n",
    "Below, we import `SeqIO` from the `Bio` package.\n",
    "\n",
    "I've also provided the name of the fasta file of chromosome sequences.\n",
    "```\n",
    "chrom_file = '/home/jovyan/shared/MCB280A_data/S288C_R64-3-1/S288C_reference_sequence_R64-3-1_20210421.fsa'\n",
    "```"
   ]
  },
  {
   "cell_type": "code",
   "execution_count": null,
   "id": "66a5beca-7afd-4b75-911e-53c1d1b98516",
   "metadata": {},
   "outputs": [],
   "source": [
    "from Bio import SeqIO\n",
    "\n",
    "chrom_file = '/home/jovyan/shared/MCB280A_data/S288C_R64-3-1/S288C_reference_sequence_R64-3-1_20210421.fsa'"
   ]
  },
  {
   "cell_type": "markdown",
   "id": "fb269835-0b9b-4827-a66a-f7140c8b3657",
   "metadata": {},
   "source": [
    "As a starting point, we'll extract the sequence for one _manually defined_ genomic region.\n",
    "```\n",
    "motif_chr = 'chrI'\n",
    "motif_start = 141723\n",
    "motif_end = 141823\n",
    "```\n",
    "\n",
    "We'll loop through each chromosome, test whether its name (the `.name` field) matches our chromosome of interest, and then slice out the desired region from the sequence (in the `.seq` field)."
   ]
  },
  {
   "cell_type": "code",
   "execution_count": null,
   "id": "79a1acd4-d9fd-40cc-b96a-94e6a8378ca3",
   "metadata": {},
   "outputs": [],
   "source": [
    "motif_chr = 'chrI'\n",
    "motif_start = 141723\n",
    "motif_end = 141823"
   ]
  },
  {
   "cell_type": "markdown",
   "id": "116e18a6-806e-4fed-88fa-7f20a7cec868",
   "metadata": {},
   "source": [
    "Next, instead of manually defining the region, we'll loop over the rows in `peaks` and use the values in the table for each sequence."
   ]
  },
  {
   "cell_type": "code",
   "execution_count": null,
   "id": "73df56c3-5943-4136-8024-d7e2e1b0597a",
   "metadata": {},
   "outputs": [],
   "source": []
  },
  {
   "cell_type": "markdown",
   "id": "ebeb4d1d-c211-4950-9ffe-007396293e33",
   "metadata": {},
   "source": [
    "This works okay, but it's inefficient because we read the genome file once for each peak. Instead, we can read the genome just once and store the sequence in a `dict`. We'll use the chromosome names as the _key_ and the sequence as the _value_.\n",
    "\n",
    "Build this dictionary in a variable named `genome`."
   ]
  },
  {
   "cell_type": "code",
   "execution_count": null,
   "id": "bc4cc232-3def-4f9d-aff2-6131ada0bb2e",
   "metadata": {},
   "outputs": [],
   "source": []
  },
  {
   "cell_type": "markdown",
   "id": "2e26ba3c-931f-450d-a609-543bdd53f2b1",
   "metadata": {},
   "source": [
    "Now, we can use the `.get()` method on the `genome` dictionary to look up any chromosome sequence we want, very quickly.\n",
    "\n",
    "Adapt the loop above for this more efficient "
   ]
  },
  {
   "cell_type": "code",
   "execution_count": null,
   "id": "43c95d96-9ae3-4f6c-84ba-67a9bb9295a0",
   "metadata": {},
   "outputs": [],
   "source": []
  },
  {
   "cell_type": "markdown",
   "id": "ac357161-a6d5-4f28-8cdb-597db918a0ba",
   "metadata": {},
   "source": [
    "Now, let's write these sequences into our own Fasta file.\n",
    "\n",
    "We'll need to create our own `Seq` and `SeqRecord` objects. To do this, we'll need to import some more parts of biopython:\n",
    "```\n",
    "from Bio.Seq import Seq\n",
    "from Bio.SeqRecord import SeqRecord\n",
    "```"
   ]
  },
  {
   "cell_type": "code",
   "execution_count": null,
   "id": "b4331a59-9fb5-4e09-8b3a-5a96bfe8b34c",
   "metadata": {},
   "outputs": [],
   "source": [
    "from Bio.Seq import Seq\n",
    "from Bio.SeqRecord import SeqRecord"
   ]
  },
  {
   "cell_type": "markdown",
   "id": "038d8b6e-bc0a-4934-881d-89a1432ee83c",
   "metadata": {},
   "source": [
    "After doing this, we can create our own sequence object by writing `Seq(...)`"
   ]
  },
  {
   "cell_type": "code",
   "execution_count": null,
   "id": "7e6fde50-e760-43b0-8028-909086a08103",
   "metadata": {},
   "outputs": [],
   "source": []
  },
  {
   "cell_type": "markdown",
   "id": "563069b8-2596-4f51-8d1a-93c770a01cd0",
   "metadata": {},
   "source": [
    "We can create our own sequence record—a sequence object, plus a _name_ in the `id` field, as well."
   ]
  },
  {
   "cell_type": "code",
   "execution_count": null,
   "id": "88143fc5-5b41-4b2d-9f52-0847554f679e",
   "metadata": {},
   "outputs": [],
   "source": []
  },
  {
   "cell_type": "markdown",
   "id": "6cc1a487-2aad-4a9b-8962-b2bd724bdde2",
   "metadata": {},
   "source": [
    "Finally, we can use the `SeqIO.write()` function to write a list of `SeqRecord`s into a file. This function has three parameters:\n",
    "```\n",
    "SeqIO.write(list-of-sequences, filename, format)\n",
    "```"
   ]
  },
  {
   "cell_type": "code",
   "execution_count": null,
   "id": "401f1867-6466-42ad-9cc6-53b252d0edd9",
   "metadata": {},
   "outputs": [],
   "source": []
  },
  {
   "cell_type": "markdown",
   "id": "4e70d9f4-8365-48b3-91bc-335bfbcb093b",
   "metadata": {},
   "source": [
    "Now, we will construct a list called `sites` containing a `SeqRecord` for each ChIP-Seq peak. Then, we'll write the list into a file called `\"Hsf1_sites.fa\"`. "
   ]
  },
  {
   "cell_type": "code",
   "execution_count": null,
   "id": "0d65d5e3-af20-439c-a271-c2f48c3cf310",
   "metadata": {},
   "outputs": [],
   "source": []
  }
 ],
 "metadata": {
  "kernelspec": {
   "display_name": "Python 3 (ipykernel)",
   "language": "python",
   "name": "python3"
  },
  "language_info": {
   "codemirror_mode": {
    "name": "ipython",
    "version": 3
   },
   "file_extension": ".py",
   "mimetype": "text/x-python",
   "name": "python",
   "nbconvert_exporter": "python",
   "pygments_lexer": "ipython3",
   "version": "3.9.10"
  }
 },
 "nbformat": 4,
 "nbformat_minor": 5
}
