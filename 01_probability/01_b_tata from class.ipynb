{
 "cells": [
  {
   "cell_type": "markdown",
   "metadata": {},
   "source": [
    "### Counting and probability\n",
    "\n",
    "The sequence preferences of DNA-binding proteins can often be summarized as a sequence \"motif\" that indicates which bases are favored at each position of a binding site.\n",
    "\n",
    "One classic example of a sequence motif is the TATA-box found in many eukaryotic promoters. It's named for the first four, nearly invariant residues, but it actually extends for eight positions. The full TATA-box sequence preference can be represented as\n",
    "\n",
    "`TATA(A/T)A(A/T)(A/G)`\n",
    "\n",
    "or\n",
    "\n",
    "`TATAWAWR`\n",
    "\n",
    "using a one-letter code for nucleotide preferences."
   ]
  },
  {
   "cell_type": "markdown",
   "metadata": {},
   "source": [
    "The TATA-box sequence motif was determined by identifying hundreds of actual TATA boxes and counting how often each nucleotide occurred."
   ]
  },
  {
   "cell_type": "markdown",
   "metadata": {},
   "source": [
    "Here is some Python code to create a data frame with observed nucleotide counts from 389 TATA boxes taken from eukaryotic promoters (Bucher, _J Mol Biol_ (1990) 212, 563-578).\n",
    "```\n",
    "pd.DataFrame({'A': [  16, 352,   3, 354, 268, 360, 222, 155],\n",
    "              'C': [  46,   0,  10,   0,   0,   3,   2,  44],\n",
    "              'G': [  18,   2,   2,   5,   0,  20,  44, 157],\n",
    "              'T': [ 309,  35, 374,  30, 121,   6, 121,  33]})\n",
    "```\n",
    "Each row is a position in the TATA motif, and each column is a nucleotide.\n",
    "\n",
    "We will import the pandas package and then store this data frame in a variable called `tata_counts`."
   ]
  },
  {
   "cell_type": "code",
   "execution_count": 2,
   "metadata": {},
   "outputs": [
    {
     "data": {
      "text/html": [
       "<div>\n",
       "<style scoped>\n",
       "    .dataframe tbody tr th:only-of-type {\n",
       "        vertical-align: middle;\n",
       "    }\n",
       "\n",
       "    .dataframe tbody tr th {\n",
       "        vertical-align: top;\n",
       "    }\n",
       "\n",
       "    .dataframe thead th {\n",
       "        text-align: right;\n",
       "    }\n",
       "</style>\n",
       "<table border=\"1\" class=\"dataframe\">\n",
       "  <thead>\n",
       "    <tr style=\"text-align: right;\">\n",
       "      <th></th>\n",
       "      <th>A</th>\n",
       "      <th>C</th>\n",
       "      <th>G</th>\n",
       "      <th>T</th>\n",
       "    </tr>\n",
       "  </thead>\n",
       "  <tbody>\n",
       "    <tr>\n",
       "      <th>0</th>\n",
       "      <td>16</td>\n",
       "      <td>46</td>\n",
       "      <td>18</td>\n",
       "      <td>309</td>\n",
       "    </tr>\n",
       "    <tr>\n",
       "      <th>1</th>\n",
       "      <td>352</td>\n",
       "      <td>0</td>\n",
       "      <td>2</td>\n",
       "      <td>35</td>\n",
       "    </tr>\n",
       "    <tr>\n",
       "      <th>2</th>\n",
       "      <td>3</td>\n",
       "      <td>10</td>\n",
       "      <td>2</td>\n",
       "      <td>374</td>\n",
       "    </tr>\n",
       "    <tr>\n",
       "      <th>3</th>\n",
       "      <td>354</td>\n",
       "      <td>0</td>\n",
       "      <td>5</td>\n",
       "      <td>30</td>\n",
       "    </tr>\n",
       "    <tr>\n",
       "      <th>4</th>\n",
       "      <td>268</td>\n",
       "      <td>0</td>\n",
       "      <td>0</td>\n",
       "      <td>121</td>\n",
       "    </tr>\n",
       "    <tr>\n",
       "      <th>5</th>\n",
       "      <td>360</td>\n",
       "      <td>3</td>\n",
       "      <td>20</td>\n",
       "      <td>6</td>\n",
       "    </tr>\n",
       "    <tr>\n",
       "      <th>6</th>\n",
       "      <td>222</td>\n",
       "      <td>2</td>\n",
       "      <td>44</td>\n",
       "      <td>121</td>\n",
       "    </tr>\n",
       "    <tr>\n",
       "      <th>7</th>\n",
       "      <td>155</td>\n",
       "      <td>44</td>\n",
       "      <td>157</td>\n",
       "      <td>33</td>\n",
       "    </tr>\n",
       "  </tbody>\n",
       "</table>\n",
       "</div>"
      ],
      "text/plain": [
       "     A   C    G    T\n",
       "0   16  46   18  309\n",
       "1  352   0    2   35\n",
       "2    3  10    2  374\n",
       "3  354   0    5   30\n",
       "4  268   0    0  121\n",
       "5  360   3   20    6\n",
       "6  222   2   44  121\n",
       "7  155  44  157   33"
      ]
     },
     "execution_count": 2,
     "metadata": {},
     "output_type": "execute_result"
    }
   ],
   "source": [
    "import pandas as pd\n",
    "tata_counts = pd.DataFrame({'A': [  16, 352,   3, 354, 268, 360, 222, 155],\n",
    "              'C': [  46,   0,  10,   0,   0,   3,   2,  44],\n",
    "              'G': [  18,   2,   2,   5,   0,  20,  44, 157],\n",
    "              'T': [ 309,  35, 374,  30, 121,   6, 121,  33]})\n",
    "tata_counts"
   ]
  },
  {
   "cell_type": "markdown",
   "metadata": {},
   "source": [
    "Data frames have many useful methods. For instance, we can use the .sum() method to take the sums across rows or columns. The parameter `axis=0` will calculate column sums and the parameter `axis=1` will calculate row sums. In this data frame, the row sum for each row should equal the number of sequences that Bucher examined -- each sequence will have an `A`, `C`, `G`, or `T` and so it will show up in one of the four columns."
   ]
  },
  {
   "cell_type": "code",
   "execution_count": 3,
   "metadata": {},
   "outputs": [
    {
     "data": {
      "text/plain": [
       "0    389\n",
       "1    389\n",
       "2    389\n",
       "3    389\n",
       "4    389\n",
       "5    389\n",
       "6    389\n",
       "7    389\n",
       "dtype: int64"
      ]
     },
     "execution_count": 3,
     "metadata": {},
     "output_type": "execute_result"
    }
   ],
   "source": [
    "tata_counts.sum(axis=1)"
   ]
  },
  {
   "cell_type": "markdown",
   "metadata": {},
   "source": [
    "We can then turn these counts into probabilities by dividing each nucleotide count by the total number of sequences counted. That is if 35 out of 389 TATA-box sequences have a `T` at the second position, then the probability of a `T` at position 1 in a random TATA-box sequence is 35/389, just under 10%.\n",
    "\n",
    "We'll use this to make a new `tata_probs` data frame with the _probabilities_ of each nucleotide."
   ]
  },
  {
   "cell_type": "code",
   "execution_count": 4,
   "metadata": {},
   "outputs": [
    {
     "data": {
      "text/html": [
       "<div>\n",
       "<style scoped>\n",
       "    .dataframe tbody tr th:only-of-type {\n",
       "        vertical-align: middle;\n",
       "    }\n",
       "\n",
       "    .dataframe tbody tr th {\n",
       "        vertical-align: top;\n",
       "    }\n",
       "\n",
       "    .dataframe thead th {\n",
       "        text-align: right;\n",
       "    }\n",
       "</style>\n",
       "<table border=\"1\" class=\"dataframe\">\n",
       "  <thead>\n",
       "    <tr style=\"text-align: right;\">\n",
       "      <th></th>\n",
       "      <th>A</th>\n",
       "      <th>C</th>\n",
       "      <th>G</th>\n",
       "      <th>T</th>\n",
       "    </tr>\n",
       "  </thead>\n",
       "  <tbody>\n",
       "    <tr>\n",
       "      <th>0</th>\n",
       "      <td>0.041131</td>\n",
       "      <td>0.118252</td>\n",
       "      <td>0.046272</td>\n",
       "      <td>0.794344</td>\n",
       "    </tr>\n",
       "    <tr>\n",
       "      <th>1</th>\n",
       "      <td>0.904884</td>\n",
       "      <td>0.000000</td>\n",
       "      <td>0.005141</td>\n",
       "      <td>0.089974</td>\n",
       "    </tr>\n",
       "    <tr>\n",
       "      <th>2</th>\n",
       "      <td>0.007712</td>\n",
       "      <td>0.025707</td>\n",
       "      <td>0.005141</td>\n",
       "      <td>0.961440</td>\n",
       "    </tr>\n",
       "    <tr>\n",
       "      <th>3</th>\n",
       "      <td>0.910026</td>\n",
       "      <td>0.000000</td>\n",
       "      <td>0.012853</td>\n",
       "      <td>0.077121</td>\n",
       "    </tr>\n",
       "    <tr>\n",
       "      <th>4</th>\n",
       "      <td>0.688946</td>\n",
       "      <td>0.000000</td>\n",
       "      <td>0.000000</td>\n",
       "      <td>0.311054</td>\n",
       "    </tr>\n",
       "    <tr>\n",
       "      <th>5</th>\n",
       "      <td>0.925450</td>\n",
       "      <td>0.007712</td>\n",
       "      <td>0.051414</td>\n",
       "      <td>0.015424</td>\n",
       "    </tr>\n",
       "    <tr>\n",
       "      <th>6</th>\n",
       "      <td>0.570694</td>\n",
       "      <td>0.005141</td>\n",
       "      <td>0.113111</td>\n",
       "      <td>0.311054</td>\n",
       "    </tr>\n",
       "    <tr>\n",
       "      <th>7</th>\n",
       "      <td>0.398458</td>\n",
       "      <td>0.113111</td>\n",
       "      <td>0.403599</td>\n",
       "      <td>0.084833</td>\n",
       "    </tr>\n",
       "  </tbody>\n",
       "</table>\n",
       "</div>"
      ],
      "text/plain": [
       "          A         C         G         T\n",
       "0  0.041131  0.118252  0.046272  0.794344\n",
       "1  0.904884  0.000000  0.005141  0.089974\n",
       "2  0.007712  0.025707  0.005141  0.961440\n",
       "3  0.910026  0.000000  0.012853  0.077121\n",
       "4  0.688946  0.000000  0.000000  0.311054\n",
       "5  0.925450  0.007712  0.051414  0.015424\n",
       "6  0.570694  0.005141  0.113111  0.311054\n",
       "7  0.398458  0.113111  0.403599  0.084833"
      ]
     },
     "execution_count": 4,
     "metadata": {},
     "output_type": "execute_result"
    }
   ],
   "source": [
    "tata_probs = tata_counts / 389\n",
    "tata_probs"
   ]
  },
  {
   "cell_type": "markdown",
   "metadata": {},
   "source": [
    "We can now look up, e.g., the probability of a `T` at the second position, which is position 1 in Python counting\n",
    "```\n",
    "tata_probs['T'][1]\n",
    "```"
   ]
  },
  {
   "cell_type": "code",
   "execution_count": 5,
   "metadata": {},
   "outputs": [
    {
     "data": {
      "text/plain": [
       "0.08997429305912596"
      ]
     },
     "execution_count": 5,
     "metadata": {},
     "output_type": "execute_result"
    }
   ],
   "source": [
    "tata_probs['T'][1]"
   ]
  },
  {
   "cell_type": "markdown",
   "metadata": {},
   "source": [
    "We're most of the way to a _probabilistic model_ of a TATA box. We will assume that each of the nucleotides in the TATA box is independent, so we can multiply these probabilities together\n",
    "$$P(\\;\\mathtt{TATAAAG}\\;\\text{for a TATA-box}\\;) = \n",
    "P(\\;\\mathtt{T}\\mathrm{\\,at\\,0\\;}) \\times\n",
    "P(\\;\\mathtt{A}\\mathrm{\\,at\\,1\\;}) \\times\n",
    "P(\\;\\mathtt{T}\\mathrm{\\,at\\,2\\;}) \\times\n",
    "P(\\;\\mathtt{A}\\mathrm{\\,at\\,3\\;}) \\times\n",
    "P(\\;\\mathtt{A}\\mathrm{\\,at\\,4\\;}) \\times\n",
    "P(\\;\\mathtt{A}\\mathrm{\\,at\\,5\\;}) \\times\n",
    "P(\\;\\mathtt{G}\\mathrm{\\,at\\,6\\;})\n",
    "$$\n",
    "\n",
    "We need to keep track of which position is which, because $P(\\;\\mathtt{T}\\mathrm{\\,at\\,0\\;}) \\neq P(\\;\\mathtt{T}\\mathrm{\\,at\\,1\\;})$. The `enumerate()` function lets us keep track of a position when we're iterating over a sequence.\n",
    "\n",
    "```\n",
    "for position, nt in enumerate(sequ):\n",
    "    print('position = ' + str(position) + ', nt = ' + str(nt))\n",
    "```"
   ]
  },
  {
   "cell_type": "code",
   "execution_count": 6,
   "metadata": {},
   "outputs": [
    {
     "name": "stdout",
     "output_type": "stream",
     "text": [
      "position = 0, nt = T\n",
      "position = 1, nt = A\n",
      "position = 2, nt = T\n",
      "position = 3, nt = A\n",
      "position = 4, nt = A\n",
      "position = 5, nt = A\n",
      "position = 6, nt = A\n",
      "position = 7, nt = G\n"
     ]
    }
   ],
   "source": [
    "sequ = 'TATAAAAG'\n",
    "for pos, nt in enumerate(sequ):\n",
    "    print('position = ' + str(pos) + ', nt = ' + str(nt))"
   ]
  },
  {
   "cell_type": "markdown",
   "metadata": {},
   "source": [
    "Now, we'll write a `for` loop to iterate over the positions in a sequence and compute a running probability.\n",
    "\n",
    "We'll start with probability 1\n",
    "```\n",
    "prob = 1\n",
    "```\n",
    "and then build up a running _product_ that includes the probability for each independent position\n",
    "```\n",
    "p = tata_probs[nt][position]\n",
    "prob = prob * p\n",
    "```\n",
    "\n",
    "We can use this to compute the probability of a \"very good\" TATA-box like `TATATATA`. "
   ]
  },
  {
   "cell_type": "code",
   "execution_count": 8,
   "metadata": {},
   "outputs": [
    {
     "name": "stdout",
     "output_type": "stream",
     "text": [
      "position 0 nt T prob 0.794344473007712\n",
      "position 1 nt A prob 0.9048843187660668\n",
      "position 2 nt T prob 0.961439588688946\n",
      "position 3 nt A prob 0.910025706940874\n",
      "position 4 nt A prob 0.6889460154241646\n",
      "position 5 nt A prob 0.9254498714652957\n",
      "position 6 nt A prob 0.570694087403599\n",
      "position 7 nt G prob 0.40359897172236503\n"
     ]
    },
    {
     "data": {
      "text/plain": [
       "0.09235685129568202"
      ]
     },
     "execution_count": 8,
     "metadata": {},
     "output_type": "execute_result"
    }
   ],
   "source": [
    "prob = 1\n",
    "for pos, nt in enumerate(sequ):\n",
    "    prob_pos = tata_probs[nt][pos]\n",
    "    prob = prob * prob_pos\n",
    "    print('position ' + str(pos) + ' nt ' + str(nt) + ' prob ' + str(prob_pos))\n",
    "prob"
   ]
  },
  {
   "cell_type": "markdown",
   "metadata": {},
   "source": [
    "We can also try the worst possible TATA box, `ACGCGCCT`."
   ]
  },
  {
   "cell_type": "code",
   "execution_count": 9,
   "metadata": {},
   "outputs": [
    {
     "name": "stdout",
     "output_type": "stream",
     "text": [
      "position 0 nt A prob 0.04113110539845758\n",
      "position 1 nt C prob 0.0\n",
      "position 2 nt G prob 0.005141388174807198\n",
      "position 3 nt C prob 0.0\n",
      "position 4 nt G prob 0.0\n",
      "position 5 nt C prob 0.007712082262210797\n",
      "position 6 nt C prob 0.005141388174807198\n",
      "position 7 nt T prob 0.08483290488431877\n"
     ]
    },
    {
     "data": {
      "text/plain": [
       "0.0"
      ]
     },
     "execution_count": 9,
     "metadata": {},
     "output_type": "execute_result"
    }
   ],
   "source": [
    "sequ = 'ACGCGCCT'\n",
    "prob = 1\n",
    "for pos, nt in enumerate(sequ):\n",
    "    prob_pos = tata_probs[nt][pos]\n",
    "    prob = prob * prob_pos\n",
    "    print('position ' + str(pos) + ' nt ' + str(nt) + ' prob ' + str(prob_pos))\n",
    "prob"
   ]
  },
  {
   "cell_type": "markdown",
   "metadata": {},
   "source": [
    "Our final probability is 0! While $P(\\;\\mathtt{ACGCGCCT}\\;)$ in our TATA-box model is definitely very small, it's probably not 0. We see zero `C` nucleotides at position 1 out of 389 TATA-boxes, but what if we counted 389,000? Would we find 100, 10, or 1? \n",
    "\n",
    "We often handle these situations by adding a _pseudocount_ to our data. We add a fake count for each nucleotide, at each position, in order to eliminate zeros. The impact of this pseudocount depends on the number of real counts. If we add a pseudocount with 9 real observations, it represents 10% of our overall counts, but if we add a pseudocount with 999 real observations, it's only 0.1%.\n",
    "\n",
    "We can just add 1 to every entry to make a `tata_counts_pseudo` and use this table with pseudocounts to make our new data, and then generate a new `tata_probs` keeping in mind the \"extra\" counts from the pseudocounts.\n"
   ]
  },
  {
   "cell_type": "code",
   "execution_count": 15,
   "metadata": {},
   "outputs": [
    {
     "name": "stdout",
     "output_type": "stream",
     "text": [
      "     A   C    G    T\n",
      "0   17  47   19  310\n",
      "1  353   1    3   36\n",
      "2    4  11    3  375\n",
      "3  355   1    6   31\n",
      "4  269   1    1  122\n",
      "5  361   4   21    7\n",
      "6  223   3   45  122\n",
      "7  156  45  158   34\n",
      "0    393\n",
      "1    393\n",
      "2    393\n",
      "3    393\n",
      "4    393\n",
      "5    393\n",
      "6    393\n",
      "7    393\n",
      "dtype: int64\n",
      "          A         C         G         T\n",
      "0  0.043257  0.119593  0.048346  0.788804\n",
      "1  0.898219  0.002545  0.007634  0.091603\n",
      "2  0.010178  0.027990  0.007634  0.954198\n",
      "3  0.903308  0.002545  0.015267  0.078880\n",
      "4  0.684478  0.002545  0.002545  0.310433\n",
      "5  0.918575  0.010178  0.053435  0.017812\n",
      "6  0.567430  0.007634  0.114504  0.310433\n",
      "7  0.396947  0.114504  0.402036  0.086514\n"
     ]
    }
   ],
   "source": [
    "tata_counts_pseudo = tata_counts + 1\n",
    "print(tata_counts_pseudo)\n",
    "print(tata_counts_pseudo.sum(axis=1))\n",
    "tata_probs = tata_counts_pseudo / 393\n",
    "print(tata_probs)"
   ]
  },
  {
   "cell_type": "markdown",
   "metadata": {},
   "source": [
    "Now we can use the new tata_probs to compute the probability of the best TATA-box, which is pretty similar. We can also compute the worst TATA-box, which is very low but not zero."
   ]
  },
  {
   "cell_type": "code",
   "execution_count": 16,
   "metadata": {},
   "outputs": [
    {
     "name": "stdout",
     "output_type": "stream",
     "text": [
      "position 0 nt A prob 0.043256997455470736\n",
      "position 1 nt C prob 0.002544529262086514\n",
      "position 2 nt G prob 0.007633587786259542\n",
      "position 3 nt C prob 0.002544529262086514\n",
      "position 4 nt G prob 0.002544529262086514\n",
      "position 5 nt C prob 0.010178117048346057\n",
      "position 6 nt C prob 0.007633587786259542\n",
      "position 7 nt T prob 0.08651399491094147\n"
     ]
    },
    {
     "data": {
      "text/plain": [
       "3.656705089125851e-17"
      ]
     },
     "execution_count": 16,
     "metadata": {},
     "output_type": "execute_result"
    }
   ],
   "source": [
    "sequ = 'ACGCGCCT'\n",
    "prob = 1\n",
    "for pos, nt in enumerate(sequ):\n",
    "    prob_pos = tata_probs[nt][pos]\n",
    "    prob = prob * prob_pos\n",
    "    print('position ' + str(pos) + ' nt ' + str(nt) + ' prob ' + str(prob_pos))\n",
    "prob"
   ]
  },
  {
   "cell_type": "markdown",
   "metadata": {
    "tags": []
   },
   "source": [
    "It's getting tedious to write the same for loop every time we want to try a different sequence.\n",
    "\n",
    "We can write our own function that will compute the likelihood of a sequence under our TATA-box probability model. We'll call this function `likelihood_tata()`, for reasons that will become clearer in future lectures.\n",
    "\n",
    "```\n",
    "def likelihood_tata(sequ):\n",
    "    prob = 1\n",
    "    for position, nt in enumerate(sequ):\n",
    "        p = tata_probs[nt][position]\n",
    "        prob = prob * p\n",
    "        print(position, nt, p, prob)\n",
    "    return(prob)\n",
    "```"
   ]
  },
  {
   "cell_type": "code",
   "execution_count": 17,
   "metadata": {},
   "outputs": [],
   "source": [
    "def likelihood_tata(sequ):\n",
    "    prob = 1\n",
    "    for pos, nt in enumerate(sequ):\n",
    "        p = tata_probs[nt][pos]\n",
    "        prob = prob * p\n",
    "    return(prob)"
   ]
  },
  {
   "cell_type": "markdown",
   "metadata": {},
   "source": [
    "Now we can easily use our function to compute the likelihood of some other possible TATA-box sequences. For example, the three sequences below are \"very good\" TATA-boxes that differ from the \"best\" TATA box at one of the three \"degenerate\" positions in the motif. Notice that the overall probability of getting one of these three imperfect motifs is substantially higher than the probability of the perfect TATA-box. In fact, although the TATA-box is a strong motif, fewer than 10% of the sequences generated according to our model will actually match the \"best\" sequence.\n",
    "```\n",
    "TATATAAG\n",
    "TATAAATG\n",
    "TATAAAAA\n",
    "```"
   ]
  },
  {
   "cell_type": "code",
   "execution_count": 21,
   "metadata": {},
   "outputs": [
    {
     "data": {
      "text/plain": [
       "0.08648575086904367"
      ]
     },
     "execution_count": 21,
     "metadata": {},
     "output_type": "execute_result"
    }
   ],
   "source": [
    "likelihood_tata('TATAAAAA')"
   ]
  },
  {
   "cell_type": "markdown",
   "metadata": {},
   "source": [
    "### _Exercise_ \n",
    "\n",
    "We also need a probabilistic model for what _non_-TATA-box DNA sequence looks like. A model for arbitrary genomic DNA sequence is often called a \"background\" model.\n",
    "\n",
    "The easy background model is independent nucleotides, with probabilities determined by the overall composition of the genome. We just counted the overall number of `A`s etc in the yeast genome. A rough estimate is\n",
    "\n",
    "```\n",
    "background = pd.Series({'A': 0.31, 'C': 0.19, 'G': 0.19, 'T': 0.31})\n",
    "```\n",
    "\n",
    "Write a function called `likelihood_background()` to compute the probability of a sequence in the background model. Keep in mind that there is no position dependence here, and the background model is a one-dimensional Series rather than a two-dimensional DataFrame."
   ]
  },
  {
   "cell_type": "code",
   "execution_count": null,
   "metadata": {},
   "outputs": [],
   "source": []
  },
  {
   "cell_type": "markdown",
   "metadata": {},
   "source": [
    "Use your function to compute $P(\\;\\mathtt{TATAAAAG}\\;)$, the probability of this very good TATA-box sequence in random genomic DNA."
   ]
  },
  {
   "cell_type": "code",
   "execution_count": null,
   "metadata": {},
   "outputs": [],
   "source": []
  },
  {
   "cell_type": "markdown",
   "metadata": {},
   "source": [
    "Use your function to compute $P(\\;\\mathtt{ACGCGCCT}\\;)$, the probability of the \"worst\" TATA-box sequence in random genomic DNA."
   ]
  },
  {
   "cell_type": "code",
   "execution_count": null,
   "metadata": {},
   "outputs": [],
   "source": []
  }
 ],
 "metadata": {
  "kernelspec": {
   "display_name": "Python 3 (ipykernel)",
   "language": "python",
   "name": "python3"
  },
  "language_info": {
   "codemirror_mode": {
    "name": "ipython",
    "version": 3
   },
   "file_extension": ".py",
   "mimetype": "text/x-python",
   "name": "python",
   "nbconvert_exporter": "python",
   "pygments_lexer": "ipython3",
   "version": "3.9.9"
  }
 },
 "nbformat": 4,
 "nbformat_minor": 4
}
