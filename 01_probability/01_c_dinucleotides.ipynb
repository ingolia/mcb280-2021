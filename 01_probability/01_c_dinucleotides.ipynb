{
 "cells": [
  {
   "cell_type": "markdown",
   "metadata": {},
   "source": [
    "## Dinucleotides and dipeptides\n",
    "\n",
    "We counted the occurrence of individual nucleotides in the genome and residues in the proteome.\n",
    "\n",
    "In real biological sequences, adjacent positions are rarely independent. We now have ways to talk about these sort of inter-dependencies using probabilities.\n",
    "\n",
    "We'll start by counting adjacent pairs of nucleotides in the genome. When a sequence has $N$ bases, it has $N-1$ adjacent pairs: $0$ and $1$, $1$ and $2$, $2$ and $3$, and so forth all the way to $N-2$, $N-1$.\n",
    "\n",
    "An easy way to get a pandas `Series` of these adjacent pairs is to:\n",
    "1. create a Series of first nucleotides in a pair\n",
    "2. create a Series of second nucleotides in a pair\n",
    "3. add together these two series\n",
    "\n",
    "We'll see how this works on a test string\n",
    "```\n",
    "alphabet='abcdefghijklmnopqrstuvwxyz'\n",
    "```"
   ]
  },
  {
   "cell_type": "code",
   "execution_count": 14,
   "metadata": {},
   "outputs": [
    {
     "data": {
      "text/plain": [
       "0     ab\n",
       "1     bc\n",
       "2     cd\n",
       "3     de\n",
       "4     ef\n",
       "5     fg\n",
       "6     gh\n",
       "7     hi\n",
       "8     ij\n",
       "9     jk\n",
       "10    kl\n",
       "11    lm\n",
       "12    mn\n",
       "13    no\n",
       "14    op\n",
       "15    pq\n",
       "16    qr\n",
       "17    rs\n",
       "18    st\n",
       "19    tu\n",
       "20    uv\n",
       "21    vw\n",
       "22    wx\n",
       "23    xy\n",
       "24    yz\n",
       "dtype: object"
      ]
     },
     "execution_count": 14,
     "metadata": {},
     "output_type": "execute_result"
    }
   ],
   "source": [
    "import pandas as pd\n",
    "alphabet='abcdefghijklmnopqrstuvwxyz'\n",
    "first_letters = pd.Series(list(alphabet[0:-1]))\n",
    "second_letters = pd.Series(list(alphabet[1:]))\n",
    "pairs = first_letters + second_letters\n",
    "pairs"
   ]
  },
  {
   "cell_type": "markdown",
   "metadata": {},
   "source": [
    "### Yeast genome dinucleotides\n",
    "First we need to import the `Bio.SeqIO` module from `biopython` so we can read in our yeast sequences."
   ]
  },
  {
   "cell_type": "code",
   "execution_count": 16,
   "metadata": {},
   "outputs": [],
   "source": [
    "from Bio import SeqIO"
   ]
  },
  {
   "cell_type": "markdown",
   "metadata": {},
   "source": [
    "Then we need to import the `pandas` module for our `Series` and `DataFrame` types, and the `matplotlib.pyplot` module to make graphs."
   ]
  },
  {
   "cell_type": "code",
   "execution_count": 17,
   "metadata": {},
   "outputs": [],
   "source": [
    "import pandas as pd\n",
    "import matplotlib.pyplot as plt "
   ]
  },
  {
   "cell_type": "markdown",
   "metadata": {},
   "source": [
    "Here is a copy of our code to\n",
    "1. Create `proteins` as an iterator over all the protein sequences\n",
    "2. Create an empty `Series` of amino acid counts\n",
    "3. Loop over each protein\n",
    "    1. Count the nubmer of residues in that one protein\n",
    "    1. Add that residue count to the running tally\n",
    "5. Print the sorted version of our count series\n",
    "6. Plot a bar graph of our counts"
   ]
  },
  {
   "cell_type": "code",
   "execution_count": 19,
   "metadata": {},
   "outputs": [
    {
     "name": "stdout",
     "output_type": "stream",
     "text": [
      "*      6064.0\n",
      "W     30592.0\n",
      "C     37287.0\n",
      "M     61220.0\n",
      "H     63795.0\n",
      "Y     99429.0\n",
      "Q    116054.0\n",
      "P    128629.0\n",
      "F    130264.0\n",
      "R    130554.0\n",
      "G    146138.0\n",
      "A    161450.0\n",
      "V    163368.0\n",
      "D    171556.0\n",
      "T    173814.0\n",
      "N    180883.0\n",
      "E    191723.0\n",
      "I    192717.0\n",
      "K    215733.0\n",
      "S    264092.0\n",
      "L    279435.0\n",
      "dtype: float64\n"
     ]
    },
    {
     "data": {
      "text/plain": [
       "<AxesSubplot:>"
      ]
     },
     "execution_count": 19,
     "metadata": {},
     "output_type": "execute_result"
    },
    {
     "data": {
      "image/png": "[encoded data removed]",
      "text/plain": [
       "<Figure size 432x288 with 1 Axes>"
      ]
     },
     "metadata": {
      "needs_background": "light"
     },
     "output_type": "display_data"
    }
   ],
   "source": [
    "proteins = SeqIO.parse(\"../S288C_R64-3-1/orf_trans_R64-3-1_20210421.fasta\", \"fasta\")\n",
    "total_counts = pd.Series(dtype='int64')\n",
    "\n",
    "for protein in proteins:\n",
    "    protein_counts = pd.Series(list(protein.seq)).value_counts()\n",
    "    total_counts = total_counts.add(protein_counts, fill_value=0)\n",
    "print(total_counts.sort_values())\n",
    "total_counts.sort_values().plot(kind='bar')"
   ]
  },
  {
   "cell_type": "markdown",
   "metadata": {},
   "source": [
    "### Dipeptides\n",
    "\n",
    "Now we'll use the approach above to count every adjacent pair of amino acids.\n",
    "\n",
    "We'll make a series of first amino acids in `first_aas`, a series of second amino acids in `second_aas`, and then combine them to count them."
   ]
  },
  {
   "cell_type": "code",
   "execution_count": 20,
   "metadata": {},
   "outputs": [],
   "source": [
    "proteins = SeqIO.parse(\"../S288C_R64-3-1/orf_trans_R64-3-1_20210421.fasta\", \"fasta\")\n",
    "total_counts = pd.Series(dtype='int64')\n",
    "\n",
    "for protein in proteins:\n",
    "    first_aas = pd.Series(list(protein.seq[0:-1]))\n",
    "    second_aas = pd.Series(list(protein.seq[1:]))\n",
    "    protein_counts = (first_aas + second_aas).value_counts()\n",
    "    total_counts = total_counts.add(protein_counts, fill_value=0)"
   ]
  },
  {
   "cell_type": "code",
   "execution_count": 22,
   "metadata": {},
   "outputs": [
    {
     "data": {
      "text/plain": [
       "*E        1.0\n",
       "*F        1.0\n",
       "*Y        1.0\n",
       "*K        1.0\n",
       "*M        1.0\n",
       "       ...   \n",
       "LK    21887.0\n",
       "LS    24445.0\n",
       "SL    24535.0\n",
       "LL    27655.0\n",
       "SS    31531.0\n",
       "Length: 437, dtype: float64"
      ]
     },
     "execution_count": 22,
     "metadata": {},
     "output_type": "execute_result"
    }
   ],
   "source": [
    "total_counts.sort_values()"
   ]
  },
  {
   "cell_type": "markdown",
   "metadata": {},
   "source": [
    "#### Probabilities\n",
    "\n",
    "Convert the counts to probabilities by \n",
    "1. Using the `.sum()` method to find the total number of dinucleotides counted\n",
    "2. Dividing the `nt_series` series by this sum to get \"normalized\" probabilities"
   ]
  },
  {
   "cell_type": "code",
   "execution_count": null,
   "metadata": {},
   "outputs": [],
   "source": []
  },
  {
   "cell_type": "code",
   "execution_count": null,
   "metadata": {},
   "outputs": [],
   "source": []
  },
  {
   "cell_type": "markdown",
   "metadata": {},
   "source": [
    "#### Marginal probabilities\n",
    "\n",
    "The table of dinucleotide probabilities give the _joint_ distribution.\n",
    "\n",
    "There are two way to compute the _marginal_ probability of an `A`. Compute this both ways and compare it to the value we got from the single-nucleotide counting above."
   ]
  },
  {
   "cell_type": "code",
   "execution_count": null,
   "metadata": {},
   "outputs": [],
   "source": []
  },
  {
   "cell_type": "code",
   "execution_count": null,
   "metadata": {},
   "outputs": [],
   "source": []
  },
  {
   "cell_type": "markdown",
   "metadata": {},
   "source": [
    "Write a `for` loop to compute all four marginal probabilities. It's probably easiest to create an empty dictionary, then loop over each nucleotide option, compute its marginal probability, and store it in the dictionary. \n",
    "\n",
    "There are many reasonable ways to approach this, though"
   ]
  },
  {
   "cell_type": "code",
   "execution_count": null,
   "metadata": {},
   "outputs": [],
   "source": []
  },
  {
   "cell_type": "markdown",
   "metadata": {},
   "source": [
    "#### Conditional probabilities\n",
    "\n",
    "Compute the _conditional_ probability of a `C` following a first `A`. Is this higher or lower than the unconditional (marginal) probability of a `C`?"
   ]
  },
  {
   "cell_type": "code",
   "execution_count": null,
   "metadata": {},
   "outputs": [],
   "source": []
  },
  {
   "cell_type": "markdown",
   "metadata": {},
   "source": [
    "If you want to take this a bit further: write a pair of nested for loops to compute all of the conditional probabilities for the 2nd nucleotide of a dinucleotide, conditional on the identity of the first.\n",
    "\n",
    "What nucleotide combinations have conditional probabilities that are very different from the marginal?\n",
    "\n",
    "Another way of looking at this is to compute the ratio `P(MN) / (P(M) * P(N))`, which is the ratio between the observed dinucleotide probability and the expected dinucleotide probabilty under the assumption of independence."
   ]
  },
  {
   "cell_type": "code",
   "execution_count": null,
   "metadata": {},
   "outputs": [],
   "source": []
  },
  {
   "cell_type": "markdown",
   "metadata": {},
   "source": [
    "#### Dipeptides\n",
    "\n",
    "If you want to take this a lot further, you can run the same sort of analysis on dipeptides in the yeast proteome. \n",
    "Here's a slightly updated version of our loop to count amino acid frequencies in the yeast proteome, if you want ot try this out."
   ]
  },
  {
   "cell_type": "code",
   "execution_count": null,
   "metadata": {},
   "outputs": [],
   "source": [
    "proteins = SeqIO.parse(\"../S288C_R64-2-1/orf_trans_all_R64-2-1_20150113.fasta\", \"fasta\")\n",
    "aa_count = {}\n",
    "for protein in proteins:\n",
    "    protseq = str(protein.seq)\n",
    "    for pos in range(0, len(protseq)):\n",
    "        aa = protseq[pos]\n",
    "        aa_count[aa] = aa_count.get(aa, 0) + 1\n",
    "print(aa_count)"
   ]
  },
  {
   "cell_type": "code",
   "execution_count": null,
   "metadata": {},
   "outputs": [],
   "source": []
  }
 ],
 "metadata": {
  "kernelspec": {
   "display_name": "Python 3",
   "language": "python",
   "name": "python3"
  },
  "language_info": {
   "codemirror_mode": {
    "name": "ipython",
    "version": 3
   },
   "file_extension": ".py",
   "mimetype": "text/x-python",
   "name": "python",
   "nbconvert_exporter": "python",
   "pygments_lexer": "ipython3",
   "version": "3.8.8"
  }
 },
 "nbformat": 4,
 "nbformat_minor": 4
}
