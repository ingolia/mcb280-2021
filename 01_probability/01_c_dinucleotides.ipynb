{
 "cells": [
  {
   "cell_type": "markdown",
   "metadata": {},
   "source": [
    "## Dinucleotides and dipeptides\n",
    "\n",
    "We counted the occurrence of individual nucleotides in the genome and residues in the proteome.\n",
    "\n",
    "In real biological sequences, adjacent positions are rarely independent. We now have ways to talk about these sort of inter-dependencies using probabilities.\n",
    "\n",
    "We'll start by counting adjacent pairs of nucleotides in the genome. When a sequence has $N$ bases, it has $N-1$ adjacent pairs: $0$ and $1$, $1$ and $2$, $2$ and $3$, and so forth all the way to $N-2$, $N-1$.\n",
    "\n",
    "An easy way to get a pandas `Series` of these adjacent pairs is to:\n",
    "1. create a Series of first nucleotides in a pair\n",
    "2. create a Series of second nucleotides in a pair\n",
    "3. add together these two series\n",
    "\n",
    "We'll see how this works on a test string\n",
    "```\n",
    "alphabet='abcdefghijklmnopqrstuvwxyz'\n",
    "```"
   ]
  },
  {
   "cell_type": "code",
   "execution_count": 1,
   "metadata": {},
   "outputs": [
    {
     "data": {
      "text/plain": [
       "0     ab\n",
       "1     bc\n",
       "2     cd\n",
       "3     de\n",
       "4     ef\n",
       "5     fg\n",
       "6     gh\n",
       "7     hi\n",
       "8     ij\n",
       "9     jk\n",
       "10    kl\n",
       "11    lm\n",
       "12    mn\n",
       "13    no\n",
       "14    op\n",
       "15    pq\n",
       "16    qr\n",
       "17    rs\n",
       "18    st\n",
       "19    tu\n",
       "20    uv\n",
       "21    vw\n",
       "22    wx\n",
       "23    xy\n",
       "24    yz\n",
       "dtype: object"
      ]
     },
     "execution_count": 1,
     "metadata": {},
     "output_type": "execute_result"
    }
   ],
   "source": [
    "import pandas as pd\n",
    "alphabet='abcdefghijklmnopqrstuvwxyz'\n",
    "first_letters = pd.Series(list(alphabet[0:-1]))\n",
    "second_letters = pd.Series(list(alphabet[1:]))\n",
    "pairs = first_letters + second_letters\n",
    "pairs"
   ]
  },
  {
   "cell_type": "markdown",
   "metadata": {},
   "source": [
    "### Yeast proteome dipeptides\n",
    "First we need to import the `Bio.SeqIO` module from `biopython` so we can read in our yeast sequences."
   ]
  },
  {
   "cell_type": "code",
   "execution_count": 2,
   "metadata": {},
   "outputs": [],
   "source": [
    "from Bio import SeqIO"
   ]
  },
  {
   "cell_type": "markdown",
   "metadata": {},
   "source": [
    "Then we need to import the `pandas` module for our `Series` and `DataFrame` types, and the `matplotlib.pyplot` module to make graphs."
   ]
  },
  {
   "cell_type": "code",
   "execution_count": 3,
   "metadata": {},
   "outputs": [],
   "source": [
    "import pandas as pd\n",
    "import matplotlib.pyplot as plt "
   ]
  },
  {
   "cell_type": "markdown",
   "metadata": {},
   "source": [
    "Here is a copy of our code to\n",
    "1. Create `proteins` as an iterator over all the protein sequences\n",
    "2. Create an empty `Series` of amino acid counts\n",
    "3. Loop over each protein\n",
    "    1. Count the nubmer of residues in that one protein\n",
    "    1. Add that residue count to the running tally\n",
    "5. Print the sorted version of our count series\n",
    "6. Plot a bar graph of our counts"
   ]
  },
  {
   "cell_type": "code",
   "execution_count": 4,
   "metadata": {},
   "outputs": [
    {
     "name": "stdout",
     "output_type": "stream",
     "text": [
      "*      6064.0\n",
      "W     30592.0\n",
      "C     37287.0\n",
      "M     61220.0\n",
      "H     63795.0\n",
      "Y     99429.0\n",
      "Q    116054.0\n",
      "P    128629.0\n",
      "F    130264.0\n",
      "R    130554.0\n",
      "G    146138.0\n",
      "A    161450.0\n",
      "V    163368.0\n",
      "D    171556.0\n",
      "T    173814.0\n",
      "N    180883.0\n",
      "E    191723.0\n",
      "I    192717.0\n",
      "K    215733.0\n",
      "S    264092.0\n",
      "L    279435.0\n",
      "dtype: float64\n"
     ]
    },
    {
     "data": {
      "text/plain": [
       "<AxesSubplot:>"
      ]
     },
     "execution_count": 4,
     "metadata": {},
     "output_type": "execute_result"
    },
    {
     "data": {
      "image/png": "[encoded data removed]",
      "text/plain": [
       "<Figure size 432x288 with 1 Axes>"
      ]
     },
     "metadata": {
      "needs_background": "light"
     },
     "output_type": "display_data"
    }
   ],
   "source": [
    "proteins = SeqIO.parse(\"../S288C_R64-3-1/orf_trans_R64-3-1_20210421.fasta\", \"fasta\")\n",
    "total_counts = pd.Series(dtype='int64')\n",
    "\n",
    "for protein in proteins:\n",
    "    protein_counts = pd.Series(list(protein.seq)).value_counts()\n",
    "    total_counts = total_counts.add(protein_counts, fill_value=0)\n",
    "print(total_counts.sort_values())\n",
    "total_counts.sort_values().plot(kind='bar')"
   ]
  },
  {
   "cell_type": "markdown",
   "metadata": {},
   "source": [
    "### Dipeptides\n",
    "\n",
    "Now we'll use the approach above to count every adjacent pair of amino acids.\n",
    "\n",
    "We'll make a series of first amino acids in `first_aas`, a series of second amino acids in `second_aas`, and then combine them to count them."
   ]
  },
  {
   "cell_type": "code",
   "execution_count": 5,
   "metadata": {},
   "outputs": [],
   "source": [
    "proteins = SeqIO.parse(\"../S288C_R64-3-1/orf_trans_R64-3-1_20210421.fasta\", \"fasta\")\n",
    "total_counts = pd.Series(dtype='int64')\n",
    "\n",
    "for protein in proteins:\n",
    "    first_aas = pd.Series(list(protein.seq[0:-1]))\n",
    "    second_aas = pd.Series(list(protein.seq[1:]))\n",
    "    protein_counts = (first_aas + second_aas).value_counts()\n",
    "    total_counts = total_counts.add(protein_counts, fill_value=0)"
   ]
  },
  {
   "cell_type": "code",
   "execution_count": 6,
   "metadata": {},
   "outputs": [
    {
     "data": {
      "text/plain": [
       "*E        1.0\n",
       "*F        1.0\n",
       "*Y        1.0\n",
       "*K        1.0\n",
       "*M        1.0\n",
       "       ...   \n",
       "LK    21887.0\n",
       "LS    24445.0\n",
       "SL    24535.0\n",
       "LL    27655.0\n",
       "SS    31531.0\n",
       "Length: 437, dtype: float64"
      ]
     },
     "execution_count": 6,
     "metadata": {},
     "output_type": "execute_result"
    }
   ],
   "source": [
    "total_counts.sort_values()"
   ]
  },
  {
   "cell_type": "markdown",
   "metadata": {},
   "source": [
    "#### Probabilities\n",
    "\n",
    "Convert the counts to probabilities in a variable `dipep_probs` by \n",
    "1. Using the `.sum()` method to find the total number of amino acid pairs counted\n",
    "2. Dividing the `total_counts` series by this sum to get \"normalized\" probabilities"
   ]
  },
  {
   "cell_type": "code",
   "execution_count": 8,
   "metadata": {},
   "outputs": [
    {
     "data": {
      "text/plain": [
       "2938763.0"
      ]
     },
     "execution_count": 8,
     "metadata": {},
     "output_type": "execute_result"
    }
   ],
   "source": [
    "total_counts.sum()"
   ]
  },
  {
   "cell_type": "code",
   "execution_count": 11,
   "metadata": {},
   "outputs": [
    {
     "data": {
      "text/plain": [
       "0.01072934428533366"
      ]
     },
     "execution_count": 11,
     "metadata": {},
     "output_type": "execute_result"
    }
   ],
   "source": [
    "dipep_probs = total_counts / total_counts.sum()\n",
    "dipep_probs\n",
    "dipep_probs[\"SS\"]"
   ]
  },
  {
   "cell_type": "markdown",
   "metadata": {},
   "source": [
    "#### Marginal probabilities\n",
    "\n",
    "The table of amino acid _pair_ probabilities give the _joint_ distribution.\n",
    "\n",
    "There are two way to compute the _marginal_ probability of an `A`. We can count every time an `A` shows up in the first position, and we can count every time an `A` shows up in the second position.\n",
    "\n",
    "Compute this both ways and compare it to the value we got from the single-nucleotide counting above."
   ]
  },
  {
   "cell_type": "code",
   "execution_count": 24,
   "metadata": {},
   "outputs": [
    {
     "data": {
      "text/plain": [
       "0.054938081090581306"
      ]
     },
     "execution_count": 24,
     "metadata": {},
     "output_type": "execute_result"
    }
   ],
   "source": [
    "dipep_probs[dipep_probs.index.str.startswith('A')].sum()"
   ]
  },
  {
   "cell_type": "code",
   "execution_count": 26,
   "metadata": {},
   "outputs": [
    {
     "data": {
      "text/plain": [
       "**    1.020838e-06\n",
       "*A    6.805585e-07\n",
       "*E    3.402792e-07\n",
       "*F    3.402792e-07\n",
       "*G    6.805585e-07\n",
       "          ...     \n",
       "YS    2.690588e-03\n",
       "YT    1.836827e-03\n",
       "YV    1.879362e-03\n",
       "YW    3.967656e-04\n",
       "YY    1.449930e-03\n",
       "Length: 437, dtype: float64"
      ]
     },
     "execution_count": 26,
     "metadata": {},
     "output_type": "execute_result"
    }
   ],
   "source": [
    "# dipep_probs[dipep_probs.index.str.endswith('A')].sum()\n",
    "dipep_probs"
   ]
  },
  {
   "cell_type": "markdown",
   "metadata": {},
   "source": [
    "Compute all of the marginal probabilities. \n",
    "\n",
    "There are many reasonable ways to approach this -- one is to use a for loop"
   ]
  },
  {
   "cell_type": "code",
   "execution_count": 48,
   "metadata": {},
   "outputs": [
    {
     "name": "stdout",
     "output_type": "stream",
     "text": [
      "W    0.010410\n",
      "C    0.012688\n",
      "M    0.020832\n",
      "H    0.021708\n",
      "Y    0.033834\n",
      "Q    0.039491\n",
      "P    0.043770\n",
      "F    0.044326\n",
      "R    0.044425\n",
      "G    0.049728\n",
      "A    0.054938\n",
      "V    0.055591\n",
      "D    0.058377\n",
      "T    0.059145\n",
      "N    0.061551\n",
      "E    0.065239\n",
      "I    0.065577\n",
      "K    0.073409\n",
      "S    0.089865\n",
      "L    0.095086\n",
      "dtype: float64\n"
     ]
    },
    {
     "data": {
      "text/plain": [
       "<AxesSubplot:>"
      ]
     },
     "execution_count": 48,
     "metadata": {},
     "output_type": "execute_result"
    },
    {
     "data": {
      "image/png": "[encoded data removed]",
      "text/plain": [
       "<Figure size 432x288 with 1 Axes>"
      ]
     },
     "metadata": {
      "needs_background": "light"
     },
     "output_type": "display_data"
    }
   ],
   "source": [
    "marginal_probs = pd.Series(dtype=\"float64\")\n",
    "\n",
    "for aa in list(\"ACDEFGHIKLMNPQRSTVWY\"):\n",
    "    aa_prob = dipep_probs[dipep_probs.index.str.startswith(aa)].sum()\n",
    "    aa_prob = pd.Series([aa_prob], index=[aa])\n",
    "    marginal_probs = marginal_probs.combine_first(aa_prob)\n",
    "print(marginal_probs.sort_values())\n",
    "marginal_probs.sort_values().plot(kind='bar')"
   ]
  },
  {
   "cell_type": "markdown",
   "metadata": {},
   "source": [
    "#### Conditional probabilities\n",
    "\n",
    "Compute the _conditional_ probability of a `C` following a first `A`. Is this higher or lower than the unconditional (marginal) probability of a `C`?"
   ]
  },
  {
   "cell_type": "code",
   "execution_count": 51,
   "metadata": {},
   "outputs": [
    {
     "name": "stdout",
     "output_type": "stream",
     "text": [
      "0.013341591824094147 0.01268799151207498\n"
     ]
    }
   ],
   "source": [
    "cond_CA = dipep_probs[\"AC\"] / marginal_probs[\"A\"]\n",
    "print(cond_CA, marginal_probs[\"C\"])"
   ]
  },
  {
   "cell_type": "markdown",
   "metadata": {},
   "source": [
    "Another way of looking at this is to compute the ratio `P(CA) / (P(C) * P(A))`, which is the ratio between the observed dinucleotide probability and the expected dinucleotide probabilty under the assumption of independence."
   ]
  },
  {
   "cell_type": "code",
   "execution_count": 52,
   "metadata": {},
   "outputs": [
    {
     "data": {
      "text/plain": [
       "1.0515132999101666"
      ]
     },
     "execution_count": 52,
     "metadata": {},
     "output_type": "execute_result"
    }
   ],
   "source": [
    "dipep_probs[\"AC\"] / (marginal_probs[\"A\"] * marginal_probs[\"C\"])"
   ]
  },
  {
   "cell_type": "markdown",
   "metadata": {},
   "source": [
    "### _Exercise_ \n",
    "\n",
    "The file `../S288C_R64-3-1/S288C_reference_sequence_R64-3-1_20210421.fsa` has the nucleotide sequence of the yeast genome. Each chromosome has its own sequence entry. \n",
    "\n",
    "Count the dinucleotide frequencies in the genome."
   ]
  },
  {
   "cell_type": "code",
   "execution_count": 55,
   "metadata": {},
   "outputs": [],
   "source": [
    "chroms = SeqIO.parse(\"../S288C_R64-3-1/S288C_reference_sequence_R64-3-1_20210421.fsa\", \"fasta\")\n",
    "total_counts = pd.Series(dtype='int64')\n",
    "\n",
    "for chrom in chroms:\n",
    "    first_nts = pd.Series(list(chrom.seq[0:-1]))\n",
    "    second_nts = pd.Series(list(chrom.seq[1:]))\n",
    "    chrom_counts = (first_nts + second_nts).value_counts()\n",
    "    total_counts = total_counts.add(chrom_counts, fill_value=0)"
   ]
  },
  {
   "cell_type": "markdown",
   "metadata": {},
   "source": [
    "Use the dinucleotide frequencies to compute dinucleotide probabilities in a variable named `dint_probs`."
   ]
  },
  {
   "cell_type": "code",
   "execution_count": 58,
   "metadata": {},
   "outputs": [
    {
     "data": {
      "text/plain": [
       "AA    0.108657\n",
       "AC    0.052599\n",
       "AG    0.058307\n",
       "AT    0.090245\n",
       "CA    0.064685\n",
       "CC    0.038959\n",
       "CG    0.029226\n",
       "CT    0.058012\n",
       "GA    0.062189\n",
       "GC    0.037294\n",
       "GG    0.038705\n",
       "GT    0.052408\n",
       "TA    0.074275\n",
       "TC    0.062030\n",
       "TG    0.064359\n",
       "TT    0.108050\n",
       "dtype: float64"
      ]
     },
     "execution_count": 58,
     "metadata": {},
     "output_type": "execute_result"
    }
   ],
   "source": [
    "dint_probs = total_counts / total_counts.sum()\n",
    "dint_probs"
   ]
  },
  {
   "cell_type": "markdown",
   "metadata": {},
   "source": [
    "Compute the marginal probabilities of each nucleotide in a variable called `marginal_probs`."
   ]
  },
  {
   "cell_type": "code",
   "execution_count": 60,
   "metadata": {},
   "outputs": [
    {
     "name": "stdout",
     "output_type": "stream",
     "text": [
      "G    0.190596\n",
      "C    0.190883\n",
      "T    0.308715\n",
      "A    0.309807\n",
      "dtype: float64\n"
     ]
    },
    {
     "data": {
      "text/plain": [
       "<AxesSubplot:>"
      ]
     },
     "execution_count": 60,
     "metadata": {},
     "output_type": "execute_result"
    },
    {
     "data": {
      "image/png": "[encoded data removed]",
      "text/plain": [
       "<Figure size 432x288 with 1 Axes>"
      ]
     },
     "metadata": {
      "needs_background": "light"
     },
     "output_type": "display_data"
    }
   ],
   "source": [
    "marginal_probs = pd.Series(dtype=\"float64\")\n",
    "\n",
    "for nt in list(\"ACGT\"):\n",
    "    nt_prob = dint_probs[dint_probs.index.str.startswith(nt)].sum()\n",
    "    nt_prob = pd.Series([nt_prob], index=[nt])\n",
    "    marginal_probs = marginal_probs.combine_first(nt_prob)\n",
    "print(marginal_probs.sort_values())\n",
    "marginal_probs.sort_values().plot(kind='bar')"
   ]
  },
  {
   "cell_type": "markdown",
   "metadata": {},
   "source": [
    "Determine the _conditional_ probability of a `G` base following a `C` base. How does this compare to the overall probability of a `G` base?"
   ]
  },
  {
   "cell_type": "code",
   "execution_count": 62,
   "metadata": {},
   "outputs": [
    {
     "data": {
      "text/plain": [
       "0.15310810764224056"
      ]
     },
     "execution_count": 62,
     "metadata": {},
     "output_type": "execute_result"
    }
   ],
   "source": [
    "dint_probs[\"CG\"] / marginal_probs[\"C\"]"
   ]
  }
 ],
 "metadata": {
  "kernelspec": {
   "display_name": "Python 3",
   "language": "python",
   "name": "python3"
  },
  "language_info": {
   "codemirror_mode": {
    "name": "ipython",
    "version": 3
   },
   "file_extension": ".py",
   "mimetype": "text/x-python",
   "name": "python",
   "nbconvert_exporter": "python",
   "pygments_lexer": "ipython3",
   "version": "3.8.8"
  }
 },
 "nbformat": 4,
 "nbformat_minor": 4
}
