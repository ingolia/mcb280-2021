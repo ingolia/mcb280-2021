{
 "cells": [
  {
   "cell_type": "markdown",
   "metadata": {},
   "source": [
    "### Counting with pandas\n",
    "\n",
    "Nucleotide and protein sequences are a great setting to learn probability and statistics.\n",
    "\n",
    "We'll start by _counting_ how many times each amino acid shows up in a short protein sequence. The pandas package in Python provides useful data structures and methods for this data analysis task.\n",
    "\n",
    "We'll start by creating a Python string (a `str`) containing the sequence of the short yeast protein Mfa1:\n",
    "```\n",
    "MQPSTATAAPKEKTSSEKKDNYIIKGVFWDPACVIA\n",
    "```\n",
    "and storing this in a variable named `mfa1`."
   ]
  },
  {
   "cell_type": "code",
   "execution_count": null,
   "metadata": {},
   "outputs": [],
   "source": []
  },
  {
   "cell_type": "markdown",
   "metadata": {},
   "source": [
    "Next we'll `import` the NumPy and pandas packages so we can use all the great data structures and methods that they provide."
   ]
  },
  {
   "cell_type": "code",
   "execution_count": null,
   "metadata": {},
   "outputs": [],
   "source": []
  },
  {
   "cell_type": "markdown",
   "metadata": {},
   "source": [
    "In order to count how many times each amino acid shows up in this protein, we need to convert the `str` into a pandas `Series` of individual amino acid letters.\n",
    "\n",
    "We can do this by converting the `str` into a `list` of individual letters, and then constructing a `Series` from that list."
   ]
  },
  {
   "cell_type": "code",
   "execution_count": null,
   "metadata": {},
   "outputs": [],
   "source": []
  },
  {
   "cell_type": "markdown",
   "metadata": {},
   "source": [
    "Once we have a `Series` of amino acids, we can use the `value_counts()` method to count how many times each amino acid letter (a \"value\" in the `Series`) occurs.\n",
    "\n",
    "We'll store these counts in a variable named `mfa1_counts`."
   ]
  },
  {
   "cell_type": "code",
   "execution_count": null,
   "metadata": {},
   "outputs": [],
   "source": []
  },
  {
   "cell_type": "markdown",
   "metadata": {},
   "source": [
    "We can then _look up_ how many times each amino acid occurs in `mfa1_counts`. We can treat this `Series` just like a Python dictionary (`dict`) and use square brackets (`[]`) or the `get()` method.\n",
    "\n",
    "Notice that these two ways of looking up counts give the same result, _except_ when a letter is missing from the `Series` the square brackets produce an error while `get()` returns `None`."
   ]
  },
  {
   "cell_type": "code",
   "execution_count": null,
   "metadata": {},
   "outputs": [],
   "source": []
  },
  {
   "cell_type": "markdown",
   "metadata": {},
   "source": [
    "### BioPython\n",
    "\n",
    "Next, we'll move on to counting amino acids in the whole yeast proteome. I don't want to include all ~6,000 protein sequences in this notebook, and so we'll use existing Python tools to read it from a file.  The biopython module `Bio` has a sub-module specialized for reading and writing files of sequence data, called `SeqIO`. We'll import just the `SeqIO` sub-module from `Bio`."
   ]
  },
  {
   "cell_type": "code",
   "execution_count": null,
   "metadata": {},
   "outputs": [],
   "source": []
  },
  {
   "cell_type": "markdown",
   "metadata": {},
   "source": [
    "The SeqIO module has a function called `parse()` that reads sequence entries from a Fasta-format file. The Fasta format is pretty simple: each sequence has a name on a line starting with a >, followed by the sequence itself. So, a Fasta file might look like:\n",
    "\n",
    "```\n",
    ">one\n",
    "AGCTACGT...\n",
    "GCGATCGT...\n",
    ">two\n",
    "TGACTGCA...\n",
    "...\n",
    "```\n",
    "\n",
    "The `parse()` function returns, in essence, an iterator that can loop over all the entries in the file. We just want to look at the first one, though, so we'll use `next` to take just one entry. The general approach is:\n",
    "\n",
    "```\n",
    "sequences = SeqIO.parse(\"my_file.fasta\", \"fasta\")\n",
    "sequence0 = next(sequences)\n",
    "```\n",
    "\n",
    "I have downloaded all of the protein sequences into a file named \n",
    "```\n",
    "../S288C_R64-3-1/orf_trans_R64-3-1_20210421.fasta\n",
    "```"
   ]
  },
  {
   "cell_type": "code",
   "execution_count": null,
   "metadata": {},
   "outputs": [],
   "source": []
  },
  {
   "cell_type": "markdown",
   "metadata": {},
   "source": [
    "The `parse()` function will turn each of these into a `SeqRecord`, a custom data type that bundles together the name and the sequence. You can get the sequence name from record using `record.id` and the sequence itself using `record.seq`. This sequence isn't an ordinary Python string -- it's another custom data type, called a `Seq`, but you can convert it into a string using `str(record.seq)` and into a list of amino acid letters using `list(record.seq)`."
   ]
  },
  {
   "cell_type": "code",
   "execution_count": null,
   "metadata": {},
   "outputs": [],
   "source": []
  },
  {
   "cell_type": "markdown",
   "metadata": {},
   "source": [
    "Now, let's count amino acids in this protein using `value_counts()`."
   ]
  },
  {
   "cell_type": "code",
   "execution_count": null,
   "metadata": {},
   "outputs": [],
   "source": []
  },
  {
   "cell_type": "markdown",
   "metadata": {},
   "source": [
    "In order to count all the amino acids in the proteome, we'll need to keep a _running_ total of amino acids counted. It's easy to do this, though, because we can just add together two counts in order to get a sum.\n",
    "\n",
    "First, let's get the first two proteins from the data file and store them in variables `protein0` and `protein1`."
   ]
  },
  {
   "cell_type": "code",
   "execution_count": null,
   "metadata": {},
   "outputs": [],
   "source": []
  },
  {
   "cell_type": "markdown",
   "metadata": {},
   "source": [
    "Then, count amino acids in each of these proteins."
   ]
  },
  {
   "cell_type": "code",
   "execution_count": null,
   "metadata": {},
   "outputs": [],
   "source": []
  },
  {
   "cell_type": "code",
   "execution_count": null,
   "metadata": {
    "tags": []
   },
   "outputs": [],
   "source": []
  },
  {
   "cell_type": "markdown",
   "metadata": {},
   "source": [
    "Then, use the `Series.add()` method to add together the counts from `protein0` and `protein1`.\n",
    "\n",
    "Because some proteins will entirely lack certain amino acids, we need to use the `fill_value` parameter for the `Series.add()` method to fill in a `0` value when an entry is missing. The default is to use a `None` value, leading to a \"not-a-number\" `NaN` value in the sum.\n",
    "\n",
    "If we didn't need to use the `fill_value` in order to handle missing amino acids, we could just add together the counts using `+`."
   ]
  },
  {
   "cell_type": "code",
   "execution_count": null,
   "metadata": {},
   "outputs": [],
   "source": []
  },
  {
   "cell_type": "markdown",
   "metadata": {},
   "source": [
    "Now, we can iterate over every sequence in the proteome and keep a running sum of amino acid frequencies.\n",
    "\n",
    "We need to start with an empty set of amino acid counts. Because this is empty, we need to specify the data type for the series:\n",
    "```\n",
    "pd.Series(dtype='int64')\n",
    "```"
   ]
  },
  {
   "cell_type": "code",
   "execution_count": null,
   "metadata": {},
   "outputs": [],
   "source": []
  },
  {
   "cell_type": "markdown",
   "metadata": {},
   "source": [
    "The counts are now listed in amino acid alphabetical order -- the order of the \"index\".\n",
    "\n",
    "In order to figure out the most and least common amino acids, we can sort the `total_counts` data frame according to the \"values\" with the `Series.sort_values()` method."
   ]
  },
  {
   "cell_type": "code",
   "execution_count": null,
   "metadata": {},
   "outputs": [],
   "source": []
  },
  {
   "cell_type": "markdown",
   "metadata": {},
   "source": [
    "### matplotlib\n",
    "\n",
    "It's also pretty easy to make plots of data in a `Series`. To do this, we need to import another module\n",
    "```\n",
    "import matplotlib.pyplot as plt\n",
    "```"
   ]
  },
  {
   "cell_type": "code",
   "execution_count": null,
   "metadata": {},
   "outputs": [],
   "source": []
  },
  {
   "cell_type": "markdown",
   "metadata": {},
   "source": [
    "Now, we can use a `plot()` method on our data series. The default plot is a line plot, but a bar plot makes more sense for this kind of data and so we use the `kind='bar'` argument to the `Series.plot()` method.\n",
    "```\n",
    "total_counts.plot(kind='bar')\n",
    "```\n",
    "You may find it makes more sense to plot the sorted versions of these `Series`"
   ]
  },
  {
   "cell_type": "code",
   "execution_count": null,
   "metadata": {},
   "outputs": [],
   "source": []
  },
  {
   "cell_type": "markdown",
   "metadata": {},
   "source": [
    "### _Exercise_ \n",
    "\n",
    "The file `../S288C_R64-3-1/S288C_reference_sequence_R64-3-1_20210421.fsa` has the nucleotide sequence of the yeast genome. Each chromosome has its own sequence entry. \n",
    "\n",
    "Count the nucleotide frequencies in the genome.\n",
    "\n",
    "Plot a bar graph of nucleotide counts."
   ]
  },
  {
   "cell_type": "code",
   "execution_count": null,
   "metadata": {},
   "outputs": [],
   "source": []
  }
 ],
 "metadata": {
  "kernelspec": {
   "display_name": "Python 3",
   "language": "python",
   "name": "python3"
  },
  "language_info": {
   "codemirror_mode": {
    "name": "ipython",
    "version": 3
   },
   "file_extension": ".py",
   "mimetype": "text/x-python",
   "name": "python",
   "nbconvert_exporter": "python",
   "pygments_lexer": "ipython3",
   "version": "3.8.8"
  }
 },
 "nbformat": 4,
 "nbformat_minor": 4
}
