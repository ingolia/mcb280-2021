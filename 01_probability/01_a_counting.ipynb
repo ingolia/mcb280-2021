{
 "cells": [
  {
   "cell_type": "markdown",
   "metadata": {},
   "source": [
    "### Counting with pandas\n",
    "\n",
    "Nucleotide and protein sequences are a great setting to learn probability and statistics.\n",
    "\n",
    "We'll start by _counting_ how many times each amino acid shows up in a short protein sequence. The pandas package in Python provides useful data structures and methods for this data analysis task.\n",
    "\n",
    "We'll start by creating a Python string (a `str`) containing the sequence of the short yeast protein Mfa1:\n",
    "```\n",
    "MQPSTATAAPKEKTSSEKKDNYIIKGVFWDPACVIA\n",
    "```\n",
    "and storing this in a variable named `mfa1`."
   ]
  },
  {
   "cell_type": "code",
   "execution_count": 12,
   "metadata": {},
   "outputs": [],
   "source": [
    "mfa1 = 'MQPSTATAAPKEKTSSEKKDNYIIKGVFWDPACVIA'"
   ]
  },
  {
   "cell_type": "markdown",
   "metadata": {},
   "source": [
    "Next we'll `import` the NumPy and pandas packages so we can use all the great data structures and methods that they provide."
   ]
  },
  {
   "cell_type": "code",
   "execution_count": 13,
   "metadata": {},
   "outputs": [],
   "source": [
    "import numpy as np\n",
    "import pandas as pd"
   ]
  },
  {
   "cell_type": "markdown",
   "metadata": {},
   "source": [
    "In order to count how many times each amino acid shows up in this protein, we need to convert the `str` into a pandas `Series` of individual amino acid letters.\n",
    "\n",
    "We can do this by converting the `str` into a `list` of individual letters, and then constructing a `Series` from that list."
   ]
  },
  {
   "cell_type": "code",
   "execution_count": 14,
   "metadata": {},
   "outputs": [
    {
     "name": "stdout",
     "output_type": "stream",
     "text": [
      "['M', 'Q', 'P', 'S', 'T', 'A', 'T', 'A', 'A', 'P', 'K', 'E', 'K', 'T', 'S', 'S', 'E', 'K', 'K', 'D', 'N', 'Y', 'I', 'I', 'K', 'G', 'V', 'F', 'W', 'D', 'P', 'A', 'C', 'V', 'I', 'A']\n",
      "0     M\n",
      "1     Q\n",
      "2     P\n",
      "3     S\n",
      "4     T\n",
      "5     A\n",
      "6     T\n",
      "7     A\n",
      "8     A\n",
      "9     P\n",
      "10    K\n",
      "11    E\n",
      "12    K\n",
      "13    T\n",
      "14    S\n",
      "15    S\n",
      "16    E\n",
      "17    K\n",
      "18    K\n",
      "19    D\n",
      "20    N\n",
      "21    Y\n",
      "22    I\n",
      "23    I\n",
      "24    K\n",
      "25    G\n",
      "26    V\n",
      "27    F\n",
      "28    W\n",
      "29    D\n",
      "30    P\n",
      "31    A\n",
      "32    C\n",
      "33    V\n",
      "34    I\n",
      "35    A\n",
      "dtype: object\n"
     ]
    }
   ],
   "source": [
    "print(list(mfa1))\n",
    "print(pd.Series(list(mfa1)))"
   ]
  },
  {
   "cell_type": "markdown",
   "metadata": {},
   "source": [
    "Once we have a `Series` of amino acids, we can use the `value_counts()` method to count how many times each amino acid letter (a \"value\" in the `Series`) occurs.\n",
    "\n",
    "We'll store these counts in a variable named `mfa1_counts`."
   ]
  },
  {
   "cell_type": "code",
   "execution_count": 18,
   "metadata": {},
   "outputs": [
    {
     "data": {
      "text/plain": [
       "A    5\n",
       "K    5\n",
       "S    3\n",
       "I    3\n",
       "T    3\n",
       "P    3\n",
       "E    2\n",
       "D    2\n",
       "V    2\n",
       "M    1\n",
       "N    1\n",
       "G    1\n",
       "Q    1\n",
       "Y    1\n",
       "F    1\n",
       "W    1\n",
       "C    1\n",
       "dtype: int64"
      ]
     },
     "execution_count": 18,
     "metadata": {},
     "output_type": "execute_result"
    }
   ],
   "source": [
    "mfa1_counts = pd.Series(list(mfa1)).value_counts()\n",
    "mfa1_counts"
   ]
  },
  {
   "cell_type": "markdown",
   "metadata": {},
   "source": [
    "We can then _look up_ how many times each amino acid occurs in `mfa1_counts`. We can treat this `Series` just like a Python dictionary (`dict`) and use square brackets (`[]`) or the `get()` method.\n",
    "\n",
    "Notice that these two ways of looking up counts give the same result, _except_ when a letter is missing from the `Series` the square brackets produce an error while `get()` returns `None`."
   ]
  },
  {
   "cell_type": "code",
   "execution_count": 26,
   "metadata": {},
   "outputs": [
    {
     "name": "stdout",
     "output_type": "stream",
     "text": [
      "5\n",
      "None\n",
      "5\n"
     ]
    }
   ],
   "source": [
    "print(mfa1_counts.get(\"A\"))\n",
    "print(mfa1_counts.get(\"B\"))\n",
    "print(mfa1_counts[\"A\"])\n",
    "# print(mfa1_counts[\"B\"])"
   ]
  },
  {
   "cell_type": "markdown",
   "metadata": {},
   "source": [
    "### BioPython\n",
    "\n",
    "Next, we'll move on to counting amino acids in the whole yeast proteome. I don't want to include all ~6,000 protein sequences in this notebook, and so we'll use existing Python tools to read it from a file.  The biopython module `Bio` has a sub-module specialized for reading and writing files of sequence data, called `SeqIO`. We'll import just the `SeqIO` sub-module from `Bio`."
   ]
  },
  {
   "cell_type": "code",
   "execution_count": 27,
   "metadata": {},
   "outputs": [],
   "source": [
    "from Bio import SeqIO"
   ]
  },
  {
   "cell_type": "markdown",
   "metadata": {},
   "source": [
    "The SeqIO module has a function called `parse()` that reads sequence entries from a Fasta-format file. The Fasta format is pretty simple: each sequence has a name on a line starting with a >, followed by the sequence itself. So, a Fasta file might look like:\n",
    "\n",
    "```\n",
    ">one\n",
    "AGCTACGT...\n",
    "GCGATCGT...\n",
    ">two\n",
    "TGACTGCA...\n",
    "...\n",
    "```\n",
    "\n",
    "The `parse()` function returns, in essence, an iterator that can loop over all the entries in the file. We just want to look at the first one, though, so we'll use `next` to take just one entry. The general approach is:\n",
    "\n",
    "```\n",
    "sequences = SeqIO.parse(\"my_file.fasta\", \"fasta\")\n",
    "sequence0 = next(sequences)\n",
    "```\n",
    "\n",
    "I have downloaded all of the protein sequences into a file named \n",
    "```\n",
    "../S288C_R64-3-1/orf_trans_R64-3-1_20210421.fasta\n",
    "```"
   ]
  },
  {
   "cell_type": "code",
   "execution_count": 30,
   "metadata": {},
   "outputs": [
    {
     "data": {
      "text/plain": [
       "SeqRecord(seq=Seq('MVKLTSIAAGVAAIAATASATTTLAQSDERVNLVELGVYVSDIRAHLAQYYMFQ...AN*'), id='YAL068C', name='YAL068C', description='YAL068C PAU8 SGDID:S000002142, Chr I from 2169-1807, Genome Release 64-3-1, reverse complement, Verified ORF, \"Protein of unknown function; member of the seripauperin multigene family encoded mainly in subtelomeric regions\"', dbxrefs=[])"
      ]
     },
     "execution_count": 30,
     "metadata": {},
     "output_type": "execute_result"
    }
   ],
   "source": [
    "proteins = SeqIO.parse(\"../S288C_R64-3-1/orf_trans_R64-3-1_20210421.fasta\", \"fasta\")\n",
    "protein = next(proteins)\n",
    "protein"
   ]
  },
  {
   "cell_type": "markdown",
   "metadata": {},
   "source": [
    "The `parse()` function will turn each of these into a `SeqRecord`, a custom data type that bundles together the name and the sequence. You can get the sequence name from record using `record.id` and the sequence itself using `record.seq`. This sequence isn't an ordinary Python string -- it's another custom data type, called a `Seq`, but you can convert it into a string using `str(record.seq)` and into a list of amino acid letters using `list(record.seq)`."
   ]
  },
  {
   "cell_type": "code",
   "execution_count": 34,
   "metadata": {},
   "outputs": [
    {
     "name": "stdout",
     "output_type": "stream",
     "text": [
      "ID = YAL068C\n",
      "Seq = MVKLTSIAAGVAAIAATASATTTLAQSDERVNLVELGVYVSDIRAHLAQYYMFQAAHPTETYPVEVAEAVFNYGDFTTMLTGIAPDQVTRMITGVPWYSSRLKPAISSALSKDGIYTIAN*\n",
      "['M', 'V', 'K', 'L', 'T', 'S', 'I', 'A', 'A', 'G', 'V', 'A', 'A', 'I', 'A', 'A', 'T', 'A', 'S', 'A', 'T', 'T', 'T', 'L', 'A', 'Q', 'S', 'D', 'E', 'R', 'V', 'N', 'L', 'V', 'E', 'L', 'G', 'V', 'Y', 'V', 'S', 'D', 'I', 'R', 'A', 'H', 'L', 'A', 'Q', 'Y', 'Y', 'M', 'F', 'Q', 'A', 'A', 'H', 'P', 'T', 'E', 'T', 'Y', 'P', 'V', 'E', 'V', 'A', 'E', 'A', 'V', 'F', 'N', 'Y', 'G', 'D', 'F', 'T', 'T', 'M', 'L', 'T', 'G', 'I', 'A', 'P', 'D', 'Q', 'V', 'T', 'R', 'M', 'I', 'T', 'G', 'V', 'P', 'W', 'Y', 'S', 'S', 'R', 'L', 'K', 'P', 'A', 'I', 'S', 'S', 'A', 'L', 'S', 'K', 'D', 'G', 'I', 'Y', 'T', 'I', 'A', 'N', '*']\n"
     ]
    }
   ],
   "source": [
    "print('ID = ' + protein.id)\n",
    "print('Seq = ' + str(protein.seq))\n",
    "print(str(list(protein.seq)))"
   ]
  },
  {
   "cell_type": "markdown",
   "metadata": {},
   "source": [
    "Now, let's count amino acids in this protein using `value_counts()`."
   ]
  },
  {
   "cell_type": "code",
   "execution_count": 41,
   "metadata": {},
   "outputs": [
    {
     "data": {
      "text/plain": [
       "A    19\n",
       "T    13\n",
       "V    11\n",
       "S     9\n",
       "L     8\n",
       "I     8\n",
       "Y     7\n",
       "G     6\n",
       "D     5\n",
       "P     5\n",
       "E     5\n",
       "Q     4\n",
       "M     4\n",
       "R     4\n",
       "F     3\n",
       "N     3\n",
       "K     3\n",
       "H     2\n",
       "*     1\n",
       "W     1\n",
       "dtype: int64"
      ]
     },
     "execution_count": 41,
     "metadata": {},
     "output_type": "execute_result"
    }
   ],
   "source": [
    "pd.Series(list(protein.seq)).value_counts()"
   ]
  },
  {
   "cell_type": "markdown",
   "metadata": {},
   "source": [
    "In order to count all the amino acids in the proteome, we'll need to keep a _running_ total of amino acids counted. It's easy to do this, though, because we can just add together two counts in order to get a sum.\n",
    "\n",
    "First, let's get the first two proteins from the data file and store them in variables `protein0` and `protein1`."
   ]
  },
  {
   "cell_type": "code",
   "execution_count": 43,
   "metadata": {},
   "outputs": [
    {
     "name": "stdout",
     "output_type": "stream",
     "text": [
      "YAL068C\n",
      "YAL067W-A\n"
     ]
    }
   ],
   "source": [
    "proteins = SeqIO.parse(\"../S288C_R64-3-1/orf_trans_R64-3-1_20210421.fasta\", \"fasta\")\n",
    "protein0 = next(proteins)\n",
    "print(protein0.name)\n",
    "protein1 = next(proteins)\n",
    "print(protein1.name)"
   ]
  },
  {
   "cell_type": "markdown",
   "metadata": {},
   "source": [
    "Then, count amino acids in each of these proteins."
   ]
  },
  {
   "cell_type": "code",
   "execution_count": 49,
   "metadata": {},
   "outputs": [
    {
     "name": "stdout",
     "output_type": "stream",
     "text": [
      "A    19\n",
      "T    13\n",
      "V    11\n",
      "S     9\n",
      "L     8\n",
      "I     8\n",
      "Y     7\n",
      "G     6\n",
      "D     5\n",
      "P     5\n",
      "E     5\n",
      "Q     4\n",
      "M     4\n",
      "R     4\n",
      "F     3\n",
      "N     3\n",
      "K     3\n",
      "H     2\n",
      "*     1\n",
      "W     1\n",
      "dtype: int64\n"
     ]
    }
   ],
   "source": [
    "protein0_counts = pd.Series(list(protein0.seq)).value_counts()\n",
    "protein1_counts = pd.Series(list(protein1.seq)).value_counts()\n",
    "print(protein0_counts)"
   ]
  },
  {
   "cell_type": "code",
   "execution_count": 50,
   "metadata": {
    "tags": []
   },
   "outputs": [
    {
     "name": "stdout",
     "output_type": "stream",
     "text": [
      "L    9\n",
      "V    8\n",
      "R    7\n",
      "P    7\n",
      "K    6\n",
      "I    6\n",
      "S    5\n",
      "F    5\n",
      "Y    4\n",
      "C    4\n",
      "N    4\n",
      "G    2\n",
      "T    2\n",
      "D    2\n",
      "E    1\n",
      "*    1\n",
      "H    1\n",
      "A    1\n",
      "M    1\n",
      "dtype: int64\n"
     ]
    }
   ],
   "source": [
    "print(protein1_counts)"
   ]
  },
  {
   "cell_type": "markdown",
   "metadata": {},
   "source": [
    "Then, use the `Series.add()` method to add together the counts from `protein0` and `protein1`.\n",
    "\n",
    "Because some proteins will entirely lack certain amino acids, we need to use the `fill_value` parameter for the `Series.add()` method to fill in a `0` value when an entry is missing. The default is to use a `None` value, leading to a \"not-a-number\" `NaN` value in the sum.\n",
    "\n",
    "If we didn't need to use the `fill_value` in order to handle missing amino acids, we could just add together the counts using `+`."
   ]
  },
  {
   "cell_type": "code",
   "execution_count": 61,
   "metadata": {},
   "outputs": [
    {
     "name": "stdout",
     "output_type": "stream",
     "text": [
      "*     2.0\n",
      "A    20.0\n",
      "C     4.0\n",
      "D     7.0\n",
      "E     6.0\n",
      "F     8.0\n",
      "G     8.0\n",
      "H     3.0\n",
      "I    14.0\n",
      "K     9.0\n",
      "L    17.0\n",
      "M     5.0\n",
      "N     7.0\n",
      "P    12.0\n",
      "Q     4.0\n",
      "R    11.0\n",
      "S    14.0\n",
      "T    15.0\n",
      "V    19.0\n",
      "W     1.0\n",
      "Y    11.0\n",
      "dtype: float64\n"
     ]
    }
   ],
   "source": [
    "total_counts = protein0_counts.add(protein1_counts, fill_value=0)\n",
    "print(total_counts)"
   ]
  },
  {
   "cell_type": "markdown",
   "metadata": {},
   "source": [
    "Now, we can iterate over every sequence in the proteome and keep a running sum of amino acid frequencies.\n",
    "\n",
    "We need to start with an empty set of amino acid counts. Because this is empty, we need to specify the data type for the series:\n",
    "```\n",
    "pd.Series(dtype='int64')\n",
    "```"
   ]
  },
  {
   "cell_type": "code",
   "execution_count": 63,
   "metadata": {},
   "outputs": [
    {
     "name": "stdout",
     "output_type": "stream",
     "text": [
      "*      6064.0\n",
      "A    161450.0\n",
      "C     37287.0\n",
      "D    171556.0\n",
      "E    191723.0\n",
      "F    130264.0\n",
      "G    146138.0\n",
      "H     63795.0\n",
      "I    192717.0\n",
      "K    215733.0\n",
      "L    279435.0\n",
      "M     61220.0\n",
      "N    180883.0\n",
      "P    128629.0\n",
      "Q    116054.0\n",
      "R    130554.0\n",
      "S    264092.0\n",
      "T    173814.0\n",
      "V    163368.0\n",
      "W     30592.0\n",
      "Y     99429.0\n",
      "dtype: float64\n"
     ]
    }
   ],
   "source": [
    "proteins = SeqIO.parse(\"../S288C_R64-3-1/orf_trans_R64-3-1_20210421.fasta\", \"fasta\")\n",
    "total_counts = pd.Series(dtype='int64')\n",
    "\n",
    "for protein in proteins:\n",
    "    protein_counts = pd.Series(list(protein.seq)).value_counts()\n",
    "    total_counts = total_counts.add(protein_counts, fill_value=0)\n",
    "print(total_counts)"
   ]
  },
  {
   "cell_type": "markdown",
   "metadata": {},
   "source": [
    "The counts are now listed in amino acid alphabetical order -- the order of the \"index\".\n",
    "\n",
    "In order to figure out the most and least common amino acids, we can sort the `total_counts` data frame according to the \"values\" with the `Series.sort_values()` method."
   ]
  },
  {
   "cell_type": "code",
   "execution_count": 64,
   "metadata": {},
   "outputs": [
    {
     "name": "stdout",
     "output_type": "stream",
     "text": [
      "*      6064.0\n",
      "W     30592.0\n",
      "C     37287.0\n",
      "M     61220.0\n",
      "H     63795.0\n",
      "Y     99429.0\n",
      "Q    116054.0\n",
      "P    128629.0\n",
      "F    130264.0\n",
      "R    130554.0\n",
      "G    146138.0\n",
      "A    161450.0\n",
      "V    163368.0\n",
      "D    171556.0\n",
      "T    173814.0\n",
      "N    180883.0\n",
      "E    191723.0\n",
      "I    192717.0\n",
      "K    215733.0\n",
      "S    264092.0\n",
      "L    279435.0\n",
      "dtype: float64\n"
     ]
    }
   ],
   "source": [
    "print(total_counts.sort_values())"
   ]
  },
  {
   "cell_type": "markdown",
   "metadata": {},
   "source": [
    "### matplotlib\n",
    "\n",
    "It's also pretty easy to make plots of data in a `Series`. To do this, we need to import another module\n",
    "```\n",
    "import matplotlib.pyplot as plt\n",
    "```"
   ]
  },
  {
   "cell_type": "code",
   "execution_count": 65,
   "metadata": {},
   "outputs": [],
   "source": [
    "import matplotlib.pyplot as plt "
   ]
  },
  {
   "cell_type": "markdown",
   "metadata": {},
   "source": [
    "Now, we can use a `plot()` method on our data series. The default plot is a line plot, but a bar plot makes more sense for this kind of data and so we use the `kind='bar'` argument to the `Series.plot()` method.\n",
    "```\n",
    "total_counts.plot(kind='bar')\n",
    "```\n",
    "You may find it makes more sense to plot the sorted versions of these `Series`"
   ]
  },
  {
   "cell_type": "code",
   "execution_count": 70,
   "metadata": {},
   "outputs": [
    {
     "data": {
      "text/plain": [
       "<AxesSubplot:>"
      ]
     },
     "execution_count": 70,
     "metadata": {},
     "output_type": "execute_result"
    },
    {
     "data": {
      "image/png": "[encoded data removed]",
      "text/plain": [
       "<Figure size 432x288 with 1 Axes>"
      ]
     },
     "metadata": {
      "needs_background": "light"
     },
     "output_type": "display_data"
    }
   ],
   "source": [
    "total_counts.sort_values().plot(kind='bar')"
   ]
  },
  {
   "cell_type": "markdown",
   "metadata": {},
   "source": [
    "### _Exercise_ \n",
    "\n",
    "The file `../S288C_R64-3-1/S288C_reference_sequence_R64-3-1_20210421.fsa` has the nucleotide sequence of the yeast genome. Each chromosome has its own sequence entry. \n",
    "\n",
    "Count the nucleotide frequencies in the genome.\n",
    "\n",
    "Plot a bar graph of nucleotide counts."
   ]
  },
  {
   "cell_type": "code",
   "execution_count": 73,
   "metadata": {},
   "outputs": [
    {
     "name": "stdout",
     "output_type": "stream",
     "text": [
      "ref|NC_001133|\n",
      "ref|NC_001134|\n",
      "ref|NC_001135|\n",
      "ref|NC_001136|\n",
      "ref|NC_001137|\n",
      "ref|NC_001138|\n",
      "ref|NC_001139|\n",
      "ref|NC_001140|\n",
      "ref|NC_001141|\n",
      "ref|NC_001142|\n",
      "ref|NC_001143|\n",
      "ref|NC_001144|\n",
      "ref|NC_001145|\n",
      "ref|NC_001146|\n",
      "ref|NC_001147|\n",
      "ref|NC_001148|\n",
      "ref|NC_001224|\n",
      "A    3766349.0\n",
      "C    2320576.0\n",
      "G    2317100.0\n",
      "T    3753080.0\n",
      "dtype: float64\n"
     ]
    },
    {
     "data": {
      "text/plain": [
       "<AxesSubplot:>"
      ]
     },
     "execution_count": 73,
     "metadata": {},
     "output_type": "execute_result"
    },
    {
     "data": {
      "image/png": "[encoded data removed]",
      "text/plain": [
       "<Figure size 432x288 with 1 Axes>"
      ]
     },
     "metadata": {
      "needs_background": "light"
     },
     "output_type": "display_data"
    }
   ],
   "source": [
    "chroms = SeqIO.parse(\"../S288C_R64-3-1/S288C_reference_sequence_R64-3-1_20210421.fsa\", \"fasta\")\n",
    "nt_count = pd.Series(dtype='int64')\n",
    "for chrom in chroms:\n",
    "    print(str(chrom.name))\n",
    "    nt_count = nt_count.add(pd.Series(list(chrom.seq)).value_counts(), fill_value=0)\n",
    "print(nt_count.sort_index())\n",
    "nt_count.sort_index().plot(kind='bar')\n",
    " "
   ]
  }
 ],
 "metadata": {
  "kernelspec": {
   "display_name": "Python 3",
   "language": "python",
   "name": "python3"
  },
  "language_info": {
   "codemirror_mode": {
    "name": "ipython",
    "version": 3
   },
   "file_extension": ".py",
   "mimetype": "text/x-python",
   "name": "python",
   "nbconvert_exporter": "python",
   "pygments_lexer": "ipython3",
   "version": "3.8.8"
  }
 },
 "nbformat": 4,
 "nbformat_minor": 4
}
