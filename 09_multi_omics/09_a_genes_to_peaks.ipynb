{
 "cells": [
  {
   "cell_type": "markdown",
   "id": "5c873a6c-45a5-405f-b1d0-38f4f0643b4e",
   "metadata": {},
   "source": [
    "## ChIP-Seq and RNA-Seq\n",
    "\n",
    "We now want to combine our ChIP-Seq and RNA-Seq data, using pandas."
   ]
  },
  {
   "cell_type": "code",
   "execution_count": null,
   "id": "d757c063-198d-46f7-9bf6-835e13f57c56",
   "metadata": {},
   "outputs": [],
   "source": []
  },
  {
   "cell_type": "markdown",
   "id": "3317628c-549e-4071-b06f-5bbc763b18b2",
   "metadata": {},
   "source": [
    "### Gene annotations\n",
    "\n",
    "We can read our GFF file of gene annotations. It's just a text table.\n",
    "\n",
    "There are no headers, though. The columns of the file are:\n",
    "```\n",
    "['seqid', 'source', 'type', 'start', 'end', 'score', 'strand', 'phase', 'attributes']\n",
    "```"
   ]
  },
  {
   "cell_type": "code",
   "execution_count": null,
   "id": "8805e4d1-0611-4959-95b8-6f949a564a38",
   "metadata": {},
   "outputs": [],
   "source": []
  },
  {
   "cell_type": "markdown",
   "id": "a601f820-0174-4f80-bf67-13637611963e",
   "metadata": {},
   "source": [
    "There are many different \"types\" of entries in the file. We can use the `value_counts()` method on the `type` column to see all of them."
   ]
  },
  {
   "cell_type": "code",
   "execution_count": null,
   "id": "2a0ff8f7-7f19-405b-84fd-b10329788ca1",
   "metadata": {},
   "outputs": [],
   "source": []
  },
  {
   "cell_type": "markdown",
   "id": "8ee3b4ef-3a87-431d-b6f8-53d51ab78e4e",
   "metadata": {},
   "source": [
    "We only want the `\"gene\"` type of entry and so we'll pick out just these rows out of the data frame."
   ]
  },
  {
   "cell_type": "code",
   "execution_count": null,
   "id": "df1648dc-cf0f-49bc-af2c-880fdfdc382a",
   "metadata": {},
   "outputs": [],
   "source": []
  },
  {
   "cell_type": "markdown",
   "id": "f9e6ac91-d35c-412b-bfa4-327a705f7b09",
   "metadata": {},
   "source": [
    "The systematic name of the gene is buried inside the `attributes` column. This column has a bunch of labeled data in the form _key_=_value_.\n",
    "\n",
    "We can extract it using the `.str.split()` method and then use `.str.replace()` to get rid of the wanted `ID=` part of it to create a `name` column."
   ]
  },
  {
   "cell_type": "code",
   "execution_count": null,
   "id": "22dd8115-e211-417b-8c4a-d252e177ff27",
   "metadata": {},
   "outputs": [],
   "source": []
  },
  {
   "cell_type": "markdown",
   "id": "7148e8b3-345e-4339-ae58-61e0c8ef1ab8",
   "metadata": {},
   "source": [
    "The data table lists the coordinates of genes, but we want to look for ChIP-Seq peaks in the promoter regions. For a `+` strand gene, the promoter is to the left (smaller coordinate numbers) and for a `-` strand gene it is to the right.\n",
    "\n",
    "We'll use a 1 kb window here.\n",
    "\n",
    "For a `+` strand gene, the promoter is _start_-1000 to _start_-1.\n",
    "\n",
    "For a `-` strand gene, the promoter is _end_+1 to _end_+1000.\n",
    "\n",
    "We can use the `np.where(...)` function from `numpy` to handle this situation. We'll compute the starting position for each promoter in the `prmstart` column."
   ]
  },
  {
   "cell_type": "code",
   "execution_count": null,
   "id": "c8a5d6d6-41f9-4112-8de8-20b1b2c6fe17",
   "metadata": {},
   "outputs": [],
   "source": []
  },
  {
   "cell_type": "markdown",
   "id": "8b9bd58f-c759-4e7a-b8a4-72e5af2c3719",
   "metadata": {},
   "source": [
    "We'll be sure to check our coordinate math for genes on each strand.\n",
    "\n",
    "Next, we'll make a `prmend` column that is 1000 bases after the start. We don't need to do anything different based on the strand here."
   ]
  },
  {
   "cell_type": "code",
   "execution_count": null,
   "id": "5eceab74-15cb-4604-9a67-7f9c4fe4ac87",
   "metadata": {},
   "outputs": [],
   "source": []
  },
  {
   "cell_type": "markdown",
   "id": "e99037a1-cfd5-4f74-b4bf-f989e163c0e4",
   "metadata": {},
   "source": [
    "### ChIP-Seq Peaks\n",
    "\n",
    "Now, we'll read in the table of ChIP-Seq peaks."
   ]
  },
  {
   "cell_type": "code",
   "execution_count": null,
   "id": "f04b18af-cfb3-4df4-99fa-c5d59ff1274b",
   "metadata": {},
   "outputs": [],
   "source": []
  },
  {
   "cell_type": "markdown",
   "id": "88b489f6-1608-4f8f-9a63-4526bf0bbf10",
   "metadata": {},
   "source": [
    "At this point we need to loop over each peak and find out which promoter(s) it affects.\n",
    "\n",
    "We'll do this in a multi-step process.\n",
    "1. Generate a dictionary where keys are gene names and values are associated ChIP-Seq peak names. There won't be an entry for every gene.\n",
    "1. Convert this dictionary into a pandas `Series` and merge it in to a new column of the genes data frame, holding peak names. It will have many `NaN` entries for \"missing\" data.\n",
    "1. Merge the whole table of peaks (with enrichment and p-values) into the gene table based on the names.\n",
    "\n",
    "First, we will loop over each peak, using the `.itertuples()` method. In class, we'll just use the top 10 peaks by significance."
   ]
  },
  {
   "cell_type": "code",
   "execution_count": null,
   "id": "f05af3b5-61fd-4f67-9705-e735340df743",
   "metadata": {},
   "outputs": [],
   "source": []
  },
  {
   "cell_type": "markdown",
   "id": "b811e890-cf4f-43ae-9ed8-d736422caea9",
   "metadata": {
    "tags": []
   },
   "source": [
    "Now we need to convert this into a `Series` and give it a name."
   ]
  },
  {
   "cell_type": "code",
   "execution_count": null,
   "id": "bcba89f4-cf96-4989-a194-908862f80e26",
   "metadata": {},
   "outputs": [],
   "source": []
  },
  {
   "cell_type": "markdown",
   "id": "066c5ce0-d406-4277-993f-48a16be3eb37",
   "metadata": {},
   "source": [
    "We can merge our named `Series` into the data frame of genes. We want to match up the `name` column in the genes table with the \"index\" of the `Series."
   ]
  },
  {
   "cell_type": "code",
   "execution_count": null,
   "id": "77447701-98f6-4f5f-b3df-46fa162213fb",
   "metadata": {},
   "outputs": [],
   "source": []
  },
  {
   "cell_type": "markdown",
   "id": "03016b1e-825d-42f3-8f6d-77fc2410f15e",
   "metadata": {},
   "source": [
    "To make sure this worked, check on the row for the gene `YAL005C`, which does have a peak."
   ]
  },
  {
   "cell_type": "code",
   "execution_count": null,
   "id": "0c04c971-b863-4bf8-a613-cd60aa904047",
   "metadata": {},
   "outputs": [],
   "source": []
  },
  {
   "cell_type": "markdown",
   "id": "89dc3859-eaf3-4444-943d-390609e74a19",
   "metadata": {},
   "source": [
    "Now, we will merge in the peaks table by matching up the `peak` column with the `name` column in the peaks table."
   ]
  },
  {
   "cell_type": "code",
   "execution_count": null,
   "id": "4504c9fe-c98a-4fa2-9522-afd6068a6973",
   "metadata": {},
   "outputs": [],
   "source": []
  },
  {
   "cell_type": "markdown",
   "id": "4034399e-cde8-4a4a-bcbe-54e8673a2700",
   "metadata": {},
   "source": [
    "Again, we'll need to check on a row that has a peak to be sure it worked."
   ]
  },
  {
   "cell_type": "code",
   "execution_count": null,
   "id": "8f99613a-de6c-488d-a82b-03b6fa000eae",
   "metadata": {},
   "outputs": [],
   "source": []
  },
  {
   "cell_type": "markdown",
   "id": "deb8c5e9-3a96-4cd9-92d8-69c4067ee62b",
   "metadata": {},
   "source": [
    "### RNA-Seq data\n",
    "\n",
    "Finally, we're ready to read in the table of RNA-Seq results."
   ]
  },
  {
   "cell_type": "code",
   "execution_count": null,
   "id": "6125214d-2b4d-4ce6-8aab-efe1f0fb3387",
   "metadata": {
    "tags": []
   },
   "outputs": [],
   "source": []
  },
  {
   "cell_type": "markdown",
   "id": "d277ca7f-6725-4c8e-ac32-e528bcd0c595",
   "metadata": {
    "tags": []
   },
   "source": [
    "Again we can pull out some statistically significant genes to be sure it worked. Notice that almost every significant gene is down-regulated."
   ]
  },
  {
   "cell_type": "code",
   "execution_count": null,
   "id": "e1ab8ba9-8b21-4599-bf74-1d1a9750ee4c",
   "metadata": {},
   "outputs": [],
   "source": []
  },
  {
   "cell_type": "markdown",
   "id": "8cef69e4-fb37-4579-b085-9e97f7fbb09c",
   "metadata": {},
   "source": [
    "Finally, we're ready to merge the results with the genes.\n",
    "\n",
    "We'll match up the `name_x` column of the genes (which was renamed because the peak table also had a name column) with the \"index\" of the results table."
   ]
  },
  {
   "cell_type": "code",
   "execution_count": null,
   "id": "1c2a0d22-6c06-41e4-9f31-983c74856604",
   "metadata": {},
   "outputs": [],
   "source": []
  },
  {
   "cell_type": "markdown",
   "id": "08e5e4a8-a8b2-4991-bc24-c1a1a7774569",
   "metadata": {},
   "source": [
    "Let's check out the ChIP-Seq genes in the RNA-Seq data."
   ]
  },
  {
   "cell_type": "code",
   "execution_count": null,
   "id": "c1702593-1394-4389-9373-7b04f2a1116c",
   "metadata": {},
   "outputs": [],
   "source": []
  },
  {
   "cell_type": "markdown",
   "id": "1ba8550c-792d-41fc-b3e5-17c81097fcc6",
   "metadata": {},
   "source": [
    "Of course, most genes have a `NaN` missing value for fold enrichment. We can use the `pd.isna()` function to test whether a value is `NaN` or not.\n",
    "\n",
    "Rows where `fold_enrichment` is _not_ `NaN` are genes with a potential ChIP-Seq peak."
   ]
  },
  {
   "cell_type": "code",
   "execution_count": null,
   "id": "391eac59-bf4d-425b-9eb1-4babd9f48c76",
   "metadata": {},
   "outputs": [],
   "source": []
  },
  {
   "cell_type": "markdown",
   "id": "e73ceadd-f6c7-4893-b77c-42154003263a",
   "metadata": {},
   "source": [
    "Many of these genes have significant adjusted p-values and negative log fold-changes. Let's look at this trend more rigorously by plotting the histogram of fold-changes for these groups.\n",
    "\n",
    "Start by importing matplotlib.pyplot."
   ]
  },
  {
   "cell_type": "code",
   "execution_count": null,
   "id": "b58648fd-9921-4177-9ccc-36d8fa4e72eb",
   "metadata": {},
   "outputs": [],
   "source": []
  },
  {
   "cell_type": "markdown",
   "id": "13f5bdd1-444f-4329-896b-74d22ee76da9",
   "metadata": {},
   "source": [
    "We'll make a histogram of `fold_enrichment` values for all genes."
   ]
  },
  {
   "cell_type": "code",
   "execution_count": null,
   "id": "8d5ec819-306e-4bf9-a5b8-2f30e6613a77",
   "metadata": {},
   "outputs": [],
   "source": []
  },
  {
   "cell_type": "markdown",
   "id": "d40f8d99-f904-4a37-9484-cff4652ad535",
   "metadata": {},
   "source": [
    "Then, we'll make a similar histogram, for genes with a ChIP-Seq peak.\n",
    "\n",
    "We'll use the `range` parameter so the histograms are easier to compare."
   ]
  },
  {
   "cell_type": "code",
   "execution_count": null,
   "id": "16d72ec4-5cfb-40b6-8373-618cb1020eb1",
   "metadata": {},
   "outputs": [],
   "source": []
  },
  {
   "cell_type": "markdown",
   "id": "f73cc6b7-3a35-454c-bf03-284374549a45",
   "metadata": {},
   "source": [
    "This looks different—but is it significant?\n",
    "\n",
    "We'll use the `mannwhitneyu` function from `scipy.stats` to run a statistical test. To do this, we'll need to remove the `NaN` values using the `.dropna()` method."
   ]
  },
  {
   "cell_type": "code",
   "execution_count": null,
   "id": "8ddf23bd-97f5-4162-bc0b-e8f160689259",
   "metadata": {},
   "outputs": [],
   "source": [
    "import scipy.stats as stats\n",
    "nochip = genes4[pd.isna(genes4['fold_enrichment'])]['log2FoldChange'].dropna()\n",
    "yeschip = genes4[~pd.isna(genes4['fold_enrichment'])]['log2FoldChange'].dropna()\n",
    "stats.mannwhitneyu(nochip, yeschip)"
   ]
  },
  {
   "cell_type": "markdown",
   "id": "c761fe1b-ed73-4e19-a8a5-6a9d53f22d95",
   "metadata": {},
   "source": [
    "Finally, we'll make a table of the high-confidence targets that have a ChIP-Seq peak and an expression change."
   ]
  },
  {
   "cell_type": "code",
   "execution_count": null,
   "id": "98d8ce3e-e07a-4108-85b9-e5833caff1bc",
   "metadata": {},
   "outputs": [],
   "source": []
  },
  {
   "cell_type": "code",
   "execution_count": null,
   "id": "f0b8a667-b286-456f-b53f-a4ae9f8427f8",
   "metadata": {},
   "outputs": [],
   "source": []
  }
 ],
 "metadata": {
  "kernelspec": {
   "display_name": "Python 3 (ipykernel)",
   "language": "python",
   "name": "python3"
  },
  "language_info": {
   "codemirror_mode": {
    "name": "ipython",
    "version": 3
   },
   "file_extension": ".py",
   "mimetype": "text/x-python",
   "name": "python",
   "nbconvert_exporter": "python",
   "pygments_lexer": "ipython3",
   "version": "3.9.10"
  }
 },
 "nbformat": 4,
 "nbformat_minor": 5
}
