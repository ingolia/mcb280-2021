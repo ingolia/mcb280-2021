{
 "cells": [
  {
   "cell_type": "markdown",
   "id": "8dc07ffb-9109-4015-a784-f91f20020c31",
   "metadata": {},
   "source": [
    "## DESeq2\n",
    "\n",
    "We start by loading the DESeq2 library. This is pretty similar to `import` in Python. It normally produces a bunch of informative but not worrying information."
   ]
  },
  {
   "cell_type": "code",
   "execution_count": null,
   "id": "2f972b20-756f-4203-bf68-e0439138d5d7",
   "metadata": {
    "tags": []
   },
   "outputs": [],
   "source": [
    "library(DESeq2)"
   ]
  },
  {
   "cell_type": "markdown",
   "id": "02f4fe88-645f-4902-b35a-a8f18141dda5",
   "metadata": {},
   "source": [
    "Now we will read in the CSV count table.\n",
    "\n",
    "Conceptually this is similar to `pd.read_csv()`. We have a couple of special parameters in addition to the filename."
   ]
  },
  {
   "cell_type": "code",
   "execution_count": null,
   "id": "c4968714-258d-49f6-9a09-f6f25fef4d55",
   "metadata": {},
   "outputs": [],
   "source": [
    "counts <- read.csv(\"1M.counts.csv\", stringsAsFactors=FALSE, row.names=1)"
   ]
  },
  {
   "cell_type": "markdown",
   "id": "391dacb1-fe63-49a4-9eb6-26d068686c01",
   "metadata": {},
   "source": [
    "We can use the `head()` function, similar to the `.head()` method in pandas, to check out our count table. Notice that the \"row names\" are now gene names."
   ]
  },
  {
   "cell_type": "code",
   "execution_count": null,
   "id": "d17903da-1a3b-45c0-b46d-37b546afb791",
   "metadata": {},
   "outputs": [],
   "source": [
    "head(counts)"
   ]
  },
  {
   "cell_type": "markdown",
   "id": "c2b99c92-0a58-4785-b97c-c94e05b619ce",
   "metadata": {},
   "source": [
    "We will also read in the condition matrix."
   ]
  },
  {
   "cell_type": "code",
   "execution_count": null,
   "id": "c84e3b97-6a59-423b-87e2-1467ab156d86",
   "metadata": {},
   "outputs": [],
   "source": [
    "conditions <- read.csv(\"1M.conditions.csv\", stringsAsFactors=FALSE, row.names=1)\n",
    "conditions"
   ]
  },
  {
   "cell_type": "markdown",
   "id": "fc2b9416-2b1e-4bf6-a3ad-11babe6b011a",
   "metadata": {},
   "source": [
    "Now, we run a few DESeq2-specific commands.\n",
    "\n",
    "The first creates a `DESeqDataSet` object which we'll call `dds`."
   ]
  },
  {
   "cell_type": "code",
   "execution_count": null,
   "id": "95296bc7-e730-4bbd-90ce-766d6028ae8e",
   "metadata": {},
   "outputs": [],
   "source": [
    "dds <- DESeqDataSetFromMatrix(countData = counts,\n",
    "                              colData = conditions,\n",
    "                              design = ~ rapa)"
   ]
  },
  {
   "cell_type": "markdown",
   "id": "9c07504f-282f-4efe-baeb-58e714d77430",
   "metadata": {},
   "source": [
    "Next, we estimate the \"size factors\" that control for the differences in library size.\n",
    "\n",
    "In this analysis, we used exactly 1 million reads for each library and so the size factors are almost exactly 1."
   ]
  },
  {
   "cell_type": "code",
   "execution_count": null,
   "id": "42ff26ac-32eb-477a-aa11-59cf2b9149f5",
   "metadata": {},
   "outputs": [],
   "source": [
    "dds <- estimateSizeFactors(dds)\n",
    "sizeFactors(dds)"
   ]
  },
  {
   "cell_type": "markdown",
   "id": "a4e7960e-9c3e-4761-b154-fb49ea67eaf6",
   "metadata": {},
   "source": [
    "Now we estimate the noise in our measurements, called the \"dispersions\".\n",
    "\n",
    "When you run this yourself with replicates, you should *remove* the entire `, modelMatrix=...` part.\n",
    "\n",
    "Just write `dds <- estimateDispersions(dds)`."
   ]
  },
  {
   "cell_type": "code",
   "execution_count": null,
   "id": "c7a704a0-f47d-4100-8a79-e6baf8666c39",
   "metadata": {},
   "outputs": [],
   "source": [
    "dds <- estimateDispersions(dds, modelMatrix=model.matrix(~1, conditions))\n",
    "plotDispEsts(dds)"
   ]
  },
  {
   "cell_type": "markdown",
   "id": "827dbf09-2cff-4056-bf0b-452dc4dda994",
   "metadata": {},
   "source": [
    "Finally, we use the Wald test to detect statistically significantly different genes."
   ]
  },
  {
   "cell_type": "code",
   "execution_count": null,
   "id": "8bc0502b-e876-4478-a4f4-c77c6a1bf9c5",
   "metadata": {
    "tags": []
   },
   "outputs": [],
   "source": [
    "dds <- nbinomWaldTest(dds)"
   ]
  },
  {
   "cell_type": "markdown",
   "id": "a7d33653-d492-4ff2-a425-623b800e486d",
   "metadata": {},
   "source": [
    "All of our analysis is still hidden inside the `DESeqDataSet`. We can pull out the results using the `results()` function."
   ]
  },
  {
   "cell_type": "code",
   "execution_count": null,
   "id": "e9f86308-0344-4d37-97ac-89082302cfec",
   "metadata": {},
   "outputs": [],
   "source": [
    "res <- results(dds)"
   ]
  },
  {
   "cell_type": "code",
   "execution_count": null,
   "id": "52fbe2a7-5331-4e0e-8026-da72f045bb08",
   "metadata": {},
   "outputs": [],
   "source": [
    "res"
   ]
  },
  {
   "cell_type": "markdown",
   "id": "40165dae-ed88-4f50-a658-cda45fc588a2",
   "metadata": {},
   "source": [
    "We can write these results to a CSV file and escape from R back into Python."
   ]
  },
  {
   "cell_type": "code",
   "execution_count": null,
   "id": "ac0e868f-93ce-48e5-86b9-c36a2e60730b",
   "metadata": {},
   "outputs": [],
   "source": [
    "write.csv(res, \"1M.results.csv\")"
   ]
  }
 ],
 "metadata": {
  "kernelspec": {
   "display_name": "R",
   "language": "R",
   "name": "ir"
  },
  "language_info": {
   "codemirror_mode": "r",
   "file_extension": ".r",
   "mimetype": "text/x-r-source",
   "name": "R",
   "pygments_lexer": "r",
   "version": "4.1.2"
  }
 },
 "nbformat": 4,
 "nbformat_minor": 5
}
