{
 "cells": [
  {
   "cell_type": "markdown",
   "id": "f9762aff-bc2c-4fff-986b-b0387059cbfe",
   "metadata": {},
   "source": [
    "## DESeq2 Results\n",
    "\n",
    "Back in Python, we will use pandas to load the CSV file of DESeq2 results."
   ]
  },
  {
   "cell_type": "code",
   "execution_count": 1,
   "id": "bc50b3f1-5cdf-47f7-8b86-d5867bf096d0",
   "metadata": {},
   "outputs": [],
   "source": [
    "import pandas as pd"
   ]
  },
  {
   "cell_type": "markdown",
   "id": "a6f2c7a0-0994-4228-b4d1-1ce7c6391a84",
   "metadata": {},
   "source": [
    "The results are a text table. This time, they're CSV with headers, making our lives easier."
   ]
  },
  {
   "cell_type": "code",
   "execution_count": 4,
   "id": "81881fee-248f-413d-922c-ab962dddb051",
   "metadata": {},
   "outputs": [
    {
     "data": {
      "text/html": [
       "<div>\n",
       "<style scoped>\n",
       "    .dataframe tbody tr th:only-of-type {\n",
       "        vertical-align: middle;\n",
       "    }\n",
       "\n",
       "    .dataframe tbody tr th {\n",
       "        vertical-align: top;\n",
       "    }\n",
       "\n",
       "    .dataframe thead th {\n",
       "        text-align: right;\n",
       "    }\n",
       "</style>\n",
       "<table border=\"1\" class=\"dataframe\">\n",
       "  <thead>\n",
       "    <tr style=\"text-align: right;\">\n",
       "      <th></th>\n",
       "      <th>baseMean</th>\n",
       "      <th>log2FoldChange</th>\n",
       "      <th>lfcSE</th>\n",
       "      <th>stat</th>\n",
       "      <th>pvalue</th>\n",
       "      <th>padj</th>\n",
       "    </tr>\n",
       "  </thead>\n",
       "  <tbody>\n",
       "    <tr>\n",
       "      <th>Q0010</th>\n",
       "      <td>0.000000</td>\n",
       "      <td>NaN</td>\n",
       "      <td>NaN</td>\n",
       "      <td>NaN</td>\n",
       "      <td>NaN</td>\n",
       "      <td>NaN</td>\n",
       "    </tr>\n",
       "    <tr>\n",
       "      <th>Q0017</th>\n",
       "      <td>0.000000</td>\n",
       "      <td>NaN</td>\n",
       "      <td>NaN</td>\n",
       "      <td>NaN</td>\n",
       "      <td>NaN</td>\n",
       "      <td>NaN</td>\n",
       "    </tr>\n",
       "    <tr>\n",
       "      <th>Q0032</th>\n",
       "      <td>0.000000</td>\n",
       "      <td>NaN</td>\n",
       "      <td>NaN</td>\n",
       "      <td>NaN</td>\n",
       "      <td>NaN</td>\n",
       "      <td>NaN</td>\n",
       "    </tr>\n",
       "    <tr>\n",
       "      <th>Q0045</th>\n",
       "      <td>0.000000</td>\n",
       "      <td>NaN</td>\n",
       "      <td>NaN</td>\n",
       "      <td>NaN</td>\n",
       "      <td>NaN</td>\n",
       "      <td>NaN</td>\n",
       "    </tr>\n",
       "    <tr>\n",
       "      <th>Q0050</th>\n",
       "      <td>0.000000</td>\n",
       "      <td>NaN</td>\n",
       "      <td>NaN</td>\n",
       "      <td>NaN</td>\n",
       "      <td>NaN</td>\n",
       "      <td>NaN</td>\n",
       "    </tr>\n",
       "    <tr>\n",
       "      <th>...</th>\n",
       "      <td>...</td>\n",
       "      <td>...</td>\n",
       "      <td>...</td>\n",
       "      <td>...</td>\n",
       "      <td>...</td>\n",
       "      <td>...</td>\n",
       "    </tr>\n",
       "    <tr>\n",
       "      <th>YPR201W</th>\n",
       "      <td>3.000149</td>\n",
       "      <td>-0.028737</td>\n",
       "      <td>2.403007</td>\n",
       "      <td>-0.011959</td>\n",
       "      <td>0.990458</td>\n",
       "      <td>0.999649</td>\n",
       "    </tr>\n",
       "    <tr>\n",
       "      <th>YPR202W</th>\n",
       "      <td>1.495094</td>\n",
       "      <td>0.971247</td>\n",
       "      <td>3.422096</td>\n",
       "      <td>0.283816</td>\n",
       "      <td>0.776551</td>\n",
       "      <td>0.999649</td>\n",
       "    </tr>\n",
       "    <tr>\n",
       "      <th>YPR203W</th>\n",
       "      <td>0.000000</td>\n",
       "      <td>NaN</td>\n",
       "      <td>NaN</td>\n",
       "      <td>NaN</td>\n",
       "      <td>NaN</td>\n",
       "      <td>NaN</td>\n",
       "    </tr>\n",
       "    <tr>\n",
       "      <th>YPR204C-A</th>\n",
       "      <td>0.000000</td>\n",
       "      <td>NaN</td>\n",
       "      <td>NaN</td>\n",
       "      <td>NaN</td>\n",
       "      <td>NaN</td>\n",
       "      <td>NaN</td>\n",
       "    </tr>\n",
       "    <tr>\n",
       "      <th>YPR204W</th>\n",
       "      <td>1.485132</td>\n",
       "      <td>3.998832</td>\n",
       "      <td>3.914070</td>\n",
       "      <td>1.021656</td>\n",
       "      <td>0.306944</td>\n",
       "      <td>0.999649</td>\n",
       "    </tr>\n",
       "  </tbody>\n",
       "</table>\n",
       "<p>6607 rows × 6 columns</p>\n",
       "</div>"
      ],
      "text/plain": [
       "           baseMean  log2FoldChange     lfcSE      stat    pvalue      padj\n",
       "Q0010      0.000000             NaN       NaN       NaN       NaN       NaN\n",
       "Q0017      0.000000             NaN       NaN       NaN       NaN       NaN\n",
       "Q0032      0.000000             NaN       NaN       NaN       NaN       NaN\n",
       "Q0045      0.000000             NaN       NaN       NaN       NaN       NaN\n",
       "Q0050      0.000000             NaN       NaN       NaN       NaN       NaN\n",
       "...             ...             ...       ...       ...       ...       ...\n",
       "YPR201W    3.000149       -0.028737  2.403007 -0.011959  0.990458  0.999649\n",
       "YPR202W    1.495094        0.971247  3.422096  0.283816  0.776551  0.999649\n",
       "YPR203W    0.000000             NaN       NaN       NaN       NaN       NaN\n",
       "YPR204C-A  0.000000             NaN       NaN       NaN       NaN       NaN\n",
       "YPR204W    1.485132        3.998832  3.914070  1.021656  0.306944  0.999649\n",
       "\n",
       "[6607 rows x 6 columns]"
      ]
     },
     "execution_count": 4,
     "metadata": {},
     "output_type": "execute_result"
    }
   ],
   "source": [
    "results = pd.read_csv(\"1M.results.csv\", index_col=0)\n",
    "results"
   ]
  },
  {
   "cell_type": "markdown",
   "id": "242c27b2-d587-4e8d-af2a-a6702d4f6e86",
   "metadata": {},
   "source": [
    "Now we can look for the most significant genes in this analysis."
   ]
  },
  {
   "cell_type": "code",
   "execution_count": 5,
   "id": "46d0aa31-5815-49bc-b549-d1d2a80d9b08",
   "metadata": {},
   "outputs": [
    {
     "data": {
      "text/html": [
       "<div>\n",
       "<style scoped>\n",
       "    .dataframe tbody tr th:only-of-type {\n",
       "        vertical-align: middle;\n",
       "    }\n",
       "\n",
       "    .dataframe tbody tr th {\n",
       "        vertical-align: top;\n",
       "    }\n",
       "\n",
       "    .dataframe thead th {\n",
       "        text-align: right;\n",
       "    }\n",
       "</style>\n",
       "<table border=\"1\" class=\"dataframe\">\n",
       "  <thead>\n",
       "    <tr style=\"text-align: right;\">\n",
       "      <th></th>\n",
       "      <th>baseMean</th>\n",
       "      <th>log2FoldChange</th>\n",
       "      <th>lfcSE</th>\n",
       "      <th>stat</th>\n",
       "      <th>pvalue</th>\n",
       "      <th>padj</th>\n",
       "    </tr>\n",
       "  </thead>\n",
       "  <tbody>\n",
       "  </tbody>\n",
       "</table>\n",
       "</div>"
      ],
      "text/plain": [
       "Empty DataFrame\n",
       "Columns: [baseMean, log2FoldChange, lfcSE, stat, pvalue, padj]\n",
       "Index: []"
      ]
     },
     "execution_count": 5,
     "metadata": {},
     "output_type": "execute_result"
    }
   ],
   "source": [
    "results[results['padj'] < 0.1]"
   ]
  },
  {
   "cell_type": "markdown",
   "id": "34c3b8d4-1ec5-47e2-8742-19ce64c12dd9",
   "metadata": {},
   "source": [
    "Even though our manual analysis was promising, this doesn't look good.\n",
    "\n",
    "The problem is the lack of replicates! Without replicates, we greatly overestimate the noise in our measurements.\n",
    "\n",
    "For instance, we can look up YAL004C and see a big fold-change, but also a big standard error in the fold-change estimate, so the final result is not significant."
   ]
  },
  {
   "cell_type": "code",
   "execution_count": 7,
   "id": "b77b490b-f170-4f9f-bb78-9be7c2dc1d73",
   "metadata": {},
   "outputs": [
    {
     "data": {
      "text/plain": [
       "baseMean          138.933250\n",
       "log2FoldChange     -2.388613\n",
       "lfcSE               2.002990\n",
       "stat               -1.192523\n",
       "pvalue              0.233056\n",
       "padj                0.999649\n",
       "Name: YAL005C, dtype: float64"
      ]
     },
     "execution_count": 7,
     "metadata": {},
     "output_type": "execute_result"
    }
   ],
   "source": [
    "results.loc['YAL005C']"
   ]
  },
  {
   "cell_type": "markdown",
   "id": "90801048-bc73-437c-b209-ca34c5d75ac8",
   "metadata": {},
   "source": [
    "When you run this yourself with replicates, it should be better."
   ]
  },
  {
   "cell_type": "markdown",
   "id": "391405f8-c358-4757-8f34-f09d865d1146",
   "metadata": {},
   "source": [
    "You can also read in the \"SGD_Features\" table and annotate the results."
   ]
  },
  {
   "cell_type": "code",
   "execution_count": null,
   "id": "b8dc838f-1ff7-4c1e-a821-1ad7da7ca0d0",
   "metadata": {},
   "outputs": [],
   "source": []
  }
 ],
 "metadata": {
  "kernelspec": {
   "display_name": "Python 3 (ipykernel)",
   "language": "python",
   "name": "python3"
  },
  "language_info": {
   "codemirror_mode": {
    "name": "ipython",
    "version": 3
   },
   "file_extension": ".py",
   "mimetype": "text/x-python",
   "name": "python",
   "nbconvert_exporter": "python",
   "pygments_lexer": "ipython3",
   "version": "3.9.10"
  }
 },
 "nbformat": 4,
 "nbformat_minor": 5
}
