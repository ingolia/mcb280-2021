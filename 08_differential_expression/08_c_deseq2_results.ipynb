{
 "cells": [
  {
   "cell_type": "markdown",
   "id": "f9762aff-bc2c-4fff-986b-b0387059cbfe",
   "metadata": {},
   "source": [
    "## DESeq2 Results\n",
    "\n",
    "Back in Python, we will use pandas to load the CSV file of DESeq2 results."
   ]
  },
  {
   "cell_type": "code",
   "execution_count": null,
   "id": "bc50b3f1-5cdf-47f7-8b86-d5867bf096d0",
   "metadata": {},
   "outputs": [],
   "source": []
  },
  {
   "cell_type": "markdown",
   "id": "a6f2c7a0-0994-4228-b4d1-1ce7c6391a84",
   "metadata": {},
   "source": [
    "The results are a text table. This time, they're CSV with headers, making our lives easier."
   ]
  },
  {
   "cell_type": "code",
   "execution_count": null,
   "id": "81881fee-248f-413d-922c-ab962dddb051",
   "metadata": {},
   "outputs": [],
   "source": []
  },
  {
   "cell_type": "markdown",
   "id": "242c27b2-d587-4e8d-af2a-a6702d4f6e86",
   "metadata": {},
   "source": [
    "Now we can look for the most significant genes in this analysis."
   ]
  },
  {
   "cell_type": "code",
   "execution_count": null,
   "id": "46d0aa31-5815-49bc-b549-d1d2a80d9b08",
   "metadata": {},
   "outputs": [],
   "source": []
  },
  {
   "cell_type": "markdown",
   "id": "34c3b8d4-1ec5-47e2-8742-19ce64c12dd9",
   "metadata": {},
   "source": [
    "Even though our manual analysis was promising, this doesn't look good.\n",
    "\n",
    "The problem is the lack of replicates! Without replicates, we greatly overestimate the noise in our measurements.\n",
    "\n",
    "For instance, we can look up YAL004C and see a big fold-change, but also a big standard error in the fold-change estimate, so the final result is not significant."
   ]
  },
  {
   "cell_type": "code",
   "execution_count": null,
   "id": "b77b490b-f170-4f9f-bb78-9be7c2dc1d73",
   "metadata": {},
   "outputs": [],
   "source": []
  },
  {
   "cell_type": "markdown",
   "id": "90801048-bc73-437c-b209-ca34c5d75ac8",
   "metadata": {},
   "source": [
    "When you run this yourself with replicates, it should be better."
   ]
  },
  {
   "cell_type": "markdown",
   "id": "391405f8-c358-4757-8f34-f09d865d1146",
   "metadata": {},
   "source": [
    "You can also read in the \"SGD_Features\" table and annotate the results."
   ]
  },
  {
   "cell_type": "code",
   "execution_count": null,
   "id": "b8dc838f-1ff7-4c1e-a821-1ad7da7ca0d0",
   "metadata": {},
   "outputs": [],
   "source": []
  }
 ],
 "metadata": {
  "kernelspec": {
   "display_name": "Python 3 (ipykernel)",
   "language": "python",
   "name": "python3"
  },
  "language_info": {
   "codemirror_mode": {
    "name": "ipython",
    "version": 3
   },
   "file_extension": ".py",
   "mimetype": "text/x-python",
   "name": "python",
   "nbconvert_exporter": "python",
   "pygments_lexer": "ipython3",
   "version": "3.9.10"
  }
 },
 "nbformat": 4,
 "nbformat_minor": 5
}
