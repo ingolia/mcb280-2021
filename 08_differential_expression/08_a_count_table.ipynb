{
 "cells": [
  {
   "cell_type": "markdown",
   "id": "87b0a3fd-52cd-4660-9c3f-4881aab2e3a7",
   "metadata": {
    "tags": []
   },
   "source": [
    "## RNA-Seq Counts\n",
    "\n",
    "We have two tables of RNA-Seq read counts now, and we'll have four after we process all of the samples.\n",
    "\n",
    "We'll read in these count tables using pandas and set up the input for DESeq2."
   ]
  },
  {
   "cell_type": "code",
   "execution_count": null,
   "id": "5f41c2bb-5e43-423a-a3e6-2a3db732ba4c",
   "metadata": {},
   "outputs": [],
   "source": []
  },
  {
   "cell_type": "markdown",
   "id": "44cea6b0-f885-4fe2-85f8-c34a87aa6d48",
   "metadata": {},
   "source": [
    "The count tables are tab-delimited text tables.\n",
    "\n",
    "They have no headers, and we'll want to give meaningful names to the columns. In particular, we'll be constructing a multi-column data frame with one column per sample. In order to make this easier, the name of the counts column should match the name of the sample."
   ]
  },
  {
   "cell_type": "code",
   "execution_count": null,
   "id": "6e597366-d1b2-4cde-a764-5ccdaf8698cf",
   "metadata": {
    "tags": []
   },
   "outputs": [],
   "source": []
  },
  {
   "cell_type": "markdown",
   "id": "1070d353-3689-428e-927a-abb8b3a8af0c",
   "metadata": {},
   "source": [
    "Now, we can use the `merge` function to combine the data frames.\n",
    "\n",
    "We match up rows from different count tables according to the `gene` column."
   ]
  },
  {
   "cell_type": "code",
   "execution_count": null,
   "id": "9cceb719-7966-44f1-b529-ee1d4a426a8c",
   "metadata": {},
   "outputs": [],
   "source": []
  },
  {
   "cell_type": "markdown",
   "id": "a2530d06-5209-4cd0-ab5d-434406b8ea20",
   "metadata": {},
   "source": [
    "In addition to all the \"real\" genes, we also have entries in our table that count up the reads that don't match any gene (`__no_feature`), the reads that could match two or more genes (`__ambiguous`, not many of these), and so forth.\n",
    "\n",
    "We can search for those rows using the `.str.contains()` method on the `.gene` column."
   ]
  },
  {
   "cell_type": "code",
   "execution_count": null,
   "id": "65d0bb5f-8268-4105-9d71-2d422002ca6b",
   "metadata": {},
   "outputs": [],
   "source": []
  },
  {
   "cell_type": "markdown",
   "id": "e1a4f2ab-df46-45de-ad90-42b18a7b07f5",
   "metadata": {},
   "source": [
    "We can *remove* all of those unwanted rows from our counts matrix by picking all rows whose gene name does *not* contain a `_` using the `~` operator."
   ]
  },
  {
   "cell_type": "code",
   "execution_count": null,
   "id": "0e462a9b-33f6-45a5-80fc-3ca28a1e81e9",
   "metadata": {},
   "outputs": [],
   "source": []
  },
  {
   "cell_type": "markdown",
   "id": "c37762eb-1fa1-40c3-9fde-0695b3c097bd",
   "metadata": {},
   "source": [
    "Next we'll look at the highest-expression genes using the `.sort_values()` method."
   ]
  },
  {
   "cell_type": "code",
   "execution_count": null,
   "id": "1fd8f74f-9329-4437-896e-e5c888c971b9",
   "metadata": {},
   "outputs": [],
   "source": []
  },
  {
   "cell_type": "markdown",
   "id": "3b9cbef7-38e2-4fc6-8c20-ec11c27c96fd",
   "metadata": {},
   "source": [
    "### Getting ready for DESeq2\n",
    "\n",
    "At this point, we'll write a CSV file with the counts matrix in order to look at it in DESeq2."
   ]
  },
  {
   "cell_type": "code",
   "execution_count": null,
   "id": "657828f3-97c8-4cd4-b212-b068692a9549",
   "metadata": {},
   "outputs": [],
   "source": []
  },
  {
   "cell_type": "markdown",
   "id": "fc517916-8f8e-4a77-b748-abcea50c47b1",
   "metadata": {},
   "source": [
    "We'll also need a \"conditions\" matrix that describes the samples, for use with DESeq2."
   ]
  },
  {
   "cell_type": "code",
   "execution_count": null,
   "id": "63e1a814-2a2d-48fb-9905-bd0e48713efa",
   "metadata": {},
   "outputs": [],
   "source": []
  },
  {
   "cell_type": "markdown",
   "id": "6e8550eb-47c6-4143-97a8-53d8a2115937",
   "metadata": {},
   "source": [
    "We will write this to a CSV file too."
   ]
  },
  {
   "cell_type": "code",
   "execution_count": null,
   "id": "0ebec44a-29b2-4e7b-ae55-55577e8a4844",
   "metadata": {},
   "outputs": [],
   "source": []
  },
  {
   "cell_type": "markdown",
   "id": "ab3d9bbe-4365-4425-88f8-bf435dce5eac",
   "metadata": {},
   "source": [
    "### Manual analysis\n",
    "\n",
    "Before running DESeq2, let's simply *look* at our data, using matplotlib."
   ]
  },
  {
   "cell_type": "code",
   "execution_count": null,
   "id": "57d46a50-f840-4240-8670-c8bfc69cf2ed",
   "metadata": {},
   "outputs": [],
   "source": []
  },
  {
   "cell_type": "markdown",
   "id": "128ae412-29b6-4852-96a3-02b46107a14d",
   "metadata": {},
   "source": [
    "We start by making a scatter plot of the read counts in these two samples.\n",
    "\n",
    "Because of the very wide spread in gene expression levels, we usually make these plots with log-scaled axes. The `loglog()` function turns on log-scaled axes."
   ]
  },
  {
   "cell_type": "code",
   "execution_count": null,
   "id": "3248319e-82d0-4025-b9fa-353eaca98a9f",
   "metadata": {},
   "outputs": [],
   "source": []
  },
  {
   "cell_type": "markdown",
   "id": "2daafa01-4c49-4e7b-8c63-470252636777",
   "metadata": {},
   "source": [
    "In order to hunt down genes that change a lot between the two conditions, we'll compute the *ratio* between the counts, as a new column."
   ]
  },
  {
   "cell_type": "code",
   "execution_count": null,
   "id": "1072b8cb-295e-48d3-97d3-527f5f426272",
   "metadata": {},
   "outputs": [],
   "source": []
  },
  {
   "cell_type": "markdown",
   "id": "164d9f95-2ba7-4330-b95b-946fd5b38c12",
   "metadata": {},
   "source": [
    "We can sort the ratios to look for really extreme values."
   ]
  },
  {
   "cell_type": "code",
   "execution_count": null,
   "id": "5379ae07-d6e6-41d8-ade1-4598b32e4f0f",
   "metadata": {
    "tags": []
   },
   "outputs": [],
   "source": []
  },
  {
   "cell_type": "markdown",
   "id": "a8280f14-0086-4211-9b3d-920fdb851987",
   "metadata": {},
   "source": [
    "Most of the extreme values show up when the absolute number of reads is very small. These are probably statistical variation and not real biology.\n",
    "\n",
    "Instead, let's return to sorting genes according to their expression in the unperturbed experiment, taking the 1000 highest-expression genes."
   ]
  },
  {
   "cell_type": "code",
   "execution_count": null,
   "id": "9f8af99e-9f78-43f7-b486-025862bcdfed",
   "metadata": {
    "tags": []
   },
   "outputs": [],
   "source": []
  },
  {
   "cell_type": "markdown",
   "id": "d5c6b91c-7ff5-420b-a04d-e35a90a75c85",
   "metadata": {},
   "source": [
    "The ratio values are all pretty close to 1 here. Maybe there are some high-expression genes with ratio values very different from 1. We really want to see, among all highly-expressed genes, what are the most extreme ratios?\n",
    "\n",
    "To do this, we can first sort by `rapa_0` expression, take the top 1000, and then sort by value"
   ]
  },
  {
   "cell_type": "code",
   "execution_count": null,
   "id": "1fbc86d7-b6ca-473a-a026-9984ff3c960d",
   "metadata": {},
   "outputs": [],
   "source": []
  },
  {
   "cell_type": "markdown",
   "id": "66d8d67d-201c-4269-b32e-18a92ef14cfc",
   "metadata": {},
   "source": [
    "Now we see YAL005C near the top: high expression and a very low `rapa_60` over `rapa_0` ratio.\n",
    "\n",
    "We can also plot the histogram of these ratios in all highly-expressed genes, using `plt.hist()`"
   ]
  },
  {
   "cell_type": "code",
   "execution_count": null,
   "id": "e5bb5ded-b6fd-4538-acef-2d96011d6ab5",
   "metadata": {},
   "outputs": [],
   "source": []
  },
  {
   "cell_type": "markdown",
   "id": "33a8b8a3-4855-4d9d-af31-bce8a7288912",
   "metadata": {},
   "source": [
    "We have been sorting according to `rapa_0` expression, but this is asymmetric. We'd miss a gene that was low expression in `rapa_0` and went up a lot in `rapa_60`.\n",
    "\n",
    "It would be more fair to look at the *average* read count between the two samples."
   ]
  },
  {
   "cell_type": "code",
   "execution_count": null,
   "id": "b77825d4-f65e-43ac-8c8f-255b96127390",
   "metadata": {},
   "outputs": [],
   "source": []
  },
  {
   "cell_type": "markdown",
   "id": "29294d37-92f2-4282-a4a2-ec25355d1a4a",
   "metadata": {},
   "source": [
    "From here, we can plot the average on the x-axis and the ratio on the y-axis. This is called an \"MA\" plot.\n",
    "\n",
    "It has a characteristic arrowhead shape. The big spread on the left-hand side means that the ratios are large when the average is small."
   ]
  },
  {
   "cell_type": "code",
   "execution_count": null,
   "id": "60023604-9d67-48fb-99a1-b821df5ef614",
   "metadata": {},
   "outputs": [],
   "source": []
  },
  {
   "cell_type": "markdown",
   "id": "8e5c1df9-8869-462c-9cdd-617a70cc0d3d",
   "metadata": {},
   "source": [
    "We will pick an arbitrary cutoff at 100 genes and pick out a \"good\" data set of genes with average expression over 100."
   ]
  },
  {
   "cell_type": "code",
   "execution_count": null,
   "id": "9fb56bb6-f59d-4954-bc23-279de50f3f79",
   "metadata": {},
   "outputs": [],
   "source": []
  },
  {
   "cell_type": "markdown",
   "id": "cb37db15-0b83-4a9a-a3fa-8c86bfe10ebd",
   "metadata": {},
   "source": [
    "Now, we can look at the extreme changes in this data set."
   ]
  },
  {
   "cell_type": "code",
   "execution_count": null,
   "id": "7efa5770-5785-4b93-9999-05a8a073f2b9",
   "metadata": {},
   "outputs": [],
   "source": []
  },
  {
   "cell_type": "markdown",
   "id": "3572da90-01e9-4cad-9bea-afb8e3bc3eed",
   "metadata": {},
   "source": [
    "The systematic gene names aren't very useful to us.\n",
    "\n",
    "I like to \"annotate\" these data sets by merging them with a data frame containing the names and brief descriptions of yeast genes.\n",
    "\n",
    "We'll load this data set from a tab-delimited file."
   ]
  },
  {
   "cell_type": "code",
   "execution_count": null,
   "id": "d0ff25f2-aecd-47ae-b1c6-baa9cf4c7bd8",
   "metadata": {},
   "outputs": [],
   "source": []
  },
  {
   "cell_type": "markdown",
   "id": "92773e59-4ee1-4c92-8859-158af18fd6d6",
   "metadata": {},
   "source": [
    "Now, we'll merge the expression data with the _Saccharomyces_ genome database table. The `sgd` doesn't have column names, so we'll use the number, 3, instead."
   ]
  },
  {
   "cell_type": "code",
   "execution_count": null,
   "id": "9ad40bad-261d-4126-bc37-57bf151d6084",
   "metadata": {},
   "outputs": [],
   "source": []
  },
  {
   "cell_type": "markdown",
   "id": "edaea853-0a37-467e-b034-dfc3050d49df",
   "metadata": {},
   "source": [
    "Now we can repeat our analysis: pick genes with average over 100 and sort the extreme ratio values."
   ]
  },
  {
   "cell_type": "code",
   "execution_count": null,
   "id": "fc164c81-7b8e-42d3-a015-502ea25434c9",
   "metadata": {},
   "outputs": [],
   "source": []
  }
 ],
 "metadata": {
  "kernelspec": {
   "display_name": "Python 3 (ipykernel)",
   "language": "python",
   "name": "python3"
  },
  "language_info": {
   "codemirror_mode": {
    "name": "ipython",
    "version": 3
   },
   "file_extension": ".py",
   "mimetype": "text/x-python",
   "name": "python",
   "nbconvert_exporter": "python",
   "pygments_lexer": "ipython3",
   "version": "3.9.10"
  }
 },
 "nbformat": 4,
 "nbformat_minor": 5
}
