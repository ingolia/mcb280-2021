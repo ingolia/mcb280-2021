{
 "cells": [
  {
   "cell_type": "markdown",
   "id": "5c873a6c-45a5-405f-b1d0-38f4f0643b4e",
   "metadata": {},
   "source": [
    "## Functional annotation\n",
    "\n",
    "We will quickly get a \"full\" set of ChIP-Seq x RNA-Seq target genes"
   ]
  },
  {
   "cell_type": "code",
   "execution_count": null,
   "id": "d757c063-198d-46f7-9bf6-835e13f57c56",
   "metadata": {},
   "outputs": [],
   "source": [
    "import pandas as pd"
   ]
  },
  {
   "cell_type": "markdown",
   "id": "3317628c-549e-4071-b06f-5bbc763b18b2",
   "metadata": {},
   "source": [
    "#### Gene annotations\n",
    "\n",
    "Read gene annotation table and extract gene names"
   ]
  },
  {
   "cell_type": "code",
   "execution_count": null,
   "id": "8805e4d1-0611-4959-95b8-6f949a564a38",
   "metadata": {},
   "outputs": [],
   "source": [
    "genes = pd.read_csv(\"~/shared/MCB280A_data/S288C_R64-3-1/saccharomyces_cerevisiae_R64-3-1_20210421.gff\",\n",
    "                   delimiter=\"\\t\",\n",
    "                   header=None,\n",
    "                   names=['seqid', 'source', 'type', \n",
    "                          'start', 'end', 'score', 'strand',\n",
    "                          'phase', 'attributes'])\n",
    "genes = genes[genes['type'] == \"gene\"]\n",
    "genes['name'] = genes['attributes'].str.split(';').str[1]\n",
    "genes['name'] = genes['name'].str.replace(\"Name=\", \"\")"
   ]
  },
  {
   "cell_type": "markdown",
   "id": "7148e8b3-345e-4339-ae58-61e0c8ef1ab8",
   "metadata": {},
   "source": [
    "Build promoter regions for each gene"
   ]
  },
  {
   "cell_type": "code",
   "execution_count": null,
   "id": "c8a5d6d6-41f9-4112-8de8-20b1b2c6fe17",
   "metadata": {},
   "outputs": [],
   "source": [
    "import numpy as np\n",
    "genes['prmstart'] = np.where(genes['strand'] == '+', \n",
    "                             genes['start'] - 1000, \n",
    "                             genes['end'] + 1)\n",
    "genes['prmend'] = genes['prmstart'] + 1000"
   ]
  },
  {
   "cell_type": "markdown",
   "id": "e99037a1-cfd5-4f74-b4bf-f989e163c0e4",
   "metadata": {},
   "source": [
    "#### ChIP-Seq Peaks\n",
    "\n",
    "Now, we'll read in the table of ChIP-Seq peaks."
   ]
  },
  {
   "cell_type": "code",
   "execution_count": null,
   "id": "f04b18af-cfb3-4df4-99fa-c5d59ff1274b",
   "metadata": {},
   "outputs": [],
   "source": [
    "peaks = pd.read_csv(\"~/Hsf1/ChIP-Seq/macs2/Hsf1_ChIP_heatshk_peaks.xls\",\n",
    "                    comment='#', delimiter='\\t')"
   ]
  },
  {
   "cell_type": "markdown",
   "id": "88b489f6-1608-4f8f-9a63-4526bf0bbf10",
   "metadata": {},
   "source": [
    "Compute intersection between promoter regions and ChIP-Seq peaks"
   ]
  },
  {
   "cell_type": "code",
   "execution_count": null,
   "id": "f05af3b5-61fd-4f67-9705-e735340df743",
   "metadata": {
    "tags": []
   },
   "outputs": [],
   "source": [
    "gene_peaks = {}\n",
    "\n",
    "top_peaks = peaks[peaks['-log10(qvalue)'] > 20]\n",
    "\n",
    "for peak in top_peaks.itertuples():\n",
    "    for gene in genes.itertuples():\n",
    "        if (peak.chr == gene.seqid) and (peak.abs_summit >= gene.prmstart) and (peak.abs_summit <= gene.prmend):\n",
    "            gene_peaks[gene.name] = peak.name\n",
    "            \n",
    "gene_peaks = pd.Series(gene_peaks, name='peak')\n"
   ]
  },
  {
   "cell_type": "markdown",
   "id": "066c5ce0-d406-4277-993f-48a16be3eb37",
   "metadata": {},
   "source": [
    "#### ChIP-Seq Genes\n",
    "\n",
    "Add peaks to the gene table"
   ]
  },
  {
   "cell_type": "code",
   "execution_count": null,
   "id": "77447701-98f6-4f5f-b3df-46fa162213fb",
   "metadata": {},
   "outputs": [],
   "source": [
    "genes2 = pd.merge(genes, gene_peaks,\n",
    "                  left_on='name', right_index=True, how='left')"
   ]
  },
  {
   "cell_type": "markdown",
   "id": "89dc3859-eaf3-4444-943d-390609e74a19",
   "metadata": {},
   "source": [
    "Now, we will merge in the peaks table by matching up the `peak` column with the `name` column in the peaks table."
   ]
  },
  {
   "cell_type": "code",
   "execution_count": null,
   "id": "4504c9fe-c98a-4fa2-9522-afd6068a6973",
   "metadata": {},
   "outputs": [],
   "source": [
    "genes3 = pd.merge(genes2, peaks, \n",
    "                  left_on='peak', right_on='name', how='left')"
   ]
  },
  {
   "cell_type": "markdown",
   "id": "deb8c5e9-3a96-4cd9-92d8-69c4067ee62b",
   "metadata": {},
   "source": [
    "#### RNA-Seq data\n",
    "\n",
    "Finally, we're ready to read in the table of RNA-Seq results."
   ]
  },
  {
   "cell_type": "code",
   "execution_count": null,
   "id": "6125214d-2b4d-4ce6-8aab-efe1f0fb3387",
   "metadata": {
    "tags": []
   },
   "outputs": [],
   "source": [
    "results = pd.read_csv(\"full.results.csv\",\n",
    "                     index_col=0)"
   ]
  },
  {
   "cell_type": "markdown",
   "id": "8cef69e4-fb37-4579-b085-9e97f7fbb09c",
   "metadata": {},
   "source": [
    "Merge RNA-Seq into the gene table by name"
   ]
  },
  {
   "cell_type": "code",
   "execution_count": null,
   "id": "1c2a0d22-6c06-41e4-9f31-983c74856604",
   "metadata": {},
   "outputs": [],
   "source": [
    "genes4 = pd.merge(genes3, results,\n",
    "                  left_on='name_x', right_index=True)"
   ]
  },
  {
   "cell_type": "markdown",
   "id": "c761fe1b-ed73-4e19-a8a5-6a9d53f22d95",
   "metadata": {},
   "source": [
    "### Hsf1 Target Genes\n",
    "\n",
    "Here we get the set of genes that have a ChIP-Seq peak and a significant expression change into a set called `targets`"
   ]
  },
  {
   "cell_type": "code",
   "execution_count": null,
   "id": "98d8ce3e-e07a-4108-85b9-e5833caff1bc",
   "metadata": {},
   "outputs": [],
   "source": []
  },
  {
   "cell_type": "markdown",
   "id": "91e05e03-5711-4642-b704-9bb5f29ca915",
   "metadata": {},
   "source": [
    "We want a list of target genes for functional analysis. The gene names can be found in the `name_x` column."
   ]
  },
  {
   "cell_type": "code",
   "execution_count": null,
   "id": "bb84aae2-b552-4de3-b2fa-f83b0dd4fca7",
   "metadata": {},
   "outputs": [],
   "source": []
  },
  {
   "cell_type": "markdown",
   "id": "487bdc29-26b6-4e68-a418-f3c66b80d5fb",
   "metadata": {},
   "source": [
    "We want a simple listing of gene names, which we can produce using the `to_string()` method on the column and setting the `index` parameter to turn off the \"index\", i.e., the row number.\n",
    "\n",
    "This generates a string, which we need to `print(...)`."
   ]
  },
  {
   "cell_type": "code",
   "execution_count": null,
   "id": "6ef28786-d149-4587-90ad-7a072a64309a",
   "metadata": {},
   "outputs": [],
   "source": []
  },
  {
   "cell_type": "markdown",
   "id": "9856d9e8-27f8-4be2-a6e2-5da58a9d6551",
   "metadata": {},
   "source": [
    "### RNA-Seq enrichment analysis\n",
    "\n",
    "We can also run an enrichment analysis based just on the RNA-Seq data.\n",
    "\n",
    "To do this, we write a table of genes and expression changes.\n",
    "\n",
    "We want to exclude genes that are not expressed at all under any condition. Create a table of `present` genes that are above a cutoff `baseMean` value."
   ]
  },
  {
   "cell_type": "code",
   "execution_count": null,
   "id": "bc7f5267-9dd8-470e-bfda-f8178eebeb92",
   "metadata": {},
   "outputs": [],
   "source": []
  },
  {
   "cell_type": "markdown",
   "id": "605f01a9-0bd3-47a5-af2a-fbb19aa36f19",
   "metadata": {},
   "source": [
    "See how many significantly changed genes show up in this analysis."
   ]
  },
  {
   "cell_type": "code",
   "execution_count": null,
   "id": "f0ab43d1-cdc9-46fb-902e-481ba8ad87ea",
   "metadata": {},
   "outputs": [],
   "source": []
  },
  {
   "cell_type": "markdown",
   "id": "0d31e983-730d-43a6-ab28-1776f46623a3",
   "metadata": {},
   "source": [
    "Extract the column of expression changes"
   ]
  },
  {
   "cell_type": "code",
   "execution_count": null,
   "id": "6f858763-14b7-40bb-8c4e-f2e95945bc1a",
   "metadata": {},
   "outputs": [],
   "source": []
  },
  {
   "cell_type": "markdown",
   "id": "1c39dc5f-2d4f-4538-ada2-ca5194be5d05",
   "metadata": {},
   "source": [
    "Write a file of expression changes, using the `sep` parameter to make a tab-delimited text file rather than the default CSV."
   ]
  },
  {
   "cell_type": "code",
   "execution_count": null,
   "id": "9a95542c-daf2-4ad1-afdd-5a045b7204af",
   "metadata": {},
   "outputs": [],
   "source": []
  }
 ],
 "metadata": {
  "kernelspec": {
   "display_name": "Python 3 (ipykernel)",
   "language": "python",
   "name": "python3"
  },
  "language_info": {
   "codemirror_mode": {
    "name": "ipython",
    "version": 3
   },
   "file_extension": ".py",
   "mimetype": "text/x-python",
   "name": "python",
   "nbconvert_exporter": "python",
   "pygments_lexer": "ipython3",
   "version": "3.9.10"
  }
 },
 "nbformat": 4,
 "nbformat_minor": 5
}
