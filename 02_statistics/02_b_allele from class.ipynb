{
 "cells": [
  {
   "cell_type": "markdown",
   "id": "1d1e8ccd-31cd-443c-86a1-28cca7a79341",
   "metadata": {},
   "source": [
    "### Allele-specific expression\n",
    "\n",
    "RNA sequencing can distinguish mRNAs expressed from from different copies of genes on homologous chromosomes when single-nucleotide polymorphisms (perhaps silent) distinguish the two alleles. \n",
    "\n",
    "Linkage between these distinctive SNPs and _cis_-regulatory sequences can provide information on regulatory variation within a shared cellular context.\n",
    "\n",
    "In the example below, the maternally derived copy of the gene has a `TGC` serine codon at the 2nd position and a functioning enhancer. The paternally derived allele has a `TGT` serine codon and a mutated enhancer.\n",
    "\n",
    "```\n",
    "Maternal: ----enhancer----ATGTGCACT...\n",
    "\n",
    "Paternal: ----exhxnxer----ATGTGTACT...\n",
    "```\n",
    "\n",
    "Because the paternal enhancer is mutated, we would expect most mRNA to derive from the maternal allele and thus most RNA-Seq reads should have a `C` rather than a `T`."
   ]
  },
  {
   "cell_type": "markdown",
   "id": "c60fe285-63b9-4d05-9c2f-c5f38ae45b20",
   "metadata": {},
   "source": [
    "### Null hypothesis testing\n",
    "\n",
    "The _null hypothesis_ in allele-specific expression analysis is that the alleles are expressed equally, and so each read is equally likely to be derived from each allele.\n",
    "\n",
    "Our actual data comes from _counting_ how many RNA-seq reads have the maternally-derived `C` variant and how many have the paternally-derived `T` variant.\n",
    "\n",
    "We want to build a complex probabilistic model of these read counts from a simpler model:\n",
    "* each read is equally likely to be a `C` or a `T`\n",
    "* each read is independent\n",
    "\n",
    "We will use this to ask — if we see an imbalance between maternally- and paternally-derived alleles — whether this imbalance is very unlikely to occur in our null model that reads are equally likely to come from each allele.\n",
    "\n",
    "We will do this in two ways: first we will actually perform random sampling, and second we will use a mathematical formula that fits this kind of model."
   ]
  },
  {
   "cell_type": "markdown",
   "id": "825960a4-85cf-4809-abc9-9f3ab2f736d6",
   "metadata": {},
   "source": [
    "#### Random sampling\n",
    "\n",
    "We begin by importing pandas"
   ]
  },
  {
   "cell_type": "code",
   "execution_count": 1,
   "id": "a4ffda0d-1032-47a3-8771-3c6684560e21",
   "metadata": {},
   "outputs": [],
   "source": [
    "import pandas as pd"
   ]
  },
  {
   "cell_type": "markdown",
   "id": "aa5b776f-bf54-4461-9fa4-c76ab650c1a0",
   "metadata": {},
   "source": [
    "Now we create a pandas `Series` object containing the two possible alleles.\n",
    "\n",
    "The _values_ will be the two possible genotypes and the _indexes_ will help us remember that one variant is maternally-derived and the other paternally-derived."
   ]
  },
  {
   "cell_type": "code",
   "execution_count": 3,
   "id": "0e79e6ce-cfc1-4c95-95b7-599408a09b97",
   "metadata": {},
   "outputs": [
    {
     "data": {
      "text/plain": [
       "mat    C\n",
       "pat    T\n",
       "dtype: object"
      ]
     },
     "execution_count": 3,
     "metadata": {},
     "output_type": "execute_result"
    }
   ],
   "source": [
    "alleles = pd.Series(['C', 'T'], index=['mat', 'pat'])\n",
    "alleles"
   ]
  },
  {
   "cell_type": "markdown",
   "id": "54f7b247-f116-425f-91e7-afe560d2b8fc",
   "metadata": {},
   "source": [
    "We can use the `sample` method to take one (by default) or more (using the `n=` parameter) random allele choices.\n",
    "\n",
    "When we're taking more than one random sample, we also need to use the `replace=True` parameter because the default is sampling without replacement, but sampling with replacement — that is, being able to randomly choose a given allele more than once — better models gene expression.\n",
    "\n",
    "We can then use the `value_counts` method to count up the number of maternal and paternal alleles seen across the randomly sampled reads."
   ]
  },
  {
   "cell_type": "code",
   "execution_count": 15,
   "id": "fb530247-e928-4f5f-87ae-dfec67ac38a0",
   "metadata": {},
   "outputs": [
    {
     "data": {
      "text/plain": [
       "3"
      ]
     },
     "execution_count": 15,
     "metadata": {},
     "output_type": "execute_result"
    }
   ],
   "source": [
    "alleles.sample(n=8, replace=True).value_counts()['T']"
   ]
  },
  {
   "cell_type": "markdown",
   "id": "33dad0e3-5ba6-428f-b24c-7fbcfdd2420b",
   "metadata": {},
   "source": [
    "Next we want to run this sampling procedure 10,000 times and count up how often we see zero `T` alleles out of eight reads, how often we see one `T` allele, and so forth.\n",
    "\n",
    "To do this, we will:\n",
    "* write a `for` loop to run 10,000 times\n",
    "* sample alleles from 8 reads\n",
    "* count `T` alleles in our sample (use the `get` method with default value 0)\n",
    "* add the count of `T` alleles to a list of sample counts\n",
    "* after generating all of our sample counts, convert them to a `Series` and find the value counts."
   ]
  },
  {
   "cell_type": "code",
   "execution_count": 18,
   "id": "c585a57f-3b56-4a9a-bee0-d79ee8d77c22",
   "metadata": {},
   "outputs": [
    {
     "data": {
      "text/plain": [
       "4    2748\n",
       "3    2172\n",
       "5    2145\n",
       "6    1161\n",
       "2    1092\n",
       "7     309\n",
       "1     287\n",
       "8      44\n",
       "0      42\n",
       "dtype: int64"
      ]
     },
     "execution_count": 18,
     "metadata": {},
     "output_type": "execute_result"
    }
   ],
   "source": [
    "sample_paternal_counts = []\n",
    "for _ in range(0,10000):\n",
    "    paternal_count = alleles.sample(n=8, replace=True).value_counts().get('T', 0)\n",
    "    sample_paternal_counts.append(paternal_count)\n",
    "paternal_freqs = pd.Series(sample_paternal_counts).value_counts()\n",
    "paternal_freqs"
   ]
  },
  {
   "cell_type": "markdown",
   "id": "dc029d36-fd83-4482-bf22-c5e75973e879",
   "metadata": {},
   "source": [
    "We can divide these by the total number of random samples we generated in order to get a normalized probability.\n",
    "\n",
    "We can also sort them for easier reading using `sort_index`"
   ]
  },
  {
   "cell_type": "code",
   "execution_count": 20,
   "id": "9274d34a-4c2a-472b-a619-72cf50b25968",
   "metadata": {},
   "outputs": [
    {
     "data": {
      "text/plain": [
       "0    0.0042\n",
       "1    0.0287\n",
       "2    0.1092\n",
       "3    0.2172\n",
       "4    0.2748\n",
       "5    0.2145\n",
       "6    0.1161\n",
       "7    0.0309\n",
       "8    0.0044\n",
       "dtype: float64"
      ]
     },
     "execution_count": 20,
     "metadata": {},
     "output_type": "execute_result"
    }
   ],
   "source": [
    "paternal_probs = paternal_freqs / 10000\n",
    "paternal_probs = paternal_probs.sort_index()\n",
    "paternal_probs"
   ]
  },
  {
   "cell_type": "markdown",
   "id": "93582ca7-9f07-4ca9-8e98-fa22af5673e0",
   "metadata": {},
   "source": [
    "We can compute the probability of seeing _exactly_ 2 paternally-derived alleles"
   ]
  },
  {
   "cell_type": "code",
   "execution_count": 21,
   "id": "e35ccf57-fb94-418d-9d44-0e0476eb5c1e",
   "metadata": {},
   "outputs": [
    {
     "data": {
      "text/plain": [
       "0.1092"
      ]
     },
     "execution_count": 21,
     "metadata": {},
     "output_type": "execute_result"
    }
   ],
   "source": [
    "paternal_probs[2]"
   ]
  },
  {
   "cell_type": "markdown",
   "id": "4a4f74e4-d4ff-4fd9-af22-4dcfe5389213",
   "metadata": {},
   "source": [
    "We can also compute the probability of seeing _no more than_ 2 paternally-derived alelles"
   ]
  },
  {
   "cell_type": "code",
   "execution_count": 23,
   "id": "391064f6-8a61-48cb-b34e-7f803e4152b2",
   "metadata": {},
   "outputs": [
    {
     "data": {
      "text/plain": [
       "0.1421"
      ]
     },
     "execution_count": 23,
     "metadata": {},
     "output_type": "execute_result"
    }
   ],
   "source": [
    "paternal_probs[0:3].sum()"
   ]
  },
  {
   "cell_type": "markdown",
   "id": "b6845192-e200-4e41-9a0d-192288929756",
   "metadata": {},
   "source": [
    "Lastly, we'll use matplotlib to plot this distribution."
   ]
  },
  {
   "cell_type": "code",
   "execution_count": 24,
   "id": "9f6e5074-849f-48f6-a200-c26d425aaee4",
   "metadata": {},
   "outputs": [
    {
     "data": {
      "text/plain": [
       "[<matplotlib.lines.Line2D at 0x7f68c61b27c0>]"
      ]
     },
     "execution_count": 24,
     "metadata": {},
     "output_type": "execute_result"
    },
    {
     "data": {
      "image/png": "[encoded data removed]",
      "text/plain": [
       "<Figure size 432x288 with 1 Axes>"
      ]
     },
     "metadata": {
      "needs_background": "light"
     },
     "output_type": "display_data"
    }
   ],
   "source": [
    "import matplotlib.pyplot as plt\n",
    "plt.plot(paternal_probs)"
   ]
  },
  {
   "cell_type": "markdown",
   "id": "be12f133-e7af-4d19-837a-ada3e56c8151",
   "metadata": {},
   "source": [
    "Later, we'll want to look at random samples taken with different numbers of reads. We'll also want to control the number of samples we take. To simplify this, we'll package up all of our random sampling code into a function that has parameters to control the number of reads in each sample and the total number of samples."
   ]
  },
  {
   "cell_type": "code",
   "execution_count": 31,
   "id": "bc4310c4-242b-41be-af91-19252439e845",
   "metadata": {},
   "outputs": [],
   "source": [
    "# We didn't get to this in class\n",
    "\n",
    "\n",
    "def sample_paternal_probs(nread=8, nsample=10000):\n",
    "    alleles = pd.Series(['C', 'T'])\n",
    "    sample_counts = []\n",
    "    for _ in range(0, nsample):\n",
    "        maternal_count = alleles.sample(n = nread, replace=True).value_counts().get('T', 0)\n",
    "        sample_counts.append(maternal_count)\n",
    "    sample_freqs = pd.Series(sample_counts).value_counts().sort_index()\n",
    "    return(sample_freqs / nsample)\n",
    "\n"
   ]
  },
  {
   "cell_type": "markdown",
   "id": "98e30644-9035-4fba-b542-34b1e6eab82e",
   "metadata": {},
   "source": [
    "To test our function, we will sample probabilities for 16 reads."
   ]
  },
  {
   "cell_type": "code",
   "execution_count": 25,
   "id": "432e71f0-82c3-475d-9d5c-9bc69fc7b719",
   "metadata": {},
   "outputs": [
    {
     "data": {
      "text/plain": [
       "2     0.0025\n",
       "3     0.0075\n",
       "4     0.0308\n",
       "5     0.0649\n",
       "6     0.1212\n",
       "7     0.1806\n",
       "8     0.1981\n",
       "9     0.1747\n",
       "10    0.1195\n",
       "11    0.0628\n",
       "12    0.0274\n",
       "13    0.0080\n",
       "14    0.0018\n",
       "15    0.0002\n",
       "dtype: float64"
      ]
     },
     "execution_count": 25,
     "metadata": {},
     "output_type": "execute_result"
    }
   ],
   "source": [
    "sample_paternal_counts = []\n",
    "for _ in range(0,10000):\n",
    "    paternal_count = alleles.sample(n=16, replace=True).value_counts().get('T', 0)\n",
    "    sample_paternal_counts.append(paternal_count)\n",
    "paternal_freqs = pd.Series(sample_paternal_counts).value_counts()\n",
    "paternal_probs_16 = paternal_freqs / 10000\n",
    "paternal_probs_16 = paternal_probs_16.sort_index()\n",
    "paternal_probs_16"
   ]
  },
  {
   "cell_type": "markdown",
   "id": "af589d0b-971d-483f-bbda-0935ba4b3d3c",
   "metadata": {},
   "source": [
    "#### The binomial distribution\n",
    "\n",
    "Our probabilistic model of counting up the results of several independent trials is very common in probability. From a mathematical perspective, it's the same as counting the number of heads that come up out of _N_ total coin tosses.\n",
    "\n",
    "This number follows a _binomial distribution_. We can compute\n",
    "$$P(\\;k\\;\\text{heads out of}\\;N\\;\\text{coin tosses})$$\n",
    "using\n",
    "```\n",
    "binom.pmf(k, N, 0.5)\n",
    "```\n",
    "The `0.5` parameter here is the probability of a head for each coin toss — the `binom.pmf` function can compute probabilities for a _biased_ coin where the chances of a head are not exactly $\\frac{1}{2}$.\n",
    "\n",
    "The `binom.pmf` function comes from the `binom` module in `scipy.stats`. We'll import this and then compute a probability under the binomial model for exactly 2 paternally-derived reads out of 8 coin tosses."
   ]
  },
  {
   "cell_type": "code",
   "execution_count": 26,
   "id": "57ac0c92-cb05-4b3a-a5db-035a0fa6cabd",
   "metadata": {},
   "outputs": [
    {
     "data": {
      "text/plain": [
       "0.10937500000000004"
      ]
     },
     "execution_count": 26,
     "metadata": {},
     "output_type": "execute_result"
    }
   ],
   "source": [
    "from scipy.stats import binom\n",
    "binom.pmf(2, 8, 0.5)"
   ]
  },
  {
   "cell_type": "markdown",
   "id": "c359bd36-96cf-48fb-826b-43fe08ac46ec",
   "metadata": {},
   "source": [
    "This binomial probability is very close to the value we got by random sampling!\n",
    "\n",
    "We can also construct the whole table of binomial probabilities by using a `range()` for the $k$ parameter."
   ]
  },
  {
   "cell_type": "code",
   "execution_count": 29,
   "id": "72bee230-faf5-4d1f-8aff-492837446d32",
   "metadata": {},
   "outputs": [
    {
     "data": {
      "text/plain": [
       "0    0.003906\n",
       "1    0.031250\n",
       "2    0.109375\n",
       "3    0.218750\n",
       "4    0.273437\n",
       "5    0.218750\n",
       "6    0.109375\n",
       "7    0.031250\n",
       "8    0.003906\n",
       "dtype: float64"
      ]
     },
     "execution_count": 29,
     "metadata": {},
     "output_type": "execute_result"
    }
   ],
   "source": [
    "binom_probs_8 = pd.Series(binom.pmf(range(0, 9), 8, 0.5), index=range(0,9))\n",
    "binom_probs_8"
   ]
  },
  {
   "cell_type": "markdown",
   "id": "910dd2d3-d90c-4c82-91ea-eb362bf3641f",
   "metadata": {},
   "source": [
    "We can plot the binomial probabilities and the random sampling probabilities on the same graph and compare them.\n",
    "\n",
    "We can also control the plot styles: I'll use the `'b-'` parameter for blue lines and the `'ro'` parameter for red dots. "
   ]
  },
  {
   "cell_type": "code",
   "execution_count": 30,
   "id": "c4c8693a-95bf-4d7f-9cb6-93c410ec90a6",
   "metadata": {},
   "outputs": [
    {
     "data": {
      "text/plain": [
       "[<matplotlib.lines.Line2D at 0x7f68bbaef430>]"
      ]
     },
     "execution_count": 30,
     "metadata": {},
     "output_type": "execute_result"
    },
    {
     "data": {
      "image/png": "[encoded data removed]",
      "text/plain": [
       "<Figure size 432x288 with 1 Axes>"
      ]
     },
     "metadata": {
      "needs_background": "light"
     },
     "output_type": "display_data"
    }
   ],
   "source": [
    "plt.plot(binom_probs_8, 'b-')\n",
    "plt.plot(paternal_probs, 'ro')"
   ]
  },
  {
   "cell_type": "markdown",
   "id": "598a0680-d7b1-4b35-ae6e-d72fdccb5108",
   "metadata": {},
   "source": [
    "#### More reads give more certainty\n",
    "\n",
    "In this binomial model — and in other more realistic models of deep sequencing data — greater sequencing depth gives more statistical power to reject the null hypothesis.\n",
    "\n",
    "To see this effect in action for the binomial model of allele-specific expression, consider two possibilities:\n",
    "* No more than one quarter of 8 reads are paternally-derived\n",
    "* No more than one quarter of 16 reads are paternally-derived\n",
    "\n",
    "In both cases, the _magnitude_ of the paternal vs maternal skew is 1:3."
   ]
  },
  {
   "cell_type": "code",
   "execution_count": 32,
   "id": "a905fd72-8cd0-48c0-857f-8e9df555e6bc",
   "metadata": {},
   "outputs": [
    {
     "name": "stdout",
     "output_type": "stream",
     "text": [
      "8 reads: 0.14453125000000003\n",
      "16 reads: 0.0384063720703125\n"
     ]
    }
   ],
   "source": [
    "# We didn't get to this in class\n",
    "print('8 reads: ' + str(binom.pmf(range(0,3), 8, 0.5).sum()))\n",
    "print('16 reads: ' + str(binom.pmf(range(0, 5), 16, 0.5).sum()))\n"
   ]
  },
  {
   "cell_type": "code",
   "execution_count": null,
   "id": "8ed7e129-3fcc-47df-b28c-b3fada3078b5",
   "metadata": {},
   "outputs": [],
   "source": []
  }
 ],
 "metadata": {
  "kernelspec": {
   "display_name": "Python 3 (ipykernel)",
   "language": "python",
   "name": "python3"
  },
  "language_info": {
   "codemirror_mode": {
    "name": "ipython",
    "version": 3
   },
   "file_extension": ".py",
   "mimetype": "text/x-python",
   "name": "python",
   "nbconvert_exporter": "python",
   "pygments_lexer": "ipython3",
   "version": "3.9.9"
  }
 },
 "nbformat": 4,
 "nbformat_minor": 5
}
